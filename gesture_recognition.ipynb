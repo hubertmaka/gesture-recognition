{
  "nbformat": 4,
  "nbformat_minor": 0,
  "metadata": {
    "colab": {
      "provenance": [],
      "authorship_tag": "ABX9TyOQHfTP0EvSGtMys4hGK5Lu",
      "include_colab_link": true
    },
    "kernelspec": {
      "name": "python3",
      "display_name": "Python 3"
    },
    "language_info": {
      "name": "python"
    }
  },
  "cells": [
    {
      "cell_type": "markdown",
      "metadata": {
        "id": "view-in-github",
        "colab_type": "text"
      },
      "source": [
        "<a href=\"https://colab.research.google.com/github/hubertmaka/gesture-recognition/blob/main/gesture_recognition.ipynb\" target=\"_parent\"><img src=\"https://colab.research.google.com/assets/colab-badge.svg\" alt=\"Open In Colab\"/></a>"
      ]
    },
    {
      "cell_type": "code",
      "execution_count": null,
      "metadata": {
        "id": "Pd2GsBJEMKAs"
      },
      "outputs": [],
      "source": []
    },
    {
      "cell_type": "code",
      "source": [
        "from google.colab import drive\n",
        "drive.mount('/content/drive')"
      ],
      "metadata": {
        "id": "eBRsbkaFEDHl",
        "outputId": "c75437e4-958d-4ca0-dea3-61173b64c09d",
        "colab": {
          "base_uri": "https://localhost:8080/"
        }
      },
      "execution_count": 1,
      "outputs": [
        {
          "output_type": "stream",
          "name": "stdout",
          "text": [
            "Mounted at /content/drive\n"
          ]
        }
      ]
    },
    {
      "cell_type": "code",
      "source": [
        "import tarfile\n",
        "from tqdm import tqdm\n",
        "import os\n",
        "\n",
        "tar_file = '/content/drive/MyDrive/gesture-recognition/jester_Dataset_archived/jester_ds.tar'\n",
        "output_dir = '/content/drive/MyDrive/gesture-recognition/jester_Dataset/videos'\n",
        "\n",
        "with tarfile.open(tar_file, 'r') as tar:\n",
        "    # Getting all files\n",
        "    members = tar.getmembers()\n",
        "\n",
        "    with tqdm(total=len(members), desc=\"Extracting\", unit=\"plik\") as pbar:\n",
        "        for member in members:\n",
        "            member_path = os.path.join(output_dir, member.name)\n",
        "\n",
        "            if os.path.exists(member_path):\n",
        "                pbar.update(1)\n",
        "                continue\n",
        "\n",
        "            tar.extract(member, path=output_dir)\n",
        "\n",
        "            pbar.update(1)\n"
      ],
      "metadata": {
        "id": "yqd6RYhIEE-S"
      },
      "execution_count": null,
      "outputs": []
    }
  ]
}