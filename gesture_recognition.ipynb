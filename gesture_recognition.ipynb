{
  "nbformat": 4,
  "nbformat_minor": 0,
  "metadata": {
    "colab": {
      "provenance": [],
      "machine_shape": "hm",
      "gpuType": "L4",
      "authorship_tag": "ABX9TyN5EpMtWYrQRNNJ+NWSCUB7",
      "include_colab_link": true
    },
    "kernelspec": {
      "name": "python3",
      "display_name": "Python 3"
    },
    "language_info": {
      "name": "python"
    },
    "accelerator": "GPU"
  },
  "cells": [
    {
      "cell_type": "markdown",
      "metadata": {
        "id": "view-in-github",
        "colab_type": "text"
      },
      "source": [
        "<a href=\"https://colab.research.google.com/github/hubertmaka/gesture-recognition/blob/main/gesture_recognition.ipynb\" target=\"_parent\"><img src=\"https://colab.research.google.com/assets/colab-badge.svg\" alt=\"Open In Colab\"/></a>"
      ]
    },
    {
      "cell_type": "markdown",
      "source": [
        "# Gesture Recognition Notebook"
      ],
      "metadata": {
        "id": "pX9-C4Vx11s5"
      }
    },
    {
      "cell_type": "markdown",
      "source": [
        "## 1. Mount Google Drive"
      ],
      "metadata": {
        "id": "qrVxf1vt3KNO"
      }
    },
    {
      "cell_type": "code",
      "source": [
        "from google.colab import drive\n",
        "drive.mount('/content/drive')"
      ],
      "metadata": {
        "id": "eBRsbkaFEDHl",
        "outputId": "4401ac3c-c900-4e8b-90e8-7f0ec1b28d7e",
        "colab": {
          "base_uri": "https://localhost:8080/"
        }
      },
      "execution_count": 1,
      "outputs": [
        {
          "output_type": "stream",
          "name": "stdout",
          "text": [
            "Mounted at /content/drive\n"
          ]
        }
      ]
    },
    {
      "cell_type": "markdown",
      "source": [
        "### 2. Unpack dataset on Google Drive"
      ],
      "metadata": {
        "id": "9qTeuBRt2-mx"
      }
    },
    {
      "cell_type": "code",
      "source": [
        "import zipfile\n",
        "import os\n",
        "from tqdm import tqdm\n",
        "\n",
        "def unzip_file_with_progress(zip_file_path, output_dir):\n",
        "    if not os.path.exists(zip_file_path):\n",
        "        print(f\"File {zip_file_path} does not exist.\")\n",
        "        return\n",
        "\n",
        "    if not os.path.exists(output_dir):\n",
        "        os.makedirs(output_dir)\n",
        "\n",
        "    with zipfile.ZipFile(zip_file_path, 'r') as zip_ref:\n",
        "        file_list = zip_ref.infolist()\n",
        "        total_files = len(file_list)\n",
        "\n",
        "        with tqdm(total=total_files, unit='file') as pbar:\n",
        "            for file_info in file_list:\n",
        "                zip_ref.extract(file_info, output_dir)\n",
        "                pbar.update(1)\n",
        "\n",
        "        print(f\"File {zip_file_path} unarchived to {output_dir}\")\n",
        "\n",
        "def unzip_all_files_in_folder():\n",
        "  for i in range(1, 18):\n",
        "    zip_file_path = f'/content/drive/MyDrive/gesture-recognition/kat{i}.zip'\n",
        "    output_dir = f'/content/drive/MyDrive/gesture-recognition/data/kat{i}'\n",
        "    unzip_file_with_progress(zip_file_path, output_dir)\n"
      ],
      "metadata": {
        "id": "G9dYZl_AMo_g"
      },
      "execution_count": null,
      "outputs": []
    },
    {
      "cell_type": "markdown",
      "source": [
        "## 3. Import libraries"
      ],
      "metadata": {
        "id": "TG_HyrLT5OZx"
      }
    },
    {
      "cell_type": "code",
      "source": [
        "import os\n",
        "import datetime\n",
        "import logging\n",
        "from dataclasses import dataclass\n",
        "import sys\n",
        "\n",
        "from tqdm import tqdm\n",
        "import numpy as np\n",
        "import pandas as pd\n",
        "import tensorflow as tf\n",
        "import keras\n",
        "import matplotlib.pyplot as plt\n",
        "import matplotlib as matplb"
      ],
      "metadata": {
        "id": "GkaLToLX5Pcy"
      },
      "execution_count": 2,
      "outputs": []
    },
    {
      "cell_type": "code",
      "source": [
        "print(f\"TensorFlow Version: {tf.__version__}\")\n",
        "print(f\"Keras Version: {keras.__version__}\")\n",
        "print(f\"Pandas Version: {pd.__version__}\")\n",
        "print(f\"Numpy Version: {np.__version__}\")\n",
        "print(f\"Matplotlib Version: {matplb.__version__}\")\n",
        "print(f\"Python Version: {sys.version}\")"
      ],
      "metadata": {
        "id": "SAs4Wew1525l",
        "outputId": "ab4134d4-97a5-4067-cecd-1bd8282d2065",
        "colab": {
          "base_uri": "https://localhost:8080/"
        }
      },
      "execution_count": 3,
      "outputs": [
        {
          "output_type": "stream",
          "name": "stdout",
          "text": [
            "TensorFlow Version: 2.17.0\n",
            "Keras Version: 3.4.1\n",
            "Pandas Version: 2.2.2\n",
            "Numpy Version: 1.26.4\n",
            "Matplotlib Version: 3.7.1\n",
            "Python Version: 3.10.12 (main, Sep 11 2024, 15:47:36) [GCC 11.4.0]\n"
          ]
        }
      ]
    },
    {
      "cell_type": "code",
      "source": [
        "JESTER_DATASET_DIR_PATH = os.path.join(\"/\", \"content\", \"drive\", \"MyDrive\", \"gesture-recognition\")\n",
        "TRAIN_INFO_PATH = os.path.join(JESTER_DATASET_DIR_PATH, \"info\", \"jester-v1-train.csv\")\n",
        "VAL_INFO_PATH = os.path.join(JESTER_DATASET_DIR_PATH, \"info\", \"jester-v1-validation.csv\")\n",
        "TEST_INFO_PATH = os.path.join(JESTER_DATASET_DIR_PATH, \"info\", \"jester-v1-test.csv\")\n",
        "LABELS_INFO_PATH = os.path.join(JESTER_DATASET_DIR_PATH, \"info\", 'jester-v1-labels.csv')\n",
        "VIDEO_DIR_PATH = os.path.join(JESTER_DATASET_DIR_PATH, \"data\")"
      ],
      "metadata": {
        "id": "352E8ZCucdUS"
      },
      "execution_count": 4,
      "outputs": []
    },
    {
      "cell_type": "markdown",
      "source": [
        "## 4. Dataset analysis"
      ],
      "metadata": {
        "id": "zLRkUPDg10g6"
      }
    },
    {
      "cell_type": "markdown",
      "source": [
        "### 4.1 Config:"
      ],
      "metadata": {
        "id": "IdqotB-x6aoh"
      }
    },
    {
      "cell_type": "code",
      "source": [
        "pd.options.mode.copy_on_write = True\n",
        "DIR_SPLIT_BATCH_SIZE = 9000"
      ],
      "metadata": {
        "id": "bynKMMVR4-oW"
      },
      "execution_count": null,
      "outputs": []
    },
    {
      "cell_type": "markdown",
      "source": [
        "### 4.2 Data preprocessing:"
      ],
      "metadata": {
        "id": "TayJiQMH6lR_"
      }
    },
    {
      "cell_type": "code",
      "source": [
        "column_names = [\"video_id\", \"label\"]\n",
        "train_df = pd.read_csv(TRAIN_INFO_PATH, names=column_names, header=None, delimiter=\";\")\n",
        "val_df = pd.read_csv(VAL_INFO_PATH, names=column_names, header=None, delimiter=\";\")\n",
        "test_df = pd.read_csv(TEST_INFO_PATH, names=column_names, header=None, delimiter=\";\")"
      ],
      "metadata": {
        "id": "JiPHnPTZ6KAu"
      },
      "execution_count": null,
      "outputs": []
    },
    {
      "cell_type": "code",
      "source": [
        "train_df"
      ],
      "metadata": {
        "id": "xy5rHBXU7Ngk"
      },
      "execution_count": null,
      "outputs": []
    },
    {
      "cell_type": "code",
      "source": [
        "# @title Distribution of Hand Gesture Labels In Train Subset\n",
        "\n",
        "plt.figure(figsize=(10, 6))\n",
        "train_df['label'].value_counts().plot(kind='bar')\n",
        "plt.xlabel('Hand Gesture Label')\n",
        "plt.ylabel('Frequency')\n",
        "_ = plt.title('Distribution of Hand Gesture Labels In Train Subset')"
      ],
      "metadata": {
        "id": "MTumr0z-88lc",
        "outputId": "d3c977e7-a8cf-47a5-ce8a-8e3040a3988a",
        "colab": {
          "base_uri": "https://localhost:8080/",
          "height": 768
        }
      },
      "execution_count": null,
      "outputs": [
        {
          "output_type": "display_data",
          "data": {
            "text/plain": [
              "<Figure size 1000x600 with 1 Axes>"
            ],
            "image/png": "[encoded data removed]"
          },
          "metadata": {}
        }
      ]
    },
    {
      "cell_type": "code",
      "source": [
        "val_df"
      ],
      "metadata": {
        "id": "TdDHWrGD7c9K"
      },
      "execution_count": null,
      "outputs": []
    },
    {
      "source": [
        "# @title Distribution of Hand Gesture Labels In Val Subset\n",
        "\n",
        "plt.figure(figsize=(10, 6))\n",
        "val_df['label'].value_counts().plot(kind='bar')\n",
        "plt.xlabel('Hand Gesture Label')\n",
        "plt.ylabel('Frequency')\n",
        "_ = plt.title('Distribution of Hand Gesture Labels In Val Subset')"
      ],
      "cell_type": "code",
      "execution_count": null,
      "outputs": [],
      "metadata": {
        "id": "Rwwbxfsz8wIh"
      }
    },
    {
      "cell_type": "code",
      "source": [
        "test_df"
      ],
      "metadata": {
        "id": "hyTSkes273Z-"
      },
      "execution_count": null,
      "outputs": []
    },
    {
      "cell_type": "code",
      "source": [
        "print(f\"Number of all videos: {len(train_df) + len(val_df) + len(test_df)}\")"
      ],
      "metadata": {
        "id": "12cr8fYp71_E"
      },
      "execution_count": null,
      "outputs": []
    },
    {
      "cell_type": "markdown",
      "source": [
        "#### Loading labels:"
      ],
      "metadata": {
        "id": "xVZ5GysR-QFA"
      }
    },
    {
      "cell_type": "code",
      "source": [
        "jester_labels = {}\n",
        "with open(LABELS_INFO_PATH) as f:\n",
        "    for idx2, line in enumerate(f):\n",
        "        jester_labels[line.strip()] = idx2"
      ],
      "metadata": {
        "id": "RBU6IfRT-C4U"
      },
      "execution_count": null,
      "outputs": []
    },
    {
      "cell_type": "code",
      "source": [
        "jester_labels"
      ],
      "metadata": {
        "id": "HnqTpj6q-qUh"
      },
      "execution_count": null,
      "outputs": []
    },
    {
      "cell_type": "markdown",
      "source": [
        "#### Adding label id to DataFrame:"
      ],
      "metadata": {
        "id": "EraZbP84-0yM"
      }
    },
    {
      "cell_type": "code",
      "source": [
        "train_df[\"label_id\"] = train_df[\"label\"].apply(lambda label: jester_labels.get(label))\n",
        "val_df[\"label_id\"] = train_df[\"label\"].apply(lambda label: jester_labels.get(label))"
      ],
      "metadata": {
        "id": "leGyb-wC-s3B"
      },
      "execution_count": null,
      "outputs": []
    },
    {
      "cell_type": "code",
      "source": [
        "train_df"
      ],
      "metadata": {
        "id": "lOyREyQ2-8Nn"
      },
      "execution_count": null,
      "outputs": []
    },
    {
      "cell_type": "code",
      "source": [
        "val_df"
      ],
      "metadata": {
        "id": "Uos3J6dU--_n"
      },
      "execution_count": null,
      "outputs": []
    },
    {
      "cell_type": "markdown",
      "source": [
        "#### Adding Video Path To DataFrame:"
      ],
      "metadata": {
        "id": "hzxRvnSt_B2r"
      }
    },
    {
      "cell_type": "code",
      "source": [
        "def get_directory_path(catalog_id, main_directory, batch_size):\n",
        "  batch_num = (catalog_id - 1) // batch_size + 1\n",
        "  batch_dir = f\"kat{batch_num}\"\n",
        "  directory_path = os.path.join(main_directory, batch_dir, str(catalog_id))\n",
        "  return directory_path"
      ],
      "metadata": {
        "id": "BR2pJhJv-_7g"
      },
      "execution_count": null,
      "outputs": []
    },
    {
      "cell_type": "code",
      "source": [
        "train_df[\"path\"] = train_df[\"video_id\"].apply(lambda video_id: get_directory_path(main_directory=VIDEO_DIR_PATH, catalog_id=video_id, batch_size=DIR_SPLIT_BATCH_SIZE))\n",
        "val_df[\"path\"] = val_df[\"video_id\"].apply(lambda video_id: get_directory_path(main_directory=VIDEO_DIR_PATH, catalog_id=video_id, batch_size=DIR_SPLIT_BATCH_SIZE))"
      ],
      "metadata": {
        "id": "tBaX_f4X_KUc"
      },
      "execution_count": null,
      "outputs": []
    },
    {
      "cell_type": "code",
      "source": [
        "train_df"
      ],
      "metadata": {
        "id": "UtLLZQHY_aSI"
      },
      "execution_count": null,
      "outputs": []
    },
    {
      "cell_type": "code",
      "source": [
        "val_df"
      ],
      "metadata": {
        "id": "j5wCVkg__fQC"
      },
      "execution_count": null,
      "outputs": []
    },
    {
      "cell_type": "markdown",
      "source": [
        "#### Mapping Labels To DataFrame:"
      ],
      "metadata": {
        "id": "qJwlNHvC_S9L"
      }
    },
    {
      "cell_type": "code",
      "source": [
        "mapped_labels = train_df[[\"label\", \"label_id\"]].drop_duplicates().sort_values(by=[\"label_id\"])"
      ],
      "metadata": {
        "id": "BF9OeAAZ_sf8"
      },
      "execution_count": null,
      "outputs": []
    },
    {
      "cell_type": "code",
      "source": [
        "mapped_labels"
      ],
      "metadata": {
        "id": "OggybIS6_vyC"
      },
      "execution_count": null,
      "outputs": []
    },
    {
      "cell_type": "markdown",
      "source": [
        "#### Getting Sequence Length:"
      ],
      "metadata": {
        "id": "qOsg0PEi_S4a"
      }
    },
    {
      "cell_type": "code",
      "source": [
        "def get_sequence_len(path: str) -> int:\n",
        "  return len([file for file in os.listdir(path) if file.endswith(\".jpg\")])"
      ],
      "metadata": {
        "id": "l0B5NFLGAAwi"
      },
      "execution_count": null,
      "outputs": []
    },
    {
      "cell_type": "code",
      "source": [
        "train_df[\"seq_len\"] = train_df[\"path\"].apply(lambda path: get_sequence_len(path))\n",
        "val_df[\"seq_len\"] = val_df[\"path\"].apply(lambda path: get_sequence_len(path))"
      ],
      "metadata": {
        "id": "AljipugqAC-O"
      },
      "execution_count": null,
      "outputs": []
    },
    {
      "cell_type": "code",
      "source": [
        "train_df"
      ],
      "metadata": {
        "id": "wT0LO-HQAFM8"
      },
      "execution_count": null,
      "outputs": []
    },
    {
      "cell_type": "code",
      "source": [
        "val_df"
      ],
      "metadata": {
        "id": "9c18NjcrAG1k"
      },
      "execution_count": null,
      "outputs": []
    },
    {
      "cell_type": "markdown",
      "source": [
        "#### Saving DataFrames to csv files:"
      ],
      "metadata": {
        "id": "qn31CjPaS_E3"
      }
    },
    {
      "cell_type": "code",
      "source": [
        "train_df.to_csv(os.path.join(JESTER_DATASET_DIR_PATH, \"info\", \"train_df.csv\"), index=False)"
      ],
      "metadata": {
        "id": "f-g_uLauAHbV"
      },
      "execution_count": null,
      "outputs": []
    },
    {
      "cell_type": "code",
      "source": [
        "val_df.to_csv(os.path.join(JESTER_DATASET_DIR_PATH, \"info\", \"val_df.csv\"), index=False)"
      ],
      "metadata": {
        "id": "3CRXZZeLHIk3"
      },
      "execution_count": null,
      "outputs": []
    },
    {
      "cell_type": "markdown",
      "source": [
        "## 5. Prepare Data Info To Pipeline"
      ],
      "metadata": {
        "id": "1673fPfEIbEP"
      }
    },
    {
      "cell_type": "markdown",
      "source": [
        "### 5.1 Config:"
      ],
      "metadata": {
        "id": "PLK5dPQ7I8o4"
      }
    },
    {
      "cell_type": "code",
      "source": [
        "train_df = pd.read_csv(os.path.join(JESTER_DATASET_DIR_PATH, \"info\", \"train_df.csv\"))\n",
        "val_df = pd.read_csv(os.path.join(JESTER_DATASET_DIR_PATH, \"info\", \"val_df.csv\"))"
      ],
      "metadata": {
        "id": "9fpxJXg8cKAF"
      },
      "execution_count": 5,
      "outputs": []
    },
    {
      "cell_type": "code",
      "source": [
        "labels_info = pd.read_csv(os.path.join(JESTER_DATASET_DIR_PATH, \"info\", \"jester-v1-labels.csv\"))\n",
        "labels_info"
      ],
      "metadata": {
        "id": "qeejZ8QbJG2e",
        "colab": {
          "base_uri": "https://localhost:8080/",
          "height": 855
        },
        "outputId": "db14e773-462e-480c-f785-e1b25773af7b"
      },
      "execution_count": 6,
      "outputs": [
        {
          "output_type": "execute_result",
          "data": {
            "text/plain": [
              "                     Swiping Left\n",
              "0                   Swiping Right\n",
              "1                    Swiping Down\n",
              "2                      Swiping Up\n",
              "3               Pushing Hand Away\n",
              "4                 Pulling Hand In\n",
              "5        Sliding Two Fingers Left\n",
              "6       Sliding Two Fingers Right\n",
              "7        Sliding Two Fingers Down\n",
              "8          Sliding Two Fingers Up\n",
              "9        Pushing Two Fingers Away\n",
              "10         Pulling Two Fingers In\n",
              "11           Rolling Hand Forward\n",
              "12          Rolling Hand Backward\n",
              "13         Turning Hand Clockwise\n",
              "14  Turning Hand Counterclockwise\n",
              "15      Zooming In With Full Hand\n",
              "16     Zooming Out With Full Hand\n",
              "17    Zooming In With Two Fingers\n",
              "18   Zooming Out With Two Fingers\n",
              "19                       Thumb Up\n",
              "20                     Thumb Down\n",
              "21                   Shaking Hand\n",
              "22                      Stop Sign\n",
              "23               Drumming Fingers\n",
              "24                     No gesture\n",
              "25             Doing other things"
            ],
            "text/html": [
              "\n",
              "  <div id=\"df-55f3175b-f05b-471d-a7b2-56f50b582dfc\" class=\"colab-df-container\">\n",
              "    <div>\n",
              "<style scoped>\n",
              "    .dataframe tbody tr th:only-of-type {\n",
              "        vertical-align: middle;\n",
              "    }\n",
              "\n",
              "    .dataframe tbody tr th {\n",
              "        vertical-align: top;\n",
              "    }\n",
              "\n",
              "    .dataframe thead th {\n",
              "        text-align: right;\n",
              "    }\n",
              "</style>\n",
              "<table border=\"1\" class=\"dataframe\">\n",
              "  <thead>\n",
              "    <tr style=\"text-align: right;\">\n",
              "      <th></th>\n",
              "      <th>Swiping Left</th>\n",
              "    </tr>\n",
              "  </thead>\n",
              "  <tbody>\n",
              "    <tr>\n",
              "      <th>0</th>\n",
              "      <td>Swiping Right</td>\n",
              "    </tr>\n",
              "    <tr>\n",
              "      <th>1</th>\n",
              "      <td>Swiping Down</td>\n",
              "    </tr>\n",
              "    <tr>\n",
              "      <th>2</th>\n",
              "      <td>Swiping Up</td>\n",
              "    </tr>\n",
              "    <tr>\n",
              "      <th>3</th>\n",
              "      <td>Pushing Hand Away</td>\n",
              "    </tr>\n",
              "    <tr>\n",
              "      <th>4</th>\n",
              "      <td>Pulling Hand In</td>\n",
              "    </tr>\n",
              "    <tr>\n",
              "      <th>5</th>\n",
              "      <td>Sliding Two Fingers Left</td>\n",
              "    </tr>\n",
              "    <tr>\n",
              "      <th>6</th>\n",
              "      <td>Sliding Two Fingers Right</td>\n",
              "    </tr>\n",
              "    <tr>\n",
              "      <th>7</th>\n",
              "      <td>Sliding Two Fingers Down</td>\n",
              "    </tr>\n",
              "    <tr>\n",
              "      <th>8</th>\n",
              "      <td>Sliding Two Fingers Up</td>\n",
              "    </tr>\n",
              "    <tr>\n",
              "      <th>9</th>\n",
              "      <td>Pushing Two Fingers Away</td>\n",
              "    </tr>\n",
              "    <tr>\n",
              "      <th>10</th>\n",
              "      <td>Pulling Two Fingers In</td>\n",
              "    </tr>\n",
              "    <tr>\n",
              "      <th>11</th>\n",
              "      <td>Rolling Hand Forward</td>\n",
              "    </tr>\n",
              "    <tr>\n",
              "      <th>12</th>\n",
              "      <td>Rolling Hand Backward</td>\n",
              "    </tr>\n",
              "    <tr>\n",
              "      <th>13</th>\n",
              "      <td>Turning Hand Clockwise</td>\n",
              "    </tr>\n",
              "    <tr>\n",
              "      <th>14</th>\n",
              "      <td>Turning Hand Counterclockwise</td>\n",
              "    </tr>\n",
              "    <tr>\n",
              "      <th>15</th>\n",
              "      <td>Zooming In With Full Hand</td>\n",
              "    </tr>\n",
              "    <tr>\n",
              "      <th>16</th>\n",
              "      <td>Zooming Out With Full Hand</td>\n",
              "    </tr>\n",
              "    <tr>\n",
              "      <th>17</th>\n",
              "      <td>Zooming In With Two Fingers</td>\n",
              "    </tr>\n",
              "    <tr>\n",
              "      <th>18</th>\n",
              "      <td>Zooming Out With Two Fingers</td>\n",
              "    </tr>\n",
              "    <tr>\n",
              "      <th>19</th>\n",
              "      <td>Thumb Up</td>\n",
              "    </tr>\n",
              "    <tr>\n",
              "      <th>20</th>\n",
              "      <td>Thumb Down</td>\n",
              "    </tr>\n",
              "    <tr>\n",
              "      <th>21</th>\n",
              "      <td>Shaking Hand</td>\n",
              "    </tr>\n",
              "    <tr>\n",
              "      <th>22</th>\n",
              "      <td>Stop Sign</td>\n",
              "    </tr>\n",
              "    <tr>\n",
              "      <th>23</th>\n",
              "      <td>Drumming Fingers</td>\n",
              "    </tr>\n",
              "    <tr>\n",
              "      <th>24</th>\n",
              "      <td>No gesture</td>\n",
              "    </tr>\n",
              "    <tr>\n",
              "      <th>25</th>\n",
              "      <td>Doing other things</td>\n",
              "    </tr>\n",
              "  </tbody>\n",
              "</table>\n",
              "</div>\n",
              "    <div class=\"colab-df-buttons\">\n",
              "\n",
              "  <div class=\"colab-df-container\">\n",
              "    <button class=\"colab-df-convert\" onclick=\"convertToInteractive('df-55f3175b-f05b-471d-a7b2-56f50b582dfc')\"\n",
              "            title=\"Convert this dataframe to an interactive table.\"\n",
              "            style=\"display:none;\">\n",
              "\n",
              "  <svg xmlns=\"http://www.w3.org/2000/svg\" height=\"24px\" viewBox=\"0 -960 960 960\">\n",
              "    <path d=\"M120-120v-720h720v720H120Zm60-500h600v-160H180v160Zm220 220h160v-160H400v160Zm0 220h160v-160H400v160ZM180-400h160v-160H180v160Zm440 0h160v-160H620v160ZM180-180h160v-160H180v160Zm440 0h160v-160H620v160Z\"/>\n",
              "  </svg>\n",
              "    </button>\n",
              "\n",
              "  <style>\n",
              "    .colab-df-container {\n",
              "      display:flex;\n",
              "      gap: 12px;\n",
              "    }\n",
              "\n",
              "    .colab-df-convert {\n",
              "      background-color: #E8F0FE;\n",
              "      border: none;\n",
              "      border-radius: 50%;\n",
              "      cursor: pointer;\n",
              "      display: none;\n",
              "      fill: #1967D2;\n",
              "      height: 32px;\n",
              "      padding: 0 0 0 0;\n",
              "      width: 32px;\n",
              "    }\n",
              "\n",
              "    .colab-df-convert:hover {\n",
              "      background-color: #E2EBFA;\n",
              "      box-shadow: 0px 1px 2px rgba(60, 64, 67, 0.3), 0px 1px 3px 1px rgba(60, 64, 67, 0.15);\n",
              "      fill: #174EA6;\n",
              "    }\n",
              "\n",
              "    .colab-df-buttons div {\n",
              "      margin-bottom: 4px;\n",
              "    }\n",
              "\n",
              "    [theme=dark] .colab-df-convert {\n",
              "      background-color: #3B4455;\n",
              "      fill: #D2E3FC;\n",
              "    }\n",
              "\n",
              "    [theme=dark] .colab-df-convert:hover {\n",
              "      background-color: #434B5C;\n",
              "      box-shadow: 0px 1px 3px 1px rgba(0, 0, 0, 0.15);\n",
              "      filter: drop-shadow(0px 1px 2px rgba(0, 0, 0, 0.3));\n",
              "      fill: #FFFFFF;\n",
              "    }\n",
              "  </style>\n",
              "\n",
              "    <script>\n",
              "      const buttonEl =\n",
              "        document.querySelector('#df-55f3175b-f05b-471d-a7b2-56f50b582dfc button.colab-df-convert');\n",
              "      buttonEl.style.display =\n",
              "        google.colab.kernel.accessAllowed ? 'block' : 'none';\n",
              "\n",
              "      async function convertToInteractive(key) {\n",
              "        const element = document.querySelector('#df-55f3175b-f05b-471d-a7b2-56f50b582dfc');\n",
              "        const dataTable =\n",
              "          await google.colab.kernel.invokeFunction('convertToInteractive',\n",
              "                                                    [key], {});\n",
              "        if (!dataTable) return;\n",
              "\n",
              "        const docLinkHtml = 'Like what you see? Visit the ' +\n",
              "          '<a target=\"_blank\" href=https://colab.research.google.com/notebooks/data_table.ipynb>data table notebook</a>'\n",
              "          + ' to learn more about interactive tables.';\n",
              "        element.innerHTML = '';\n",
              "        dataTable['output_type'] = 'display_data';\n",
              "        await google.colab.output.renderOutput(dataTable, element);\n",
              "        const docLink = document.createElement('div');\n",
              "        docLink.innerHTML = docLinkHtml;\n",
              "        element.appendChild(docLink);\n",
              "      }\n",
              "    </script>\n",
              "  </div>\n",
              "\n",
              "\n",
              "<div id=\"df-7d96fa44-8b6c-4b33-aca2-f1c0d945a371\">\n",
              "  <button class=\"colab-df-quickchart\" onclick=\"quickchart('df-7d96fa44-8b6c-4b33-aca2-f1c0d945a371')\"\n",
              "            title=\"Suggest charts\"\n",
              "            style=\"display:none;\">\n",
              "\n",
              "<svg xmlns=\"http://www.w3.org/2000/svg\" height=\"24px\"viewBox=\"0 0 24 24\"\n",
              "     width=\"24px\">\n",
              "    <g>\n",
              "        <path d=\"M19 3H5c-1.1 0-2 .9-2 2v14c0 1.1.9 2 2 2h14c1.1 0 2-.9 2-2V5c0-1.1-.9-2-2-2zM9 17H7v-7h2v7zm4 0h-2V7h2v10zm4 0h-2v-4h2v4z\"/>\n",
              "    </g>\n",
              "</svg>\n",
              "  </button>\n",
              "\n",
              "<style>\n",
              "  .colab-df-quickchart {\n",
              "      --bg-color: #E8F0FE;\n",
              "      --fill-color: #1967D2;\n",
              "      --hover-bg-color: #E2EBFA;\n",
              "      --hover-fill-color: #174EA6;\n",
              "      --disabled-fill-color: #AAA;\n",
              "      --disabled-bg-color: #DDD;\n",
              "  }\n",
              "\n",
              "  [theme=dark] .colab-df-quickchart {\n",
              "      --bg-color: #3B4455;\n",
              "      --fill-color: #D2E3FC;\n",
              "      --hover-bg-color: #434B5C;\n",
              "      --hover-fill-color: #FFFFFF;\n",
              "      --disabled-bg-color: #3B4455;\n",
              "      --disabled-fill-color: #666;\n",
              "  }\n",
              "\n",
              "  .colab-df-quickchart {\n",
              "    background-color: var(--bg-color);\n",
              "    border: none;\n",
              "    border-radius: 50%;\n",
              "    cursor: pointer;\n",
              "    display: none;\n",
              "    fill: var(--fill-color);\n",
              "    height: 32px;\n",
              "    padding: 0;\n",
              "    width: 32px;\n",
              "  }\n",
              "\n",
              "  .colab-df-quickchart:hover {\n",
              "    background-color: var(--hover-bg-color);\n",
              "    box-shadow: 0 1px 2px rgba(60, 64, 67, 0.3), 0 1px 3px 1px rgba(60, 64, 67, 0.15);\n",
              "    fill: var(--button-hover-fill-color);\n",
              "  }\n",
              "\n",
              "  .colab-df-quickchart-complete:disabled,\n",
              "  .colab-df-quickchart-complete:disabled:hover {\n",
              "    background-color: var(--disabled-bg-color);\n",
              "    fill: var(--disabled-fill-color);\n",
              "    box-shadow: none;\n",
              "  }\n",
              "\n",
              "  .colab-df-spinner {\n",
              "    border: 2px solid var(--fill-color);\n",
              "    border-color: transparent;\n",
              "    border-bottom-color: var(--fill-color);\n",
              "    animation:\n",
              "      spin 1s steps(1) infinite;\n",
              "  }\n",
              "\n",
              "  @keyframes spin {\n",
              "    0% {\n",
              "      border-color: transparent;\n",
              "      border-bottom-color: var(--fill-color);\n",
              "      border-left-color: var(--fill-color);\n",
              "    }\n",
              "    20% {\n",
              "      border-color: transparent;\n",
              "      border-left-color: var(--fill-color);\n",
              "      border-top-color: var(--fill-color);\n",
              "    }\n",
              "    30% {\n",
              "      border-color: transparent;\n",
              "      border-left-color: var(--fill-color);\n",
              "      border-top-color: var(--fill-color);\n",
              "      border-right-color: var(--fill-color);\n",
              "    }\n",
              "    40% {\n",
              "      border-color: transparent;\n",
              "      border-right-color: var(--fill-color);\n",
              "      border-top-color: var(--fill-color);\n",
              "    }\n",
              "    60% {\n",
              "      border-color: transparent;\n",
              "      border-right-color: var(--fill-color);\n",
              "    }\n",
              "    80% {\n",
              "      border-color: transparent;\n",
              "      border-right-color: var(--fill-color);\n",
              "      border-bottom-color: var(--fill-color);\n",
              "    }\n",
              "    90% {\n",
              "      border-color: transparent;\n",
              "      border-bottom-color: var(--fill-color);\n",
              "    }\n",
              "  }\n",
              "</style>\n",
              "\n",
              "  <script>\n",
              "    async function quickchart(key) {\n",
              "      const quickchartButtonEl =\n",
              "        document.querySelector('#' + key + ' button');\n",
              "      quickchartButtonEl.disabled = true;  // To prevent multiple clicks.\n",
              "      quickchartButtonEl.classList.add('colab-df-spinner');\n",
              "      try {\n",
              "        const charts = await google.colab.kernel.invokeFunction(\n",
              "            'suggestCharts', [key], {});\n",
              "      } catch (error) {\n",
              "        console.error('Error during call to suggestCharts:', error);\n",
              "      }\n",
              "      quickchartButtonEl.classList.remove('colab-df-spinner');\n",
              "      quickchartButtonEl.classList.add('colab-df-quickchart-complete');\n",
              "    }\n",
              "    (() => {\n",
              "      let quickchartButtonEl =\n",
              "        document.querySelector('#df-7d96fa44-8b6c-4b33-aca2-f1c0d945a371 button');\n",
              "      quickchartButtonEl.style.display =\n",
              "        google.colab.kernel.accessAllowed ? 'block' : 'none';\n",
              "    })();\n",
              "  </script>\n",
              "</div>\n",
              "\n",
              "  <div id=\"id_328950c2-b26b-4b37-b773-079b79d929a0\">\n",
              "    <style>\n",
              "      .colab-df-generate {\n",
              "        background-color: #E8F0FE;\n",
              "        border: none;\n",
              "        border-radius: 50%;\n",
              "        cursor: pointer;\n",
              "        display: none;\n",
              "        fill: #1967D2;\n",
              "        height: 32px;\n",
              "        padding: 0 0 0 0;\n",
              "        width: 32px;\n",
              "      }\n",
              "\n",
              "      .colab-df-generate:hover {\n",
              "        background-color: #E2EBFA;\n",
              "        box-shadow: 0px 1px 2px rgba(60, 64, 67, 0.3), 0px 1px 3px 1px rgba(60, 64, 67, 0.15);\n",
              "        fill: #174EA6;\n",
              "      }\n",
              "\n",
              "      [theme=dark] .colab-df-generate {\n",
              "        background-color: #3B4455;\n",
              "        fill: #D2E3FC;\n",
              "      }\n",
              "\n",
              "      [theme=dark] .colab-df-generate:hover {\n",
              "        background-color: #434B5C;\n",
              "        box-shadow: 0px 1px 3px 1px rgba(0, 0, 0, 0.15);\n",
              "        filter: drop-shadow(0px 1px 2px rgba(0, 0, 0, 0.3));\n",
              "        fill: #FFFFFF;\n",
              "      }\n",
              "    </style>\n",
              "    <button class=\"colab-df-generate\" onclick=\"generateWithVariable('labels_info')\"\n",
              "            title=\"Generate code using this dataframe.\"\n",
              "            style=\"display:none;\">\n",
              "\n",
              "  <svg xmlns=\"http://www.w3.org/2000/svg\" height=\"24px\"viewBox=\"0 0 24 24\"\n",
              "       width=\"24px\">\n",
              "    <path d=\"M7,19H8.4L18.45,9,17,7.55,7,17.6ZM5,21V16.75L18.45,3.32a2,2,0,0,1,2.83,0l1.4,1.43a1.91,1.91,0,0,1,.58,1.4,1.91,1.91,0,0,1-.58,1.4L9.25,21ZM18.45,9,17,7.55Zm-12,3A5.31,5.31,0,0,0,4.9,8.1,5.31,5.31,0,0,0,1,6.5,5.31,5.31,0,0,0,4.9,4.9,5.31,5.31,0,0,0,6.5,1,5.31,5.31,0,0,0,8.1,4.9,5.31,5.31,0,0,0,12,6.5,5.46,5.46,0,0,0,6.5,12Z\"/>\n",
              "  </svg>\n",
              "    </button>\n",
              "    <script>\n",
              "      (() => {\n",
              "      const buttonEl =\n",
              "        document.querySelector('#id_328950c2-b26b-4b37-b773-079b79d929a0 button.colab-df-generate');\n",
              "      buttonEl.style.display =\n",
              "        google.colab.kernel.accessAllowed ? 'block' : 'none';\n",
              "\n",
              "      buttonEl.onclick = () => {\n",
              "        google.colab.notebook.generateWithVariable('labels_info');\n",
              "      }\n",
              "      })();\n",
              "    </script>\n",
              "  </div>\n",
              "\n",
              "    </div>\n",
              "  </div>\n"
            ],
            "application/vnd.google.colaboratory.intrinsic+json": {
              "type": "dataframe",
              "variable_name": "labels_info",
              "summary": "{\n  \"name\": \"labels_info\",\n  \"rows\": 26,\n  \"fields\": [\n    {\n      \"column\": \"Swiping Left\",\n      \"properties\": {\n        \"dtype\": \"string\",\n        \"num_unique_values\": 26,\n        \"samples\": [\n          \"Sliding Two Fingers Up\",\n          \"Zooming Out With Full Hand\",\n          \"Swiping Right\"\n        ],\n        \"semantic_type\": \"\",\n        \"description\": \"\"\n      }\n    }\n  ]\n}"
            }
          },
          "metadata": {},
          "execution_count": 6
        }
      ]
    },
    {
      "cell_type": "code",
      "source": [
        "SET_SIZE = 5_000\n",
        "TRAIN_SET_SIZE = 0.7 * SET_SIZE\n",
        "VAL_SET_SIZE = SET_SIZE - TRAIN_SET_SIZE\n",
        "MIN_SEQ_LEN = 30\n",
        "CLASSES = [1, 25, 19]\n",
        "CLASSES_PERCENTAGE = [1/len(CLASSES) for _ in range(len(CLASSES))]\n",
        "CLASSES_WITH_PERCENTAGE = {cls: percentage for cls, percentage in zip(CLASSES, CLASSES_PERCENTAGE)}\n",
        "TRAIN_CLASSES_WITH_AMOUNT = {cls: int(percentage * TRAIN_SET_SIZE) for cls, percentage in zip(CLASSES, CLASSES_PERCENTAGE)}\n",
        "VAL_CLASSES_WITH_AMOUNT = {cls: int(percentage * VAL_SET_SIZE) for cls, percentage in zip(CLASSES, CLASSES_PERCENTAGE)}\n",
        "CLASS_MAPPING = {cls: idx for idx, cls in enumerate(CLASSES)}"
      ],
      "metadata": {
        "id": "YBXPjLB-cj6_"
      },
      "execution_count": 48,
      "outputs": []
    },
    {
      "cell_type": "code",
      "source": [
        "CLASSES_WITH_PERCENTAGE"
      ],
      "metadata": {
        "id": "AO9UCZUhHRR-",
        "colab": {
          "base_uri": "https://localhost:8080/"
        },
        "outputId": "10a85a6a-a458-4f89-cdfd-f119ef85e75b"
      },
      "execution_count": 49,
      "outputs": [
        {
          "output_type": "execute_result",
          "data": {
            "text/plain": [
              "{1: 0.3333333333333333, 25: 0.3333333333333333, 19: 0.3333333333333333}"
            ]
          },
          "metadata": {},
          "execution_count": 49
        }
      ]
    },
    {
      "cell_type": "code",
      "source": [
        "TRAIN_CLASSES_WITH_AMOUNT"
      ],
      "metadata": {
        "id": "w3pFsbKwJxqc",
        "colab": {
          "base_uri": "https://localhost:8080/"
        },
        "outputId": "a4581409-a58a-4c63-9fcf-8c06a9866e48"
      },
      "execution_count": 50,
      "outputs": [
        {
          "output_type": "execute_result",
          "data": {
            "text/plain": [
              "{1: 1166, 25: 1166, 19: 1166}"
            ]
          },
          "metadata": {},
          "execution_count": 50
        }
      ]
    },
    {
      "cell_type": "code",
      "source": [
        "VAL_CLASSES_WITH_AMOUNT"
      ],
      "metadata": {
        "id": "IctKZ4oZKZ9P",
        "colab": {
          "base_uri": "https://localhost:8080/"
        },
        "outputId": "31de015d-96d2-46dd-8995-a59e0ccfc153"
      },
      "execution_count": 51,
      "outputs": [
        {
          "output_type": "execute_result",
          "data": {
            "text/plain": [
              "{1: 500, 25: 500, 19: 500}"
            ]
          },
          "metadata": {},
          "execution_count": 51
        }
      ]
    },
    {
      "cell_type": "code",
      "source": [
        "CLASS_MAPPING"
      ],
      "metadata": {
        "id": "XuRkvlE-toMC",
        "outputId": "2eaa1215-bd6d-465b-de7a-b62fee17672e",
        "colab": {
          "base_uri": "https://localhost:8080/"
        }
      },
      "execution_count": 52,
      "outputs": [
        {
          "output_type": "execute_result",
          "data": {
            "text/plain": [
              "{1: 0, 25: 1, 19: 2}"
            ]
          },
          "metadata": {},
          "execution_count": 52
        }
      ]
    },
    {
      "cell_type": "markdown",
      "source": [
        "### 5.2 Create subsets:"
      ],
      "metadata": {
        "id": "ib6XYmDwKfTT"
      }
    },
    {
      "cell_type": "code",
      "source": [
        "def preprocess_df(dataframe: pd.DataFrame, subset_info: dict[int, int], min_seq_len: int) -> pd.DataFrame:\n",
        "    def _get_longer_seq_len_than(df: pd.DataFrame, seq_len: int) -> pd.DataFrame:\n",
        "        return df[df[\"seq_len\"] >= seq_len]\n",
        "\n",
        "    def _get_df_subset(df: pd.DataFrame, classes_with_amount: dict[int, int]) -> pd.DataFrame:\n",
        "        missing_probes = 0\n",
        "        subset_df = pd.DataFrame()\n",
        "        for key, val in classes_with_amount.items():\n",
        "            try:\n",
        "                missing_probes = 0 if (val - len(df[df[\"label_id\"] == key])) < 0 else (val - len(df[df[\"label_id\"] == key]))\n",
        "                subset_df = pd.concat([subset_df, df[df[\"label_id\"] == key].sample(n=val)])\n",
        "            except ValueError:\n",
        "                logging.warning(f\"Needed to duplicate {missing_probes}. DO NOT LEARN NETWORK WITHOUT AUGMENTATION\")\n",
        "                subset_df = pd.concat([subset_df, df[df[\"label_id\"] == key].sample(n=val, replace=True)])\n",
        "        return subset_df.sample(frac=1, ignore_index=True)\n",
        "\n",
        "    # new_df = _get_longer_seq_len_than(dataframe, min_seq_len)\n",
        "    new_df = _get_df_subset(dataframe, subset_info)\n",
        "    return new_df"
      ],
      "metadata": {
        "id": "6nCSNGxCKa3C"
      },
      "execution_count": 53,
      "outputs": []
    },
    {
      "cell_type": "code",
      "source": [
        "train_subset_df = preprocess_df(train_df, TRAIN_CLASSES_WITH_AMOUNT, MIN_SEQ_LEN)\n",
        "val_subset_df = preprocess_df(val_df, VAL_CLASSES_WITH_AMOUNT, MIN_SEQ_LEN)"
      ],
      "metadata": {
        "id": "_qfRVIy9Ks8A",
        "colab": {
          "base_uri": "https://localhost:8080/"
        },
        "outputId": "ef5b57db-482e-4921-9d4c-f4fb783625be"
      },
      "execution_count": 54,
      "outputs": [
        {
          "output_type": "stream",
          "name": "stderr",
          "text": [
            "WARNING:root:Needed to duplicate 1. DO NOT LEARN NETWORK WITHOUT AUGMENTATION\n"
          ]
        }
      ]
    },
    {
      "cell_type": "markdown",
      "source": [
        "## 6. Create `tf.data.Dataset` Pipeline:"
      ],
      "metadata": {
        "id": "DRulzWgicpeG"
      }
    },
    {
      "cell_type": "code",
      "source": [
        "logging.basicConfig(\n",
        "    format=\"{asctime} - {levelname} - {message}\",\n",
        "    style=\"{\",\n",
        "    datefmt=\"%Y-%m-%d %H:%M\",\n",
        "    level=logging.INFO\n",
        ")\n",
        "\n",
        "\n",
        "def create_dataset_from_dir(df: pd.DataFrame, seq_len: int):\n",
        "    sequences = []\n",
        "    labels = []\n",
        "\n",
        "    for _, row in df.iterrows():\n",
        "        video_path = row['path']\n",
        "        label_id = row['label_id']\n",
        "        image_paths = generate_image_paths(video_path, seq_len, row)\n",
        "        sequences.append(image_paths)\n",
        "        labels.append(label_id)\n",
        "\n",
        "    dataset = tf.data.Dataset.from_tensor_slices((sequences, labels))\n",
        "    return dataset\n",
        "\n",
        "\n",
        "@dataclass\n",
        "class InputShape:\n",
        "    weight: int\n",
        "    height: int\n",
        "    channels: int\n",
        "\n",
        "    def as_tuple(self) -> tuple[int, int, int]:\n",
        "        return self.weight, self.height, self.channels\n",
        "\n",
        "\n",
        "def build_feature_extractor(inp_shape: InputShape):\n",
        "    extractor_model = keras.applications.InceptionV3(\n",
        "        weights=\"imagenet\",\n",
        "        include_top=False,\n",
        "        pooling=\"avg\",\n",
        "        input_shape=inp_shape.as_tuple()\n",
        "    )\n",
        "\n",
        "    preprocess_input = keras.applications.inception_v3.preprocess_input  # getting preprocess func\n",
        "    inputs = keras.Input(inp_shape.as_tuple())\n",
        "    preprocessed = preprocess_input(inputs)\n",
        "    outputs = extractor_model(preprocessed)\n",
        "    return keras.Model(inputs, outputs, name=\"feature_extractor\")\n",
        "\n",
        "\n",
        "feature_extractor = build_feature_extractor(InputShape(224, 224, 3))\n",
        "\n",
        "\n",
        "@tf.function\n",
        "def extract_features(images: tf.Tensor, label: int):\n",
        "    features = tf.map_fn(lambda img: feature_extractor(img[np.newaxis, ...]), images, fn_output_signature=tf.float32)\n",
        "    return features, label\n",
        "\n",
        "\n",
        "def generate_image_paths(video_dir_path: str, seq_len: int, row: pd.Series):\n",
        "    image_paths = []\n",
        "    current_frames: int = row[\"seq_len\"]\n",
        "\n",
        "    if current_frames >= seq_len:\n",
        "        mid_point = current_frames // 2\n",
        "        start_point = max(0, mid_point - seq_len // 2)\n",
        "        end_point = start_point + seq_len\n",
        "\n",
        "        for i in range(start_point + 1, end_point + 1):\n",
        "            img_name = f\"{i:05d}.jpg\"\n",
        "            img_path = os.path.join(video_dir_path, img_name)\n",
        "            image_paths.append(img_path)\n",
        "\n",
        "    else:\n",
        "        logging.warning(f\"ADD PADDING ON LEFT AND RIGHT SIDE ON {row['video_id']}\")\n",
        "        padding_needed = seq_len - current_frames\n",
        "        left_padding = padding_needed // 2\n",
        "        right_padding = padding_needed - left_padding\n",
        "\n",
        "        most_left_img = f\"00001.jpg\"\n",
        "        most_right_img = f\"{current_frames:05d}.jpg\"\n",
        "\n",
        "        for i in range(left_padding):\n",
        "            img_path = os.path.join(video_dir_path, most_left_img)\n",
        "            image_paths.append(img_path)\n",
        "\n",
        "        for i in range(1, current_frames + 1):\n",
        "            img_name = f\"{i:05d}.jpg\"\n",
        "            img_path = os.path.join(video_dir_path, img_name)\n",
        "            image_paths.append(img_path)\n",
        "\n",
        "        for i in range(right_padding):\n",
        "            img_path = os.path.join(video_dir_path, most_right_img)\n",
        "            image_paths.append(img_path)\n",
        "\n",
        "    if len(image_paths) != seq_len:\n",
        "        raise ValueError(f\"Missing images in dir: {video_dir_path}\")\n",
        "\n",
        "    return image_paths\n",
        "\n",
        "\n",
        "@tf.function\n",
        "def load_sequence_from_dir(image_paths: tf.Tensor, label: int, inp_shape: tuple[int, int, int]):\n",
        "    def process_image(img_path):\n",
        "        image = tf.io.read_file(img_path)\n",
        "        image = tf.image.decode_jpeg(image, channels=inp_shape[2])\n",
        "        image = tf.image.resize(image, inp_shape[:2])\n",
        "        return image\n",
        "\n",
        "    images = tf.map_fn(process_image, image_paths, fn_output_signature=tf.float32)\n",
        "\n",
        "    return images, label\n",
        "\n",
        "\n",
        "@tf.function\n",
        "def one_hot_encode(path: tf.Tensor, label: int, classes_num: int, class_mapping: dict[int, int]):\n",
        "    mapped_label = class_mapping[label]\n",
        "    return path, tf.one_hot(mapped_label, classes_num, dtype=tf.int32)\n",
        "\n",
        "\n",
        "@tf.function\n",
        "def remove_one_dimensions(images: tf.Tensor, label: int):\n",
        "    return tf.squeeze(images), label\n",
        "\n",
        "\n",
        "def create_pipeline(df: pd.DataFrame, *, num_classes: int, image_input_shape: InputShape, seq_len: int, batch_size: int) -> tf.data.Dataset:\n",
        "  ds = create_dataset_from_dir(df, seq_len=seq_len) # (list with paths strs)\n",
        "  ds = ds.map(lambda images, label: one_hot_encode(images, label, num_classes), num_parallel_calls=tf.data.AUTOTUNE)\n",
        "  ds = ds.map(lambda path, label: load_sequence_from_dir(path, label, image_input_shape.as_tuple()), num_parallel_calls=tf.data.AUTOTUNE) # (seq_len, width, height, channels)\n",
        "  ds = ds.map(lambda images, label: extract_features(images, label), num_parallel_calls=tf.data.AUTOTUNE)  # (seq_len, 1, 2048)\n",
        "  ds = ds.map(lambda images, label: remove_one_dimensions(images, label), num_parallel_calls=tf.data.AUTOTUNE)\n",
        "  ds = ds.batch(batch_size=batch_size, drop_remainder=True)\n",
        "  ds = ds.cache().prefetch(tf.data.AUTOTUNE)\n",
        "  return ds"
      ],
      "metadata": {
        "id": "mMznXfGrK1Qk"
      },
      "execution_count": 23,
      "outputs": []
    },
    {
      "cell_type": "markdown",
      "source": [
        "### 6.1 Config:"
      ],
      "metadata": {
        "id": "ENrcWpNEczN3"
      }
    },
    {
      "cell_type": "code",
      "source": [
        "class PipelineConfig:\n",
        "  IMAGE_INPUT_SHAPE = InputShape(224, 224, 3)\n",
        "  NUM_CLASSES = len(CLASSES)\n",
        "  BATCH_SIZE = 32\n",
        "  SEQ_LEN = 30"
      ],
      "metadata": {
        "id": "_3GdnQEgclIe"
      },
      "execution_count": 24,
      "outputs": []
    },
    {
      "cell_type": "markdown",
      "source": [
        "#### 6.2 Pipeline:"
      ],
      "metadata": {
        "id": "jcHibzW8d107"
      }
    },
    {
      "cell_type": "code",
      "source": [
        "train_ds = create_pipeline(\n",
        "    train_subset_df,\n",
        "    num_classes=PipelineConfig.NUM_CLASSES,\n",
        "    image_input_shape=PipelineConfig.IMAGE_INPUT_SHAPE,\n",
        "    seq_len=PipelineConfig.SEQ_LEN,\n",
        "    batch_size=PipelineConfig.BATCH_SIZE\n",
        ")\n",
        "\n",
        "val_ds = create_pipeline(\n",
        "    val_subset_df,\n",
        "    num_classes=PipelineConfig.NUM_CLASSES,\n",
        "    image_input_shape=PipelineConfig.IMAGE_INPUT_SHAPE,\n",
        "    seq_len=PipelineConfig.SEQ_LEN,\n",
        "    batch_size=PipelineConfig.BATCH_SIZE\n",
        ")"
      ],
      "metadata": {
        "id": "jjo6U3R9d4t2",
        "colab": {
          "base_uri": "https://localhost:8080/"
        },
        "outputId": "f2678e90-705f-4e66-e40b-90c177324909"
      },
      "execution_count": 25,
      "outputs": [
        {
          "output_type": "stream",
          "name": "stderr",
          "text": [
            "WARNING:root:ADD PADDING ON LEFT AND RIGHT SIDE ON 65685\n",
            "WARNING:root:ADD PADDING ON LEFT AND RIGHT SIDE ON 74961\n",
            "WARNING:root:ADD PADDING ON LEFT AND RIGHT SIDE ON 134281\n",
            "WARNING:root:ADD PADDING ON LEFT AND RIGHT SIDE ON 125478\n",
            "WARNING:root:ADD PADDING ON LEFT AND RIGHT SIDE ON 124044\n",
            "WARNING:root:ADD PADDING ON LEFT AND RIGHT SIDE ON 78710\n",
            "WARNING:root:ADD PADDING ON LEFT AND RIGHT SIDE ON 89353\n",
            "WARNING:root:ADD PADDING ON LEFT AND RIGHT SIDE ON 15943\n",
            "WARNING:root:ADD PADDING ON LEFT AND RIGHT SIDE ON 60145\n",
            "WARNING:root:ADD PADDING ON LEFT AND RIGHT SIDE ON 103895\n",
            "WARNING:root:ADD PADDING ON LEFT AND RIGHT SIDE ON 76001\n",
            "WARNING:root:ADD PADDING ON LEFT AND RIGHT SIDE ON 12656\n",
            "WARNING:root:ADD PADDING ON LEFT AND RIGHT SIDE ON 34068\n",
            "WARNING:root:ADD PADDING ON LEFT AND RIGHT SIDE ON 51785\n"
          ]
        }
      ]
    },
    {
      "cell_type": "code",
      "source": [
        "MODEL_INPUT_SHAPE = train_ds.as_numpy_iterator().next()[0].shape[1:]\n",
        "MODEL_INPUT_SHAPE"
      ],
      "metadata": {
        "id": "eMtyUmU_eDUO",
        "colab": {
          "base_uri": "https://localhost:8080/",
          "height": 299
        },
        "outputId": "ea743026-8d5b-4949-a90c-f64c8666cee1"
      },
      "execution_count": 26,
      "outputs": [
        {
          "output_type": "error",
          "ename": "KeyboardInterrupt",
          "evalue": "",
          "traceback": [
            "\u001b[0;31m---------------------------------------------------------------------------\u001b[0m",
            "\u001b[0;31mKeyboardInterrupt\u001b[0m                         Traceback (most recent call last)",
            "\u001b[0;32m<ipython-input-26-bc25456a67ab>\u001b[0m in \u001b[0;36m<cell line: 1>\u001b[0;34m()\u001b[0m\n\u001b[0;32m----> 1\u001b[0;31m \u001b[0mMODEL_INPUT_SHAPE\u001b[0m \u001b[0;34m=\u001b[0m \u001b[0mtrain_ds\u001b[0m\u001b[0;34m.\u001b[0m\u001b[0mas_numpy_iterator\u001b[0m\u001b[0;34m(\u001b[0m\u001b[0;34m)\u001b[0m\u001b[0;34m.\u001b[0m\u001b[0mnext\u001b[0m\u001b[0;34m(\u001b[0m\u001b[0;34m)\u001b[0m\u001b[0;34m[\u001b[0m\u001b[0;36m0\u001b[0m\u001b[0;34m]\u001b[0m\u001b[0;34m.\u001b[0m\u001b[0mshape\u001b[0m\u001b[0;34m[\u001b[0m\u001b[0;36m1\u001b[0m\u001b[0;34m:\u001b[0m\u001b[0;34m]\u001b[0m\u001b[0;34m\u001b[0m\u001b[0;34m\u001b[0m\u001b[0m\n\u001b[0m\u001b[1;32m      2\u001b[0m \u001b[0mMODEL_INPUT_SHAPE\u001b[0m\u001b[0;34m\u001b[0m\u001b[0;34m\u001b[0m\u001b[0m\n",
            "\u001b[0;32m/usr/local/lib/python3.10/dist-packages/tensorflow/python/data/ops/dataset_ops.py\u001b[0m in \u001b[0;36mnext\u001b[0;34m(self)\u001b[0m\n\u001b[1;32m   4739\u001b[0m \u001b[0;34m\u001b[0m\u001b[0m\n\u001b[1;32m   4740\u001b[0m   \u001b[0;32mdef\u001b[0m \u001b[0mnext\u001b[0m\u001b[0;34m(\u001b[0m\u001b[0mself\u001b[0m\u001b[0;34m)\u001b[0m\u001b[0;34m:\u001b[0m\u001b[0;34m\u001b[0m\u001b[0;34m\u001b[0m\u001b[0m\n\u001b[0;32m-> 4741\u001b[0;31m     \u001b[0;32mreturn\u001b[0m \u001b[0mself\u001b[0m\u001b[0;34m.\u001b[0m\u001b[0m__next__\u001b[0m\u001b[0;34m(\u001b[0m\u001b[0;34m)\u001b[0m\u001b[0;34m\u001b[0m\u001b[0;34m\u001b[0m\u001b[0m\n\u001b[0m\u001b[1;32m   4742\u001b[0m \u001b[0;34m\u001b[0m\u001b[0m\n\u001b[1;32m   4743\u001b[0m   \u001b[0;31m# override\u001b[0m\u001b[0;34m\u001b[0m\u001b[0;34m\u001b[0m\u001b[0m\n",
            "\u001b[0;32m/usr/local/lib/python3.10/dist-packages/tensorflow/python/data/ops/dataset_ops.py\u001b[0m in \u001b[0;36m__next__\u001b[0;34m(self)\u001b[0m\n\u001b[1;32m   4736\u001b[0m       \u001b[0;32mreturn\u001b[0m \u001b[0mnumpy\u001b[0m\u001b[0;34m\u001b[0m\u001b[0;34m\u001b[0m\u001b[0m\n\u001b[1;32m   4737\u001b[0m \u001b[0;34m\u001b[0m\u001b[0m\n\u001b[0;32m-> 4738\u001b[0;31m     \u001b[0;32mreturn\u001b[0m \u001b[0mnest\u001b[0m\u001b[0;34m.\u001b[0m\u001b[0mmap_structure\u001b[0m\u001b[0;34m(\u001b[0m\u001b[0mto_numpy\u001b[0m\u001b[0;34m,\u001b[0m \u001b[0mnext\u001b[0m\u001b[0;34m(\u001b[0m\u001b[0mself\u001b[0m\u001b[0;34m.\u001b[0m\u001b[0m_iterator\u001b[0m\u001b[0;34m)\u001b[0m\u001b[0;34m)\u001b[0m\u001b[0;34m\u001b[0m\u001b[0;34m\u001b[0m\u001b[0m\n\u001b[0m\u001b[1;32m   4739\u001b[0m \u001b[0;34m\u001b[0m\u001b[0m\n\u001b[1;32m   4740\u001b[0m   \u001b[0;32mdef\u001b[0m \u001b[0mnext\u001b[0m\u001b[0;34m(\u001b[0m\u001b[0mself\u001b[0m\u001b[0;34m)\u001b[0m\u001b[0;34m:\u001b[0m\u001b[0;34m\u001b[0m\u001b[0;34m\u001b[0m\u001b[0m\n",
            "\u001b[0;32m/usr/local/lib/python3.10/dist-packages/tensorflow/python/data/ops/iterator_ops.py\u001b[0m in \u001b[0;36m__next__\u001b[0;34m(self)\u001b[0m\n\u001b[1;32m    824\u001b[0m   \u001b[0;32mdef\u001b[0m \u001b[0m__next__\u001b[0m\u001b[0;34m(\u001b[0m\u001b[0mself\u001b[0m\u001b[0;34m)\u001b[0m\u001b[0;34m:\u001b[0m\u001b[0;34m\u001b[0m\u001b[0;34m\u001b[0m\u001b[0m\n\u001b[1;32m    825\u001b[0m     \u001b[0;32mtry\u001b[0m\u001b[0;34m:\u001b[0m\u001b[0;34m\u001b[0m\u001b[0;34m\u001b[0m\u001b[0m\n\u001b[0;32m--> 826\u001b[0;31m       \u001b[0;32mreturn\u001b[0m \u001b[0mself\u001b[0m\u001b[0;34m.\u001b[0m\u001b[0m_next_internal\u001b[0m\u001b[0;34m(\u001b[0m\u001b[0;34m)\u001b[0m\u001b[0;34m\u001b[0m\u001b[0;34m\u001b[0m\u001b[0m\n\u001b[0m\u001b[1;32m    827\u001b[0m     \u001b[0;32mexcept\u001b[0m \u001b[0merrors\u001b[0m\u001b[0;34m.\u001b[0m\u001b[0mOutOfRangeError\u001b[0m\u001b[0;34m:\u001b[0m\u001b[0;34m\u001b[0m\u001b[0;34m\u001b[0m\u001b[0m\n\u001b[1;32m    828\u001b[0m       \u001b[0;32mraise\u001b[0m \u001b[0mStopIteration\u001b[0m\u001b[0;34m\u001b[0m\u001b[0;34m\u001b[0m\u001b[0m\n",
            "\u001b[0;32m/usr/local/lib/python3.10/dist-packages/tensorflow/python/data/ops/iterator_ops.py\u001b[0m in \u001b[0;36m_next_internal\u001b[0;34m(self)\u001b[0m\n\u001b[1;32m    774\u001b[0m     \u001b[0;31m# to communicate that there is no more data to iterate over.\u001b[0m\u001b[0;34m\u001b[0m\u001b[0;34m\u001b[0m\u001b[0m\n\u001b[1;32m    775\u001b[0m     \u001b[0;32mwith\u001b[0m \u001b[0mcontext\u001b[0m\u001b[0;34m.\u001b[0m\u001b[0mexecution_mode\u001b[0m\u001b[0;34m(\u001b[0m\u001b[0mcontext\u001b[0m\u001b[0;34m.\u001b[0m\u001b[0mSYNC\u001b[0m\u001b[0;34m)\u001b[0m\u001b[0;34m:\u001b[0m\u001b[0;34m\u001b[0m\u001b[0;34m\u001b[0m\u001b[0m\n\u001b[0;32m--> 776\u001b[0;31m       ret = gen_dataset_ops.iterator_get_next(\n\u001b[0m\u001b[1;32m    777\u001b[0m           \u001b[0mself\u001b[0m\u001b[0;34m.\u001b[0m\u001b[0m_iterator_resource\u001b[0m\u001b[0;34m,\u001b[0m\u001b[0;34m\u001b[0m\u001b[0;34m\u001b[0m\u001b[0m\n\u001b[1;32m    778\u001b[0m           \u001b[0moutput_types\u001b[0m\u001b[0;34m=\u001b[0m\u001b[0mself\u001b[0m\u001b[0;34m.\u001b[0m\u001b[0m_flat_output_types\u001b[0m\u001b[0;34m,\u001b[0m\u001b[0;34m\u001b[0m\u001b[0;34m\u001b[0m\u001b[0m\n",
            "\u001b[0;32m/usr/local/lib/python3.10/dist-packages/tensorflow/python/ops/gen_dataset_ops.py\u001b[0m in \u001b[0;36miterator_get_next\u001b[0;34m(iterator, output_types, output_shapes, name)\u001b[0m\n\u001b[1;32m   3079\u001b[0m   \u001b[0;32mif\u001b[0m \u001b[0mtld\u001b[0m\u001b[0;34m.\u001b[0m\u001b[0mis_eager\u001b[0m\u001b[0;34m:\u001b[0m\u001b[0;34m\u001b[0m\u001b[0;34m\u001b[0m\u001b[0m\n\u001b[1;32m   3080\u001b[0m     \u001b[0;32mtry\u001b[0m\u001b[0;34m:\u001b[0m\u001b[0;34m\u001b[0m\u001b[0;34m\u001b[0m\u001b[0m\n\u001b[0;32m-> 3081\u001b[0;31m       _result = pywrap_tfe.TFE_Py_FastPathExecute(\n\u001b[0m\u001b[1;32m   3082\u001b[0m         \u001b[0m_ctx\u001b[0m\u001b[0;34m,\u001b[0m \u001b[0;34m\"IteratorGetNext\"\u001b[0m\u001b[0;34m,\u001b[0m \u001b[0mname\u001b[0m\u001b[0;34m,\u001b[0m \u001b[0miterator\u001b[0m\u001b[0;34m,\u001b[0m \u001b[0;34m\"output_types\"\u001b[0m\u001b[0;34m,\u001b[0m \u001b[0moutput_types\u001b[0m\u001b[0;34m,\u001b[0m\u001b[0;34m\u001b[0m\u001b[0;34m\u001b[0m\u001b[0m\n\u001b[1;32m   3083\u001b[0m         \"output_shapes\", output_shapes)\n",
            "\u001b[0;31mKeyboardInterrupt\u001b[0m: "
          ]
        }
      ]
    },
    {
      "cell_type": "markdown",
      "source": [
        "## 7. Create Model"
      ],
      "metadata": {
        "id": "Y452xf0SeOs0"
      }
    },
    {
      "cell_type": "markdown",
      "source": [
        "### 7.1 Config:"
      ],
      "metadata": {
        "id": "Rn5CiqGIe6fF"
      }
    },
    {
      "cell_type": "code",
      "source": [
        "MODEL_INPUT_SHAPE"
      ],
      "metadata": {
        "id": "DndWKfZ1e-yJ",
        "colab": {
          "base_uri": "https://localhost:8080/"
        },
        "outputId": "6f681b7e-c2ad-45e6-ce55-0ff3b4df1165"
      },
      "execution_count": 27,
      "outputs": [
        {
          "output_type": "execute_result",
          "data": {
            "text/plain": [
              "(30, 2048)"
            ]
          },
          "metadata": {},
          "execution_count": 27
        }
      ]
    },
    {
      "cell_type": "code",
      "source": [
        "def build_lstm_model(input_shape: tuple[int, int], num_classes: int):\n",
        "    model = keras.models.Sequential()\n",
        "    model.add(keras.layers.Input(input_shape))\n",
        "    model.add(keras.layers.LSTM(units=16, return_sequences=False))\n",
        "    model.add(keras.layers.Dense(units=8, activation=\"relu\"))\n",
        "    model.add(keras.layers.Dense(units=num_classes, activation=\"softmax\"))\n",
        "    return model"
      ],
      "metadata": {
        "id": "RFanj8Pkeh_N"
      },
      "execution_count": 28,
      "outputs": []
    },
    {
      "cell_type": "code",
      "source": [
        "lstm_model = build_lstm_model(input_shape=MODEL_INPUT_SHAPE, num_classes=len(CLASSES))\n",
        "\n",
        "lstm_model.compile(\n",
        "    optimizer=\"adam\",\n",
        "    loss=\"categorical_crossentropy\",\n",
        "    metrics=[\"accuracy\"]\n",
        ")\n",
        "\n",
        "lstm_model.summary()"
      ],
      "metadata": {
        "id": "D8Dqbptbe1i5",
        "colab": {
          "base_uri": "https://localhost:8080/",
          "height": 225
        },
        "outputId": "286de2f3-aa04-4836-87ac-ee6d27b82827"
      },
      "execution_count": 29,
      "outputs": [
        {
          "output_type": "display_data",
          "data": {
            "text/plain": [
              "\u001b[1mModel: \"sequential\"\u001b[0m\n"
            ],
            "text/html": [
              "<pre style=\"white-space:pre;overflow-x:auto;line-height:normal;font-family:Menlo,'DejaVu Sans Mono',consolas,'Courier New',monospace\"><span style=\"font-weight: bold\">Model: \"sequential\"</span>\n",
              "</pre>\n"
            ]
          },
          "metadata": {}
        },
        {
          "output_type": "display_data",
          "data": {
            "text/plain": [
              "┏━━━━━━━━━━━━━━━━━━━━━━━━━━━━━━━━━━━━━━┳━━━━━━━━━━━━━━━━━━━━━━━━━━━━━┳━━━━━━━━━━━━━━━━━┓\n",
              "┃\u001b[1m \u001b[0m\u001b[1mLayer (type)                        \u001b[0m\u001b[1m \u001b[0m┃\u001b[1m \u001b[0m\u001b[1mOutput Shape               \u001b[0m\u001b[1m \u001b[0m┃\u001b[1m \u001b[0m\u001b[1m        Param #\u001b[0m\u001b[1m \u001b[0m┃\n",
              "┡━━━━━━━━━━━━━━━━━━━━━━━━━━━━━━━━━━━━━━╇━━━━━━━━━━━━━━━━━━━━━━━━━━━━━╇━━━━━━━━━━━━━━━━━┩\n",
              "│ lstm (\u001b[38;5;33mLSTM\u001b[0m)                          │ (\u001b[38;5;45mNone\u001b[0m, \u001b[38;5;34m16\u001b[0m)                  │         \u001b[38;5;34m132,160\u001b[0m │\n",
              "├──────────────────────────────────────┼─────────────────────────────┼─────────────────┤\n",
              "│ dense (\u001b[38;5;33mDense\u001b[0m)                        │ (\u001b[38;5;45mNone\u001b[0m, \u001b[38;5;34m8\u001b[0m)                   │             \u001b[38;5;34m136\u001b[0m │\n",
              "├──────────────────────────────────────┼─────────────────────────────┼─────────────────┤\n",
              "│ dense_1 (\u001b[38;5;33mDense\u001b[0m)                      │ (\u001b[38;5;45mNone\u001b[0m, \u001b[38;5;34m3\u001b[0m)                   │              \u001b[38;5;34m27\u001b[0m │\n",
              "└──────────────────────────────────────┴─────────────────────────────┴─────────────────┘\n"
            ],
            "text/html": [
              "<pre style=\"white-space:pre;overflow-x:auto;line-height:normal;font-family:Menlo,'DejaVu Sans Mono',consolas,'Courier New',monospace\">┏━━━━━━━━━━━━━━━━━━━━━━━━━━━━━━━━━━━━━━┳━━━━━━━━━━━━━━━━━━━━━━━━━━━━━┳━━━━━━━━━━━━━━━━━┓\n",
              "┃<span style=\"font-weight: bold\"> Layer (type)                         </span>┃<span style=\"font-weight: bold\"> Output Shape                </span>┃<span style=\"font-weight: bold\">         Param # </span>┃\n",
              "┡━━━━━━━━━━━━━━━━━━━━━━━━━━━━━━━━━━━━━━╇━━━━━━━━━━━━━━━━━━━━━━━━━━━━━╇━━━━━━━━━━━━━━━━━┩\n",
              "│ lstm (<span style=\"color: #0087ff; text-decoration-color: #0087ff\">LSTM</span>)                          │ (<span style=\"color: #00d7ff; text-decoration-color: #00d7ff\">None</span>, <span style=\"color: #00af00; text-decoration-color: #00af00\">16</span>)                  │         <span style=\"color: #00af00; text-decoration-color: #00af00\">132,160</span> │\n",
              "├──────────────────────────────────────┼─────────────────────────────┼─────────────────┤\n",
              "│ dense (<span style=\"color: #0087ff; text-decoration-color: #0087ff\">Dense</span>)                        │ (<span style=\"color: #00d7ff; text-decoration-color: #00d7ff\">None</span>, <span style=\"color: #00af00; text-decoration-color: #00af00\">8</span>)                   │             <span style=\"color: #00af00; text-decoration-color: #00af00\">136</span> │\n",
              "├──────────────────────────────────────┼─────────────────────────────┼─────────────────┤\n",
              "│ dense_1 (<span style=\"color: #0087ff; text-decoration-color: #0087ff\">Dense</span>)                      │ (<span style=\"color: #00d7ff; text-decoration-color: #00d7ff\">None</span>, <span style=\"color: #00af00; text-decoration-color: #00af00\">3</span>)                   │              <span style=\"color: #00af00; text-decoration-color: #00af00\">27</span> │\n",
              "└──────────────────────────────────────┴─────────────────────────────┴─────────────────┘\n",
              "</pre>\n"
            ]
          },
          "metadata": {}
        },
        {
          "output_type": "display_data",
          "data": {
            "text/plain": [
              "\u001b[1m Total params: \u001b[0m\u001b[38;5;34m132,323\u001b[0m (516.89 KB)\n"
            ],
            "text/html": [
              "<pre style=\"white-space:pre;overflow-x:auto;line-height:normal;font-family:Menlo,'DejaVu Sans Mono',consolas,'Courier New',monospace\"><span style=\"font-weight: bold\"> Total params: </span><span style=\"color: #00af00; text-decoration-color: #00af00\">132,323</span> (516.89 KB)\n",
              "</pre>\n"
            ]
          },
          "metadata": {}
        },
        {
          "output_type": "display_data",
          "data": {
            "text/plain": [
              "\u001b[1m Trainable params: \u001b[0m\u001b[38;5;34m132,323\u001b[0m (516.89 KB)\n"
            ],
            "text/html": [
              "<pre style=\"white-space:pre;overflow-x:auto;line-height:normal;font-family:Menlo,'DejaVu Sans Mono',consolas,'Courier New',monospace\"><span style=\"font-weight: bold\"> Trainable params: </span><span style=\"color: #00af00; text-decoration-color: #00af00\">132,323</span> (516.89 KB)\n",
              "</pre>\n"
            ]
          },
          "metadata": {}
        },
        {
          "output_type": "display_data",
          "data": {
            "text/plain": [
              "\u001b[1m Non-trainable params: \u001b[0m\u001b[38;5;34m0\u001b[0m (0.00 B)\n"
            ],
            "text/html": [
              "<pre style=\"white-space:pre;overflow-x:auto;line-height:normal;font-family:Menlo,'DejaVu Sans Mono',consolas,'Courier New',monospace\"><span style=\"font-weight: bold\"> Non-trainable params: </span><span style=\"color: #00af00; text-decoration-color: #00af00\">0</span> (0.00 B)\n",
              "</pre>\n"
            ]
          },
          "metadata": {}
        }
      ]
    },
    {
      "cell_type": "markdown",
      "source": [
        "## 8. Train Model"
      ],
      "metadata": {
        "id": "iEngODv9gNQS"
      }
    },
    {
      "cell_type": "markdown",
      "source": [
        "### 8.1 Config:"
      ],
      "metadata": {
        "id": "Zj0EGzSpgQUS"
      }
    },
    {
      "cell_type": "code",
      "source": [
        "early_stopping_callback = tf.keras.callbacks.EarlyStopping(\n",
        "    patience = 10,\n",
        "    monitor = 'val_loss',\n",
        "    mode=\"min\"\n",
        ")\n",
        "\n",
        "checkpoint_callback = keras.callbacks.ModelCheckpoint(\n",
        "    'model_1.keras',\n",
        "    save_best_only=True,\n",
        "    monitor='val_accuracy',\n",
        "    mode='max'\n",
        ")\n",
        "\n",
        "history = lstm_model.fit(train_ds, epochs=50, validation_data=val_ds, batch_size=PipelineConfig.BATCH_SIZE, callbacks=[early_stopping_callback, checkpoint_callback])"
      ],
      "metadata": {
        "id": "QNzZ3_5ugL1C",
        "colab": {
          "base_uri": "https://localhost:8080/"
        },
        "outputId": "87b241fb-a3c5-414f-b7fe-15bbe02440cd"
      },
      "execution_count": 30,
      "outputs": [
        {
          "output_type": "stream",
          "name": "stdout",
          "text": [
            "Epoch 1/50\n",
            "\u001b[1m21/21\u001b[0m \u001b[32m━━━━━━━━━━━━━━━━━━━━\u001b[0m\u001b[37m\u001b[0m \u001b[1m1278s\u001b[0m 63s/step - accuracy: 0.2125 - loss: 0.3581 - val_accuracy: 0.0000e+00 - val_loss: 0.4270\n",
            "Epoch 2/50\n",
            "\u001b[1m21/21\u001b[0m \u001b[32m━━━━━━━━━━━━━━━━━━━━\u001b[0m\u001b[37m\u001b[0m \u001b[1m0s\u001b[0m 6ms/step - accuracy: 0.0000e+00 - loss: 0.4346 - val_accuracy: 0.0000e+00 - val_loss: 0.3580\n",
            "Epoch 3/50\n",
            "\u001b[1m21/21\u001b[0m \u001b[32m━━━━━━━━━━━━━━━━━━━━\u001b[0m\u001b[37m\u001b[0m \u001b[1m0s\u001b[0m 5ms/step - accuracy: 0.0000e+00 - loss: 0.3759 - val_accuracy: 0.0000e+00 - val_loss: 0.3550\n",
            "Epoch 4/50\n",
            "\u001b[1m21/21\u001b[0m \u001b[32m━━━━━━━━━━━━━━━━━━━━\u001b[0m\u001b[37m\u001b[0m \u001b[1m0s\u001b[0m 5ms/step - accuracy: 0.0000e+00 - loss: 0.3616 - val_accuracy: 0.0000e+00 - val_loss: 0.3410\n",
            "Epoch 5/50\n",
            "\u001b[1m21/21\u001b[0m \u001b[32m━━━━━━━━━━━━━━━━━━━━\u001b[0m\u001b[37m\u001b[0m \u001b[1m0s\u001b[0m 6ms/step - accuracy: 0.0000e+00 - loss: 0.3501 - val_accuracy: 0.0000e+00 - val_loss: 0.3286\n",
            "Epoch 6/50\n",
            "\u001b[1m21/21\u001b[0m \u001b[32m━━━━━━━━━━━━━━━━━━━━\u001b[0m\u001b[37m\u001b[0m \u001b[1m0s\u001b[0m 6ms/step - accuracy: 0.0000e+00 - loss: 0.3380 - val_accuracy: 0.0000e+00 - val_loss: 0.3151\n",
            "Epoch 7/50\n",
            "\u001b[1m21/21\u001b[0m \u001b[32m━━━━━━━━━━━━━━━━━━━━\u001b[0m\u001b[37m\u001b[0m \u001b[1m0s\u001b[0m 5ms/step - accuracy: 0.0036 - loss: 0.3186 - val_accuracy: 0.0000e+00 - val_loss: 0.2990\n",
            "Epoch 8/50\n",
            "\u001b[1m21/21\u001b[0m \u001b[32m━━━━━━━━━━━━━━━━━━━━\u001b[0m\u001b[37m\u001b[0m \u001b[1m0s\u001b[0m 6ms/step - accuracy: 0.0000e+00 - loss: 0.3024 - val_accuracy: 0.0000e+00 - val_loss: 0.2963\n",
            "Epoch 9/50\n",
            "\u001b[1m21/21\u001b[0m \u001b[32m━━━━━━━━━━━━━━━━━━━━\u001b[0m\u001b[37m\u001b[0m \u001b[1m0s\u001b[0m 5ms/step - accuracy: 0.0169 - loss: 0.2880 - val_accuracy: 0.0000e+00 - val_loss: 0.2706\n",
            "Epoch 10/50\n",
            "\u001b[1m21/21\u001b[0m \u001b[32m━━━━━━━━━━━━━━━━━━━━\u001b[0m\u001b[37m\u001b[0m \u001b[1m0s\u001b[0m 5ms/step - accuracy: 0.0052 - loss: 0.2936 - val_accuracy: 0.0000e+00 - val_loss: 0.2824\n",
            "Epoch 11/50\n",
            "\u001b[1m21/21\u001b[0m \u001b[32m━━━━━━━━━━━━━━━━━━━━\u001b[0m\u001b[37m\u001b[0m \u001b[1m0s\u001b[0m 6ms/step - accuracy: 0.0000e+00 - loss: 0.3035 - val_accuracy: 0.0000e+00 - val_loss: 0.2787\n",
            "Epoch 12/50\n",
            "\u001b[1m21/21\u001b[0m \u001b[32m━━━━━━━━━━━━━━━━━━━━\u001b[0m\u001b[37m\u001b[0m \u001b[1m0s\u001b[0m 6ms/step - accuracy: 0.0000e+00 - loss: 0.2983 - val_accuracy: 0.0000e+00 - val_loss: 0.2726\n",
            "Epoch 13/50\n",
            "\u001b[1m21/21\u001b[0m \u001b[32m━━━━━━━━━━━━━━━━━━━━\u001b[0m\u001b[37m\u001b[0m \u001b[1m0s\u001b[0m 6ms/step - accuracy: 0.0000e+00 - loss: 0.2919 - val_accuracy: 0.0000e+00 - val_loss: 0.2677\n",
            "Epoch 14/50\n",
            "\u001b[1m21/21\u001b[0m \u001b[32m━━━━━━━━━━━━━━━━━━━━\u001b[0m\u001b[37m\u001b[0m \u001b[1m0s\u001b[0m 6ms/step - accuracy: 0.0000e+00 - loss: 0.2868 - val_accuracy: 0.0000e+00 - val_loss: 0.2638\n",
            "Epoch 15/50\n",
            "\u001b[1m21/21\u001b[0m \u001b[32m━━━━━━━━━━━━━━━━━━━━\u001b[0m\u001b[37m\u001b[0m \u001b[1m0s\u001b[0m 5ms/step - accuracy: 0.0000e+00 - loss: 0.2827 - val_accuracy: 0.0000e+00 - val_loss: 0.2556\n",
            "Epoch 16/50\n",
            "\u001b[1m21/21\u001b[0m \u001b[32m━━━━━━━━━━━━━━━━━━━━\u001b[0m\u001b[37m\u001b[0m \u001b[1m0s\u001b[0m 6ms/step - accuracy: 0.0000e+00 - loss: 0.2605 - val_accuracy: 0.0000e+00 - val_loss: 0.2461\n",
            "Epoch 17/50\n",
            "\u001b[1m21/21\u001b[0m \u001b[32m━━━━━━━━━━━━━━━━━━━━\u001b[0m\u001b[37m\u001b[0m \u001b[1m0s\u001b[0m 6ms/step - accuracy: 0.0000e+00 - loss: 0.2677 - val_accuracy: 0.0000e+00 - val_loss: 0.2536\n",
            "Epoch 18/50\n",
            "\u001b[1m21/21\u001b[0m \u001b[32m━━━━━━━━━━━━━━━━━━━━\u001b[0m\u001b[37m\u001b[0m \u001b[1m0s\u001b[0m 6ms/step - accuracy: 0.0000e+00 - loss: 0.2720 - val_accuracy: 0.0000e+00 - val_loss: 0.2500\n",
            "Epoch 19/50\n",
            "\u001b[1m21/21\u001b[0m \u001b[32m━━━━━━━━━━━━━━━━━━━━\u001b[0m\u001b[37m\u001b[0m \u001b[1m0s\u001b[0m 6ms/step - accuracy: 0.0000e+00 - loss: 0.2673 - val_accuracy: 0.0000e+00 - val_loss: 0.2468\n",
            "Epoch 20/50\n",
            "\u001b[1m21/21\u001b[0m \u001b[32m━━━━━━━━━━━━━━━━━━━━\u001b[0m\u001b[37m\u001b[0m \u001b[1m0s\u001b[0m 6ms/step - accuracy: 0.0034 - loss: 0.2646 - val_accuracy: 0.0000e+00 - val_loss: 0.2449\n",
            "Epoch 21/50\n",
            "\u001b[1m21/21\u001b[0m \u001b[32m━━━━━━━━━━━━━━━━━━━━\u001b[0m\u001b[37m\u001b[0m \u001b[1m0s\u001b[0m 6ms/step - accuracy: 0.0473 - loss: 0.2573 - val_accuracy: 0.0000e+00 - val_loss: 0.2449\n",
            "Epoch 22/50\n",
            "\u001b[1m21/21\u001b[0m \u001b[32m━━━━━━━━━━━━━━━━━━━━\u001b[0m\u001b[37m\u001b[0m \u001b[1m0s\u001b[0m 7ms/step - accuracy: 0.0504 - loss: 0.2559 - val_accuracy: 0.0035 - val_loss: 0.2437\n",
            "Epoch 23/50\n",
            "\u001b[1m21/21\u001b[0m \u001b[32m━━━━━━━━━━━━━━━━━━━━\u001b[0m\u001b[37m\u001b[0m \u001b[1m0s\u001b[0m 6ms/step - accuracy: 0.0166 - loss: 0.2587 - val_accuracy: 0.0000e+00 - val_loss: 0.2408\n",
            "Epoch 24/50\n",
            "\u001b[1m21/21\u001b[0m \u001b[32m━━━━━━━━━━━━━━━━━━━━\u001b[0m\u001b[37m\u001b[0m \u001b[1m0s\u001b[0m 5ms/step - accuracy: 0.0000e+00 - loss: 0.2577 - val_accuracy: 0.0000e+00 - val_loss: 0.2379\n",
            "Epoch 25/50\n",
            "\u001b[1m21/21\u001b[0m \u001b[32m━━━━━━━━━━━━━━━━━━━━\u001b[0m\u001b[37m\u001b[0m \u001b[1m0s\u001b[0m 6ms/step - accuracy: 0.0032 - loss: 0.2553 - val_accuracy: 0.0000e+00 - val_loss: 0.2372\n",
            "Epoch 26/50\n",
            "\u001b[1m21/21\u001b[0m \u001b[32m━━━━━━━━━━━━━━━━━━━━\u001b[0m\u001b[37m\u001b[0m \u001b[1m0s\u001b[0m 5ms/step - accuracy: 0.0037 - loss: 0.2538 - val_accuracy: 0.0000e+00 - val_loss: 0.2361\n",
            "Epoch 27/50\n",
            "\u001b[1m21/21\u001b[0m \u001b[32m━━━━━━━━━━━━━━━━━━━━\u001b[0m\u001b[37m\u001b[0m \u001b[1m0s\u001b[0m 7ms/step - accuracy: 0.0692 - loss: 0.2458 - val_accuracy: 0.0312 - val_loss: 0.2355\n",
            "Epoch 28/50\n",
            "\u001b[1m21/21\u001b[0m \u001b[32m━━━━━━━━━━━━━━━━━━━━\u001b[0m\u001b[37m\u001b[0m \u001b[1m0s\u001b[0m 6ms/step - accuracy: 0.0770 - loss: 0.2451 - val_accuracy: 0.0000e+00 - val_loss: 0.2382\n",
            "Epoch 29/50\n",
            "\u001b[1m21/21\u001b[0m \u001b[32m━━━━━━━━━━━━━━━━━━━━\u001b[0m\u001b[37m\u001b[0m \u001b[1m0s\u001b[0m 5ms/step - accuracy: 0.0131 - loss: 0.2529 - val_accuracy: 0.0000e+00 - val_loss: 0.2328\n",
            "Epoch 30/50\n",
            "\u001b[1m21/21\u001b[0m \u001b[32m━━━━━━━━━━━━━━━━━━━━\u001b[0m\u001b[37m\u001b[0m \u001b[1m0s\u001b[0m 6ms/step - accuracy: 0.1267 - loss: 0.2490 - val_accuracy: 0.0000e+00 - val_loss: 0.2312\n",
            "Epoch 31/50\n",
            "\u001b[1m21/21\u001b[0m \u001b[32m━━━━━━━━━━━━━━━━━━━━\u001b[0m\u001b[37m\u001b[0m \u001b[1m0s\u001b[0m 6ms/step - accuracy: 0.1491 - loss: 0.2477 - val_accuracy: 0.0000e+00 - val_loss: 0.2310\n",
            "Epoch 32/50\n",
            "\u001b[1m21/21\u001b[0m \u001b[32m━━━━━━━━━━━━━━━━━━━━\u001b[0m\u001b[37m\u001b[0m \u001b[1m0s\u001b[0m 6ms/step - accuracy: 0.1533 - loss: 0.2463 - val_accuracy: 0.0208 - val_loss: 0.2301\n",
            "Epoch 33/50\n",
            "\u001b[1m21/21\u001b[0m \u001b[32m━━━━━━━━━━━━━━━━━━━━\u001b[0m\u001b[37m\u001b[0m \u001b[1m0s\u001b[0m 6ms/step - accuracy: 0.2044 - loss: 0.2400 - val_accuracy: 0.0000e+00 - val_loss: 0.2326\n",
            "Epoch 34/50\n",
            "\u001b[1m21/21\u001b[0m \u001b[32m━━━━━━━━━━━━━━━━━━━━\u001b[0m\u001b[37m\u001b[0m \u001b[1m0s\u001b[0m 7ms/step - accuracy: 0.1397 - loss: 0.2477 - val_accuracy: 0.3194 - val_loss: 0.2286\n",
            "Epoch 35/50\n",
            "\u001b[1m21/21\u001b[0m \u001b[32m━━━━━━━━━━━━━━━━━━━━\u001b[0m\u001b[37m\u001b[0m \u001b[1m0s\u001b[0m 6ms/step - accuracy: 0.3448 - loss: 0.2444 - val_accuracy: 0.3194 - val_loss: 0.2270\n",
            "Epoch 36/50\n",
            "\u001b[1m21/21\u001b[0m \u001b[32m━━━━━━━━━━━━━━━━━━━━\u001b[0m\u001b[37m\u001b[0m \u001b[1m0s\u001b[0m 6ms/step - accuracy: 0.3448 - loss: 0.2433 - val_accuracy: 0.3194 - val_loss: 0.2268\n",
            "Epoch 37/50\n",
            "\u001b[1m21/21\u001b[0m \u001b[32m━━━━━━━━━━━━━━━━━━━━\u001b[0m\u001b[37m\u001b[0m \u001b[1m0s\u001b[0m 5ms/step - accuracy: 0.3448 - loss: 0.2429 - val_accuracy: 0.3194 - val_loss: 0.2261\n",
            "Epoch 38/50\n",
            "\u001b[1m21/21\u001b[0m \u001b[32m━━━━━━━━━━━━━━━━━━━━\u001b[0m\u001b[37m\u001b[0m \u001b[1m0s\u001b[0m 6ms/step - accuracy: 0.3448 - loss: 0.2420 - val_accuracy: 0.3194 - val_loss: 0.2254\n",
            "Epoch 39/50\n",
            "\u001b[1m21/21\u001b[0m \u001b[32m━━━━━━━━━━━━━━━━━━━━\u001b[0m\u001b[37m\u001b[0m \u001b[1m0s\u001b[0m 6ms/step - accuracy: 0.3448 - loss: 0.2411 - val_accuracy: 0.3194 - val_loss: 0.2247\n",
            "Epoch 40/50\n",
            "\u001b[1m21/21\u001b[0m \u001b[32m━━━━━━━━━━━━━━━━━━━━\u001b[0m\u001b[37m\u001b[0m \u001b[1m0s\u001b[0m 6ms/step - accuracy: 0.3448 - loss: 0.2401 - val_accuracy: 0.3194 - val_loss: 0.2241\n",
            "Epoch 41/50\n",
            "\u001b[1m21/21\u001b[0m \u001b[32m━━━━━━━━━━━━━━━━━━━━\u001b[0m\u001b[37m\u001b[0m \u001b[1m0s\u001b[0m 6ms/step - accuracy: 0.3448 - loss: 0.2381 - val_accuracy: 0.3194 - val_loss: 0.2239\n",
            "Epoch 42/50\n",
            "\u001b[1m21/21\u001b[0m \u001b[32m━━━━━━━━━━━━━━━━━━━━\u001b[0m\u001b[37m\u001b[0m \u001b[1m0s\u001b[0m 6ms/step - accuracy: 0.3448 - loss: 0.2320 - val_accuracy: 0.3194 - val_loss: 0.2272\n",
            "Epoch 43/50\n",
            "\u001b[1m21/21\u001b[0m \u001b[32m━━━━━━━━━━━━━━━━━━━━\u001b[0m\u001b[37m\u001b[0m \u001b[1m0s\u001b[0m 6ms/step - accuracy: 0.3448 - loss: 0.2405 - val_accuracy: 0.3194 - val_loss: 0.2224\n",
            "Epoch 44/50\n",
            "\u001b[1m21/21\u001b[0m \u001b[32m━━━━━━━━━━━━━━━━━━━━\u001b[0m\u001b[37m\u001b[0m \u001b[1m0s\u001b[0m 6ms/step - accuracy: 0.3448 - loss: 0.2373 - val_accuracy: 0.3194 - val_loss: 0.2209\n",
            "Epoch 45/50\n",
            "\u001b[1m21/21\u001b[0m \u001b[32m━━━━━━━━━━━━━━━━━━━━\u001b[0m\u001b[37m\u001b[0m \u001b[1m0s\u001b[0m 6ms/step - accuracy: 0.3448 - loss: 0.2368 - val_accuracy: 0.3194 - val_loss: 0.2213\n",
            "Epoch 46/50\n",
            "\u001b[1m21/21\u001b[0m \u001b[32m━━━━━━━━━━━━━━━━━━━━\u001b[0m\u001b[37m\u001b[0m \u001b[1m0s\u001b[0m 6ms/step - accuracy: 0.3448 - loss: 0.2366 - val_accuracy: 0.3194 - val_loss: 0.2207\n",
            "Epoch 47/50\n",
            "\u001b[1m21/21\u001b[0m \u001b[32m━━━━━━━━━━━━━━━━━━━━\u001b[0m\u001b[37m\u001b[0m \u001b[1m0s\u001b[0m 6ms/step - accuracy: 0.3448 - loss: 0.2355 - val_accuracy: 0.3194 - val_loss: 0.2201\n",
            "Epoch 48/50\n",
            "\u001b[1m21/21\u001b[0m \u001b[32m━━━━━━━━━━━━━━━━━━━━\u001b[0m\u001b[37m\u001b[0m \u001b[1m0s\u001b[0m 6ms/step - accuracy: 0.3448 - loss: 0.2340 - val_accuracy: 0.3194 - val_loss: 0.2200\n",
            "Epoch 49/50\n",
            "\u001b[1m21/21\u001b[0m \u001b[32m━━━━━━━━━━━━━━━━━━━━\u001b[0m\u001b[37m\u001b[0m \u001b[1m0s\u001b[0m 6ms/step - accuracy: 0.3448 - loss: 0.2249 - val_accuracy: 0.3194 - val_loss: 0.2262\n",
            "Epoch 50/50\n",
            "\u001b[1m21/21\u001b[0m \u001b[32m━━━━━━━━━━━━━━━━━━━━\u001b[0m\u001b[37m\u001b[0m \u001b[1m0s\u001b[0m 6ms/step - accuracy: 0.3448 - loss: 0.2359 - val_accuracy: 0.3194 - val_loss: 0.2186\n"
          ]
        }
      ]
    },
    {
      "cell_type": "code",
      "source": [
        "plt.figure(figsize=(12, 5))\n",
        "\n",
        "plt.subplot(1, 2, 1)\n",
        "plt.plot(history.history['accuracy'], label='Train Accuracy')\n",
        "plt.plot(history.history['val_accuracy'], label='Validation Accuracy')\n",
        "plt.xlabel('Epoch')\n",
        "plt.ylabel('Accuracy')\n",
        "plt.ylim([0, 1])\n",
        "plt.legend(loc='lower right')\n",
        "plt.title('Model Accuracy')\n",
        "\n",
        "# Loss plot\n",
        "plt.subplot(1, 2, 2)\n",
        "plt.plot(history.history['loss'], label='Train Loss')\n",
        "plt.plot(history.history['val_loss'], label='Validation Loss')\n",
        "plt.xlabel('Epoch')\n",
        "plt.ylabel('Loss')\n",
        "plt.ylim([0, max(history.history['loss'])])\n",
        "plt.legend(loc='upper right')\n",
        "plt.title('Model Loss')\n",
        "\n",
        "\n",
        "plt.savefig('/content/drive/MyDrive/training_plots_1000.png')\n",
        "\n",
        "print(\"Plots saved as 'training_plots_1000.png'\")"
      ],
      "metadata": {
        "id": "2GT_zWvv8Jdi",
        "outputId": "3c3700af-0f94-4952-b7c4-711287f92141",
        "colab": {
          "base_uri": "https://localhost:8080/",
          "height": 504
        }
      },
      "execution_count": 31,
      "outputs": [
        {
          "output_type": "stream",
          "name": "stdout",
          "text": [
            "Plots saved as 'training_plots_1000.png'\n"
          ]
        },
        {
          "output_type": "display_data",
          "data": {
            "text/plain": [
              "<Figure size 1200x500 with 2 Axes>"
            ],
            "image/png": "[encoded data removed]"
          },
          "metadata": {}
        }
      ]
    },
    {
      "cell_type": "code",
      "source": [
        "from sklearn.metrics import confusion_matrix, ConfusionMatrixDisplay\n",
        "import matplotlib.pyplot as plt\n",
        "\n",
        "# Step 1: Get predictions and true labels\n",
        "y_pred = []\n",
        "y_true = []\n",
        "\n",
        "# Iterate over the validation dataset to get predictions and true labels\n",
        "for images, labels in val_ds:\n",
        "    # Predict classes for the current batch\n",
        "    predictions = lstm_model.predict(images)\n",
        "    predicted_classes = np.argmax(predictions, axis=1)\n",
        "    true_classes = np.argmax(labels, axis=1)\n",
        "\n",
        "    y_pred.extend(predicted_classes)\n",
        "    y_true.extend(true_classes)\n",
        "\n",
        "# Step 2: Compute confusion matrix\n",
        "cm = confusion_matrix(y_true, y_pred, labels=range(len(CLASSES)))\n",
        "\n",
        "# Step 3 (optional): Plot the confusion matrix\n",
        "disp = ConfusionMatrixDisplay(confusion_matrix=cm, display_labels=CLASSES)\n",
        "disp.plot(cmap=plt.cm.Blues)\n",
        "plt.title(\"Confusion Matrix for Validation Set\")\n",
        "plt.show()"
      ],
      "metadata": {
        "id": "BwGfISrRhL_f",
        "outputId": "2fa55f12-1f43-420f-ff5d-758ed8576bd9",
        "colab": {
          "base_uri": "https://localhost:8080/",
          "height": 1000
        }
      },
      "execution_count": 38,
      "outputs": [
        {
          "output_type": "stream",
          "name": "stdout",
          "text": [
            "\u001b[1m1/1\u001b[0m \u001b[32m━━━━━━━━━━━━━━━━━━━━\u001b[0m\u001b[37m\u001b[0m \u001b[1m0s\u001b[0m 28ms/step\n",
            "\u001b[1m1/1\u001b[0m \u001b[32m━━━━━━━━━━━━━━━━━━━━\u001b[0m\u001b[37m\u001b[0m \u001b[1m0s\u001b[0m 26ms/step\n",
            "\u001b[1m1/1\u001b[0m \u001b[32m━━━━━━━━━━━━━━━━━━━━\u001b[0m\u001b[37m\u001b[0m \u001b[1m0s\u001b[0m 25ms/step\n",
            "\u001b[1m1/1\u001b[0m \u001b[32m━━━━━━━━━━━━━━━━━━━━\u001b[0m\u001b[37m\u001b[0m \u001b[1m0s\u001b[0m 24ms/step\n",
            "\u001b[1m1/1\u001b[0m \u001b[32m━━━━━━━━━━━━━━━━━━━━\u001b[0m\u001b[37m\u001b[0m \u001b[1m0s\u001b[0m 26ms/step\n",
            "\u001b[1m1/1\u001b[0m \u001b[32m━━━━━━━━━━━━━━━━━━━━\u001b[0m\u001b[37m\u001b[0m \u001b[1m0s\u001b[0m 25ms/step\n",
            "\u001b[1m1/1\u001b[0m \u001b[32m━━━━━━━━━━━━━━━━━━━━\u001b[0m\u001b[37m\u001b[0m \u001b[1m0s\u001b[0m 25ms/step\n",
            "\u001b[1m1/1\u001b[0m \u001b[32m━━━━━━━━━━━━━━━━━━━━\u001b[0m\u001b[37m\u001b[0m \u001b[1m0s\u001b[0m 24ms/step\n",
            "\u001b[1m1/1\u001b[0m \u001b[32m━━━━━━━━━━━━━━━━━━━━\u001b[0m\u001b[37m\u001b[0m \u001b[1m0s\u001b[0m 25ms/step\n",
            "\u001b[1m1/1\u001b[0m \u001b[32m━━━━━━━━━━━━━━━━━━━━\u001b[0m\u001b[37m\u001b[0m \u001b[1m0s\u001b[0m 24ms/step\n",
            "\u001b[1m1/1\u001b[0m \u001b[32m━━━━━━━━━━━━━━━━━━━━\u001b[0m\u001b[37m\u001b[0m \u001b[1m0s\u001b[0m 23ms/step\n",
            "\u001b[1m1/1\u001b[0m \u001b[32m━━━━━━━━━━━━━━━━━━━━\u001b[0m\u001b[37m\u001b[0m \u001b[1m0s\u001b[0m 23ms/step\n",
            "\u001b[1m1/1\u001b[0m \u001b[32m━━━━━━━━━━━━━━━━━━━━\u001b[0m\u001b[37m\u001b[0m \u001b[1m0s\u001b[0m 25ms/step\n",
            "\u001b[1m1/1\u001b[0m \u001b[32m━━━━━━━━━━━━━━━━━━━━\u001b[0m\u001b[37m\u001b[0m \u001b[1m0s\u001b[0m 24ms/step\n",
            "\u001b[1m1/1\u001b[0m \u001b[32m━━━━━━━━━━━━━━━━━━━━\u001b[0m\u001b[37m\u001b[0m \u001b[1m0s\u001b[0m 22ms/step\n",
            "\u001b[1m1/1\u001b[0m \u001b[32m━━━━━━━━━━━━━━━━━━━━\u001b[0m\u001b[37m\u001b[0m \u001b[1m0s\u001b[0m 23ms/step\n",
            "\u001b[1m1/1\u001b[0m \u001b[32m━━━━━━━━━━━━━━━━━━━━\u001b[0m\u001b[37m\u001b[0m \u001b[1m0s\u001b[0m 28ms/step\n",
            "\u001b[1m1/1\u001b[0m \u001b[32m━━━━━━━━━━━━━━━━━━━━\u001b[0m\u001b[37m\u001b[0m \u001b[1m0s\u001b[0m 24ms/step\n",
            "\u001b[1m1/1\u001b[0m \u001b[32m━━━━━━━━━━━━━━━━━━━━\u001b[0m\u001b[37m\u001b[0m \u001b[1m0s\u001b[0m 23ms/step\n",
            "\u001b[1m1/1\u001b[0m \u001b[32m━━━━━━━━━━━━━━━━━━━━\u001b[0m\u001b[37m\u001b[0m \u001b[1m0s\u001b[0m 23ms/step\n",
            "\u001b[1m1/1\u001b[0m \u001b[32m━━━━━━━━━━━━━━━━━━━━\u001b[0m\u001b[37m\u001b[0m \u001b[1m0s\u001b[0m 26ms/step\n",
            "\u001b[1m1/1\u001b[0m \u001b[32m━━━━━━━━━━━━━━━━━━━━\u001b[0m\u001b[37m\u001b[0m \u001b[1m0s\u001b[0m 22ms/step\n",
            "\u001b[1m1/1\u001b[0m \u001b[32m━━━━━━━━━━━━━━━━━━━━\u001b[0m\u001b[37m\u001b[0m \u001b[1m0s\u001b[0m 23ms/step\n",
            "\u001b[1m1/1\u001b[0m \u001b[32m━━━━━━━━━━━━━━━━━━━━\u001b[0m\u001b[37m\u001b[0m \u001b[1m0s\u001b[0m 23ms/step\n",
            "\u001b[1m1/1\u001b[0m \u001b[32m━━━━━━━━━━━━━━━━━━━━\u001b[0m\u001b[37m\u001b[0m \u001b[1m0s\u001b[0m 23ms/step\n",
            "\u001b[1m1/1\u001b[0m \u001b[32m━━━━━━━━━━━━━━━━━━━━\u001b[0m\u001b[37m\u001b[0m \u001b[1m0s\u001b[0m 27ms/step\n",
            "\u001b[1m1/1\u001b[0m \u001b[32m━━━━━━━━━━━━━━━━━━━━\u001b[0m\u001b[37m\u001b[0m \u001b[1m0s\u001b[0m 24ms/step\n",
            "\u001b[1m1/1\u001b[0m \u001b[32m━━━━━━━━━━━━━━━━━━━━\u001b[0m\u001b[37m\u001b[0m \u001b[1m0s\u001b[0m 22ms/step\n",
            "\u001b[1m1/1\u001b[0m \u001b[32m━━━━━━━━━━━━━━━━━━━━\u001b[0m\u001b[37m\u001b[0m \u001b[1m0s\u001b[0m 24ms/step\n",
            "\u001b[1m1/1\u001b[0m \u001b[32m━━━━━━━━━━━━━━━━━━━━\u001b[0m\u001b[37m\u001b[0m \u001b[1m0s\u001b[0m 24ms/step\n",
            "\u001b[1m1/1\u001b[0m \u001b[32m━━━━━━━━━━━━━━━━━━━━\u001b[0m\u001b[37m\u001b[0m \u001b[1m0s\u001b[0m 23ms/step\n",
            "\u001b[1m1/1\u001b[0m \u001b[32m━━━━━━━━━━━━━━━━━━━━\u001b[0m\u001b[37m\u001b[0m \u001b[1m0s\u001b[0m 26ms/step\n",
            "\u001b[1m1/1\u001b[0m \u001b[32m━━━━━━━━━━━━━━━━━━━━\u001b[0m\u001b[37m\u001b[0m \u001b[1m0s\u001b[0m 23ms/step\n",
            "\u001b[1m1/1\u001b[0m \u001b[32m━━━━━━━━━━━━━━━━━━━━\u001b[0m\u001b[37m\u001b[0m \u001b[1m0s\u001b[0m 25ms/step\n",
            "\u001b[1m1/1\u001b[0m \u001b[32m━━━━━━━━━━━━━━━━━━━━\u001b[0m\u001b[37m\u001b[0m \u001b[1m0s\u001b[0m 22ms/step\n",
            "\u001b[1m1/1\u001b[0m \u001b[32m━━━━━━━━━━━━━━━━━━━━\u001b[0m\u001b[37m\u001b[0m \u001b[1m0s\u001b[0m 22ms/step\n",
            "\u001b[1m1/1\u001b[0m \u001b[32m━━━━━━━━━━━━━━━━━━━━\u001b[0m\u001b[37m\u001b[0m \u001b[1m0s\u001b[0m 23ms/step\n",
            "\u001b[1m1/1\u001b[0m \u001b[32m━━━━━━━━━━━━━━━━━━━━\u001b[0m\u001b[37m\u001b[0m \u001b[1m0s\u001b[0m 24ms/step\n",
            "\u001b[1m1/1\u001b[0m \u001b[32m━━━━━━━━━━━━━━━━━━━━\u001b[0m\u001b[37m\u001b[0m \u001b[1m0s\u001b[0m 23ms/step\n",
            "\u001b[1m1/1\u001b[0m \u001b[32m━━━━━━━━━━━━━━━━━━━━\u001b[0m\u001b[37m\u001b[0m \u001b[1m0s\u001b[0m 22ms/step\n",
            "\u001b[1m1/1\u001b[0m \u001b[32m━━━━━━━━━━━━━━━━━━━━\u001b[0m\u001b[37m\u001b[0m \u001b[1m0s\u001b[0m 24ms/step\n",
            "\u001b[1m1/1\u001b[0m \u001b[32m━━━━━━━━━━━━━━━━━━━━\u001b[0m\u001b[37m\u001b[0m \u001b[1m0s\u001b[0m 25ms/step\n",
            "\u001b[1m1/1\u001b[0m \u001b[32m━━━━━━━━━━━━━━━━━━━━\u001b[0m\u001b[37m\u001b[0m \u001b[1m0s\u001b[0m 24ms/step\n",
            "\u001b[1m1/1\u001b[0m \u001b[32m━━━━━━━━━━━━━━━━━━━━\u001b[0m\u001b[37m\u001b[0m \u001b[1m0s\u001b[0m 24ms/step\n",
            "\u001b[1m1/1\u001b[0m \u001b[32m━━━━━━━━━━━━━━━━━━━━\u001b[0m\u001b[37m\u001b[0m \u001b[1m0s\u001b[0m 24ms/step\n",
            "\u001b[1m1/1\u001b[0m \u001b[32m━━━━━━━━━━━━━━━━━━━━\u001b[0m\u001b[37m\u001b[0m \u001b[1m0s\u001b[0m 23ms/step\n"
          ]
        },
        {
          "output_type": "display_data",
          "data": {
            "text/plain": [
              "<Figure size 640x480 with 2 Axes>"
            ],
            "image/png": "[encoded data removed]"
          },
          "metadata": {}
        }
      ]
    },
    {
      "cell_type": "code",
      "source": [
        "SET_SIZE = 5_000\n",
        "TRAIN_SET_SIZE = 0.7 * SET_SIZE\n",
        "VAL_SET_SIZE = SET_SIZE - TRAIN_SET_SIZE\n",
        "MIN_SEQ_LEN = 34\n",
        "CLASSES = [1, 25, 19]\n",
        "CLASSES_PERCENTAGE = [1/len(CLASSES) for _ in range(len(CLASSES))]\n",
        "CLASSES_WITH_PERCENTAGE = {cls: percentage for cls, percentage in zip(CLASSES, CLASSES_PERCENTAGE)}\n",
        "TRAIN_CLASSES_WITH_AMOUNT = {cls: int(percentage * TRAIN_SET_SIZE) for cls, percentage in zip(CLASSES, CLASSES_PERCENTAGE)}\n",
        "VAL_CLASSES_WITH_AMOUNT = {cls: int(percentage * VAL_SET_SIZE) for cls, percentage in zip(CLASSES, CLASSES_PERCENTAGE)}\n",
        "\n",
        "\n",
        "train_subset_df = preprocess_df(train_df, TRAIN_CLASSES_WITH_AMOUNT, MIN_SEQ_LEN)\n",
        "val_subset_df = preprocess_df(val_df, VAL_CLASSES_WITH_AMOUNT, MIN_SEQ_LEN)\n",
        "\n",
        "\n",
        "train_ds = create_pipeline(\n",
        "    train_subset_df,\n",
        "    num_classes=PipelineConfig.NUM_CLASSES,\n",
        "    image_input_shape=PipelineConfig.IMAGE_INPUT_SHAPE,\n",
        "    seq_len=PipelineConfig.SEQ_LEN,\n",
        "    batch_size=PipelineConfig.BATCH_SIZE\n",
        ")\n",
        "\n",
        "val_ds = create_pipeline(\n",
        "    val_subset_df,\n",
        "    num_classes=PipelineConfig.NUM_CLASSES,\n",
        "    image_input_shape=PipelineConfig.IMAGE_INPUT_SHAPE,\n",
        "    seq_len=PipelineConfig.SEQ_LEN,\n",
        "    batch_size=PipelineConfig.BATCH_SIZE\n",
        ")\n",
        "\n",
        "def build_lstm_model(input_shape: tuple[int, int], num_classes: int):\n",
        "    model = keras.models.Sequential()\n",
        "    model.add(keras.layers.Input(input_shape))\n",
        "    model.add(keras.layers.LSTM(units=32, return_sequences=True))\n",
        "    model.add(keras.layers.LSTM(units=16, return_sequences=False))\n",
        "    model.add(keras.layers.Dropout(0.2))\n",
        "    model.add(keras.layers.Dense(units=8, activation=\"relu\"))\n",
        "    model.add(keras.layers.Dense(units=num_classes, activation=\"softmax\"))\n",
        "    return model\n",
        "\n",
        "lstm_model = build_lstm_model(input_shape=MODEL_INPUT_SHAPE, num_classes=len(CLASSES))\n",
        "\n",
        "lstm_model.compile(\n",
        "    optimizer=\"adam\",\n",
        "    loss=\"categorical_crossentropy\",\n",
        "    metrics=[\"accuracy\"]\n",
        ")\n",
        "\n",
        "early_stopping_callback = tf.keras.callbacks.EarlyStopping(\n",
        "    patience = 10,\n",
        "    monitor = 'val_loss',\n",
        "    mode=\"min\"\n",
        ")\n",
        "\n",
        "checkpoint_callback = keras.callbacks.ModelCheckpoint(\n",
        "    'model_2.keras',\n",
        "    save_best_only=True,\n",
        "    monitor='val_accuracy',\n",
        "    mode='max'\n",
        ")\n",
        "\n",
        "history = lstm_model.fit(train_ds, epochs=50, validation_data=val_ds, batch_size=PipelineConfig.BATCH_SIZE, callbacks=[early_stopping_callback, checkpoint_callback])\n"
      ],
      "metadata": {
        "colab": {
          "base_uri": "https://localhost:8080/"
        },
        "id": "VHjPn0zZTFSb",
        "outputId": "061e21e5-4bff-4509-8fdb-4923be706391"
      },
      "execution_count": 32,
      "outputs": [
        {
          "output_type": "stream",
          "name": "stderr",
          "text": [
            "WARNING:root:Needed to duplicate 1. DO NOT LEARN NETWORK WITHOUT AUGMENTATION\n",
            "WARNING:root:ADD PADDING ON LEFT AND RIGHT SIDE ON 74807\n",
            "WARNING:root:ADD PADDING ON LEFT AND RIGHT SIDE ON 93251\n",
            "WARNING:root:ADD PADDING ON LEFT AND RIGHT SIDE ON 90257\n",
            "WARNING:root:ADD PADDING ON LEFT AND RIGHT SIDE ON 94084\n",
            "WARNING:root:ADD PADDING ON LEFT AND RIGHT SIDE ON 113029\n",
            "WARNING:root:ADD PADDING ON LEFT AND RIGHT SIDE ON 107307\n",
            "WARNING:root:ADD PADDING ON LEFT AND RIGHT SIDE ON 139290\n",
            "WARNING:root:ADD PADDING ON LEFT AND RIGHT SIDE ON 125734\n",
            "WARNING:root:ADD PADDING ON LEFT AND RIGHT SIDE ON 93126\n",
            "WARNING:root:ADD PADDING ON LEFT AND RIGHT SIDE ON 133342\n",
            "WARNING:root:ADD PADDING ON LEFT AND RIGHT SIDE ON 21020\n",
            "WARNING:root:ADD PADDING ON LEFT AND RIGHT SIDE ON 76001\n",
            "WARNING:root:ADD PADDING ON LEFT AND RIGHT SIDE ON 104730\n",
            "WARNING:root:ADD PADDING ON LEFT AND RIGHT SIDE ON 35264\n",
            "WARNING:root:ADD PADDING ON LEFT AND RIGHT SIDE ON 50254\n",
            "WARNING:root:ADD PADDING ON LEFT AND RIGHT SIDE ON 35087\n",
            "WARNING:root:ADD PADDING ON LEFT AND RIGHT SIDE ON 74961\n",
            "WARNING:root:ADD PADDING ON LEFT AND RIGHT SIDE ON 110390\n",
            "WARNING:root:ADD PADDING ON LEFT AND RIGHT SIDE ON 66817\n",
            "WARNING:root:ADD PADDING ON LEFT AND RIGHT SIDE ON 18785\n",
            "WARNING:root:ADD PADDING ON LEFT AND RIGHT SIDE ON 96803\n",
            "WARNING:root:ADD PADDING ON LEFT AND RIGHT SIDE ON 121092\n",
            "WARNING:root:ADD PADDING ON LEFT AND RIGHT SIDE ON 78710\n",
            "WARNING:root:ADD PADDING ON LEFT AND RIGHT SIDE ON 83351\n",
            "WARNING:root:ADD PADDING ON LEFT AND RIGHT SIDE ON 5032\n",
            "WARNING:root:ADD PADDING ON LEFT AND RIGHT SIDE ON 90567\n",
            "WARNING:root:ADD PADDING ON LEFT AND RIGHT SIDE ON 53639\n",
            "WARNING:root:ADD PADDING ON LEFT AND RIGHT SIDE ON 102464\n",
            "WARNING:root:ADD PADDING ON LEFT AND RIGHT SIDE ON 146427\n",
            "WARNING:root:ADD PADDING ON LEFT AND RIGHT SIDE ON 63825\n",
            "WARNING:root:ADD PADDING ON LEFT AND RIGHT SIDE ON 43668\n",
            "WARNING:root:ADD PADDING ON LEFT AND RIGHT SIDE ON 122113\n",
            "WARNING:root:ADD PADDING ON LEFT AND RIGHT SIDE ON 21754\n",
            "WARNING:root:ADD PADDING ON LEFT AND RIGHT SIDE ON 51034\n",
            "WARNING:root:ADD PADDING ON LEFT AND RIGHT SIDE ON 65501\n",
            "WARNING:root:ADD PADDING ON LEFT AND RIGHT SIDE ON 40218\n",
            "WARNING:root:ADD PADDING ON LEFT AND RIGHT SIDE ON 141565\n",
            "WARNING:root:ADD PADDING ON LEFT AND RIGHT SIDE ON 86596\n",
            "WARNING:root:ADD PADDING ON LEFT AND RIGHT SIDE ON 10474\n",
            "WARNING:root:ADD PADDING ON LEFT AND RIGHT SIDE ON 90909\n",
            "WARNING:root:ADD PADDING ON LEFT AND RIGHT SIDE ON 126942\n",
            "WARNING:root:ADD PADDING ON LEFT AND RIGHT SIDE ON 50058\n",
            "WARNING:root:ADD PADDING ON LEFT AND RIGHT SIDE ON 71757\n",
            "WARNING:root:ADD PADDING ON LEFT AND RIGHT SIDE ON 36769\n",
            "WARNING:root:ADD PADDING ON LEFT AND RIGHT SIDE ON 101209\n",
            "WARNING:root:ADD PADDING ON LEFT AND RIGHT SIDE ON 11632\n",
            "WARNING:root:ADD PADDING ON LEFT AND RIGHT SIDE ON 105340\n",
            "WARNING:root:ADD PADDING ON LEFT AND RIGHT SIDE ON 52099\n",
            "WARNING:root:ADD PADDING ON LEFT AND RIGHT SIDE ON 131798\n",
            "WARNING:root:ADD PADDING ON LEFT AND RIGHT SIDE ON 95397\n",
            "WARNING:root:ADD PADDING ON LEFT AND RIGHT SIDE ON 129157\n",
            "WARNING:root:ADD PADDING ON LEFT AND RIGHT SIDE ON 37032\n",
            "WARNING:root:ADD PADDING ON LEFT AND RIGHT SIDE ON 75375\n",
            "WARNING:root:ADD PADDING ON LEFT AND RIGHT SIDE ON 45420\n",
            "WARNING:root:ADD PADDING ON LEFT AND RIGHT SIDE ON 119821\n",
            "WARNING:root:ADD PADDING ON LEFT AND RIGHT SIDE ON 66624\n",
            "WARNING:root:ADD PADDING ON LEFT AND RIGHT SIDE ON 12656\n",
            "WARNING:root:ADD PADDING ON LEFT AND RIGHT SIDE ON 84994\n",
            "WARNING:root:ADD PADDING ON LEFT AND RIGHT SIDE ON 24477\n",
            "WARNING:root:ADD PADDING ON LEFT AND RIGHT SIDE ON 124455\n",
            "WARNING:root:ADD PADDING ON LEFT AND RIGHT SIDE ON 75241\n",
            "WARNING:root:ADD PADDING ON LEFT AND RIGHT SIDE ON 68189\n",
            "WARNING:root:ADD PADDING ON LEFT AND RIGHT SIDE ON 134339\n",
            "WARNING:root:ADD PADDING ON LEFT AND RIGHT SIDE ON 100023\n",
            "WARNING:root:ADD PADDING ON LEFT AND RIGHT SIDE ON 59156\n",
            "WARNING:root:ADD PADDING ON LEFT AND RIGHT SIDE ON 48894\n",
            "WARNING:root:ADD PADDING ON LEFT AND RIGHT SIDE ON 118689\n",
            "WARNING:root:ADD PADDING ON LEFT AND RIGHT SIDE ON 75669\n",
            "WARNING:root:ADD PADDING ON LEFT AND RIGHT SIDE ON 16591\n",
            "WARNING:root:ADD PADDING ON LEFT AND RIGHT SIDE ON 51785\n",
            "WARNING:root:ADD PADDING ON LEFT AND RIGHT SIDE ON 12613\n",
            "WARNING:root:ADD PADDING ON LEFT AND RIGHT SIDE ON 34068\n",
            "WARNING:root:ADD PADDING ON LEFT AND RIGHT SIDE ON 7031\n",
            "WARNING:root:ADD PADDING ON LEFT AND RIGHT SIDE ON 25275\n",
            "WARNING:root:ADD PADDING ON LEFT AND RIGHT SIDE ON 9605\n",
            "WARNING:root:ADD PADDING ON LEFT AND RIGHT SIDE ON 34068\n",
            "WARNING:root:ADD PADDING ON LEFT AND RIGHT SIDE ON 25275\n",
            "WARNING:root:ADD PADDING ON LEFT AND RIGHT SIDE ON 88484\n",
            "WARNING:root:ADD PADDING ON LEFT AND RIGHT SIDE ON 119690\n"
          ]
        },
        {
          "output_type": "stream",
          "name": "stdout",
          "text": [
            "Epoch 1/50\n",
            "\u001b[1m109/109\u001b[0m \u001b[32m━━━━━━━━━━━━━━━━━━━━\u001b[0m\u001b[37m\u001b[0m \u001b[1m6191s\u001b[0m 57s/step - accuracy: 0.2614 - loss: 0.3300 - val_accuracy: 0.0000e+00 - val_loss: 0.2905\n",
            "Epoch 2/50\n",
            "\u001b[1m109/109\u001b[0m \u001b[32m━━━━━━━━━━━━━━━━━━━━\u001b[0m\u001b[37m\u001b[0m \u001b[1m1s\u001b[0m 8ms/step - accuracy: 0.2143 - loss: 0.2880 - val_accuracy: 0.3322 - val_loss: 0.2003\n",
            "Epoch 3/50\n",
            "\u001b[1m109/109\u001b[0m \u001b[32m━━━━━━━━━━━━━━━━━━━━\u001b[0m\u001b[37m\u001b[0m \u001b[1m1s\u001b[0m 8ms/step - accuracy: 0.2840 - loss: 0.2036 - val_accuracy: 0.3322 - val_loss: 0.1537\n",
            "Epoch 4/50\n",
            "\u001b[1m109/109\u001b[0m \u001b[32m━━━━━━━━━━━━━━━━━━━━\u001b[0m\u001b[37m\u001b[0m \u001b[1m1s\u001b[0m 8ms/step - accuracy: 0.3252 - loss: 0.1559 - val_accuracy: 0.3322 - val_loss: 0.1272\n",
            "Epoch 5/50\n",
            "\u001b[1m109/109\u001b[0m \u001b[32m━━━━━━━━━━━━━━━━━━━━\u001b[0m\u001b[37m\u001b[0m \u001b[1m1s\u001b[0m 8ms/step - accuracy: 0.3275 - loss: 0.1390 - val_accuracy: 0.3322 - val_loss: 0.1178\n",
            "Epoch 6/50\n",
            "\u001b[1m109/109\u001b[0m \u001b[32m━━━━━━━━━━━━━━━━━━━━\u001b[0m\u001b[37m\u001b[0m \u001b[1m1s\u001b[0m 8ms/step - accuracy: 0.3335 - loss: 0.1306 - val_accuracy: 0.3322 - val_loss: 0.1115\n",
            "Epoch 7/50\n",
            "\u001b[1m109/109\u001b[0m \u001b[32m━━━━━━━━━━━━━━━━━━━━\u001b[0m\u001b[37m\u001b[0m \u001b[1m1s\u001b[0m 8ms/step - accuracy: 0.3400 - loss: 0.1269 - val_accuracy: 0.3322 - val_loss: 0.1097\n",
            "Epoch 8/50\n",
            "\u001b[1m109/109\u001b[0m \u001b[32m━━━━━━━━━━━━━━━━━━━━\u001b[0m\u001b[37m\u001b[0m \u001b[1m1s\u001b[0m 8ms/step - accuracy: 0.3424 - loss: 0.1192 - val_accuracy: 0.3322 - val_loss: 0.1031\n",
            "Epoch 9/50\n",
            "\u001b[1m109/109\u001b[0m \u001b[32m━━━━━━━━━━━━━━━━━━━━\u001b[0m\u001b[37m\u001b[0m \u001b[1m1s\u001b[0m 8ms/step - accuracy: 0.3402 - loss: 0.1189 - val_accuracy: 0.3322 - val_loss: 0.1075\n",
            "Epoch 10/50\n",
            "\u001b[1m109/109\u001b[0m \u001b[32m━━━━━━━━━━━━━━━━━━━━\u001b[0m\u001b[37m\u001b[0m \u001b[1m1s\u001b[0m 8ms/step - accuracy: 0.3404 - loss: 0.1208 - val_accuracy: 0.3322 - val_loss: 0.1069\n",
            "Epoch 11/50\n",
            "\u001b[1m109/109\u001b[0m \u001b[32m━━━━━━━━━━━━━━━━━━━━\u001b[0m\u001b[37m\u001b[0m \u001b[1m1s\u001b[0m 7ms/step - accuracy: 0.3396 - loss: 0.1176 - val_accuracy: 0.3322 - val_loss: 0.1097\n",
            "Epoch 12/50\n",
            "\u001b[1m109/109\u001b[0m \u001b[32m━━━━━━━━━━━━━━━━━━━━\u001b[0m\u001b[37m\u001b[0m \u001b[1m1s\u001b[0m 8ms/step - accuracy: 0.3417 - loss: 0.1162 - val_accuracy: 0.3322 - val_loss: 0.1055\n",
            "Epoch 13/50\n",
            "\u001b[1m109/109\u001b[0m \u001b[32m━━━━━━━━━━━━━━━━━━━━\u001b[0m\u001b[37m\u001b[0m \u001b[1m1s\u001b[0m 8ms/step - accuracy: 0.3398 - loss: 0.1166 - val_accuracy: 0.3322 - val_loss: 0.1008\n",
            "Epoch 14/50\n",
            "\u001b[1m109/109\u001b[0m \u001b[32m━━━━━━━━━━━━━━━━━━━━\u001b[0m\u001b[37m\u001b[0m \u001b[1m1s\u001b[0m 8ms/step - accuracy: 0.3401 - loss: 0.1193 - val_accuracy: 0.3322 - val_loss: 0.0952\n",
            "Epoch 15/50\n",
            "\u001b[1m109/109\u001b[0m \u001b[32m━━━━━━━━━━━━━━━━━━━━\u001b[0m\u001b[37m\u001b[0m \u001b[1m1s\u001b[0m 7ms/step - accuracy: 0.3401 - loss: 0.1136 - val_accuracy: 0.3322 - val_loss: 0.1014\n",
            "Epoch 16/50\n",
            "\u001b[1m109/109\u001b[0m \u001b[32m━━━━━━━━━━━━━━━━━━━━\u001b[0m\u001b[37m\u001b[0m \u001b[1m1s\u001b[0m 8ms/step - accuracy: 0.3380 - loss: 0.1191 - val_accuracy: 0.3322 - val_loss: 0.0980\n",
            "Epoch 17/50\n",
            "\u001b[1m109/109\u001b[0m \u001b[32m━━━━━━━━━━━━━━━━━━━━\u001b[0m\u001b[37m\u001b[0m \u001b[1m1s\u001b[0m 7ms/step - accuracy: 0.3402 - loss: 0.1142 - val_accuracy: 0.3322 - val_loss: 0.0983\n",
            "Epoch 18/50\n",
            "\u001b[1m109/109\u001b[0m \u001b[32m━━━━━━━━━━━━━━━━━━━━\u001b[0m\u001b[37m\u001b[0m \u001b[1m1s\u001b[0m 7ms/step - accuracy: 0.3381 - loss: 0.1117 - val_accuracy: 0.3322 - val_loss: 0.0930\n",
            "Epoch 19/50\n",
            "\u001b[1m109/109\u001b[0m \u001b[32m━━━━━━━━━━━━━━━━━━━━\u001b[0m\u001b[37m\u001b[0m \u001b[1m1s\u001b[0m 8ms/step - accuracy: 0.3428 - loss: 0.1115 - val_accuracy: 0.3322 - val_loss: 0.0929\n",
            "Epoch 20/50\n",
            "\u001b[1m109/109\u001b[0m \u001b[32m━━━━━━━━━━━━━━━━━━━━\u001b[0m\u001b[37m\u001b[0m \u001b[1m1s\u001b[0m 7ms/step - accuracy: 0.3404 - loss: 0.0897 - val_accuracy: 0.3322 - val_loss: 0.0672\n",
            "Epoch 21/50\n",
            "\u001b[1m109/109\u001b[0m \u001b[32m━━━━━━━━━━━━━━━━━━━━\u001b[0m\u001b[37m\u001b[0m \u001b[1m1s\u001b[0m 7ms/step - accuracy: 0.3369 - loss: 0.0929 - val_accuracy: 0.3322 - val_loss: 0.0670\n",
            "Epoch 22/50\n",
            "\u001b[1m109/109\u001b[0m \u001b[32m━━━━━━━━━━━━━━━━━━━━\u001b[0m\u001b[37m\u001b[0m \u001b[1m1s\u001b[0m 7ms/step - accuracy: 0.3382 - loss: 0.0942 - val_accuracy: 0.3322 - val_loss: 0.0703\n",
            "Epoch 23/50\n",
            "\u001b[1m109/109\u001b[0m \u001b[32m━━━━━━━━━━━━━━━━━━━━\u001b[0m\u001b[37m\u001b[0m \u001b[1m1s\u001b[0m 7ms/step - accuracy: 0.3358 - loss: 0.0921 - val_accuracy: 0.3322 - val_loss: 0.0693\n",
            "Epoch 24/50\n",
            "\u001b[1m109/109\u001b[0m \u001b[32m━━━━━━━━━━━━━━━━━━━━\u001b[0m\u001b[37m\u001b[0m \u001b[1m1s\u001b[0m 7ms/step - accuracy: 0.3377 - loss: 0.0911 - val_accuracy: 0.3322 - val_loss: 0.0664\n",
            "Epoch 25/50\n",
            "\u001b[1m109/109\u001b[0m \u001b[32m━━━━━━━━━━━━━━━━━━━━\u001b[0m\u001b[37m\u001b[0m \u001b[1m1s\u001b[0m 7ms/step - accuracy: 0.3374 - loss: 0.0943 - val_accuracy: 0.3322 - val_loss: 0.0651\n",
            "Epoch 26/50\n",
            "\u001b[1m109/109\u001b[0m \u001b[32m━━━━━━━━━━━━━━━━━━━━\u001b[0m\u001b[37m\u001b[0m \u001b[1m1s\u001b[0m 7ms/step - accuracy: 0.3403 - loss: 0.0886 - val_accuracy: 0.3322 - val_loss: 0.0636\n",
            "Epoch 27/50\n",
            "\u001b[1m109/109\u001b[0m \u001b[32m━━━━━━━━━━━━━━━━━━━━\u001b[0m\u001b[37m\u001b[0m \u001b[1m1s\u001b[0m 8ms/step - accuracy: 0.3345 - loss: 0.0937 - val_accuracy: 0.3322 - val_loss: 0.0663\n",
            "Epoch 28/50\n",
            "\u001b[1m109/109\u001b[0m \u001b[32m━━━━━━━━━━━━━━━━━━━━\u001b[0m\u001b[37m\u001b[0m \u001b[1m1s\u001b[0m 8ms/step - accuracy: 0.3365 - loss: 0.0924 - val_accuracy: 0.3322 - val_loss: 0.0696\n",
            "Epoch 29/50\n",
            "\u001b[1m109/109\u001b[0m \u001b[32m━━━━━━━━━━━━━━━━━━━━\u001b[0m\u001b[37m\u001b[0m \u001b[1m1s\u001b[0m 8ms/step - accuracy: 0.3366 - loss: 0.0937 - val_accuracy: 0.3322 - val_loss: 0.0653\n",
            "Epoch 30/50\n",
            "\u001b[1m109/109\u001b[0m \u001b[32m━━━━━━━━━━━━━━━━━━━━\u001b[0m\u001b[37m\u001b[0m \u001b[1m1s\u001b[0m 7ms/step - accuracy: 0.3379 - loss: 0.0935 - val_accuracy: 0.3322 - val_loss: 0.0639\n",
            "Epoch 31/50\n",
            "\u001b[1m109/109\u001b[0m \u001b[32m━━━━━━━━━━━━━━━━━━━━\u001b[0m\u001b[37m\u001b[0m \u001b[1m1s\u001b[0m 7ms/step - accuracy: 0.3399 - loss: 0.0874 - val_accuracy: 0.3322 - val_loss: 0.0714\n",
            "Epoch 32/50\n",
            "\u001b[1m109/109\u001b[0m \u001b[32m━━━━━━━━━━━━━━━━━━━━\u001b[0m\u001b[37m\u001b[0m \u001b[1m1s\u001b[0m 7ms/step - accuracy: 0.3394 - loss: 0.0908 - val_accuracy: 0.3322 - val_loss: 0.0603\n",
            "Epoch 33/50\n",
            "\u001b[1m109/109\u001b[0m \u001b[32m━━━━━━━━━━━━━━━━━━━━\u001b[0m\u001b[37m\u001b[0m \u001b[1m1s\u001b[0m 7ms/step - accuracy: 0.3359 - loss: 0.0891 - val_accuracy: 0.3322 - val_loss: 0.0662\n",
            "Epoch 34/50\n",
            "\u001b[1m109/109\u001b[0m \u001b[32m━━━━━━━━━━━━━━━━━━━━\u001b[0m\u001b[37m\u001b[0m \u001b[1m1s\u001b[0m 7ms/step - accuracy: 0.3348 - loss: 0.0933 - val_accuracy: 0.3322 - val_loss: 0.0581\n",
            "Epoch 35/50\n",
            "\u001b[1m109/109\u001b[0m \u001b[32m━━━━━━━━━━━━━━━━━━━━\u001b[0m\u001b[37m\u001b[0m \u001b[1m1s\u001b[0m 7ms/step - accuracy: 0.3401 - loss: 0.0900 - val_accuracy: 0.3322 - val_loss: 0.0567\n",
            "Epoch 36/50\n",
            "\u001b[1m109/109\u001b[0m \u001b[32m━━━━━━━━━━━━━━━━━━━━\u001b[0m\u001b[37m\u001b[0m \u001b[1m1s\u001b[0m 7ms/step - accuracy: 0.3429 - loss: 0.0852 - val_accuracy: 0.3322 - val_loss: 0.0680\n",
            "Epoch 37/50\n",
            "\u001b[1m109/109\u001b[0m \u001b[32m━━━━━━━━━━━━━━━━━━━━\u001b[0m\u001b[37m\u001b[0m \u001b[1m1s\u001b[0m 7ms/step - accuracy: 0.3352 - loss: 0.0918 - val_accuracy: 0.3322 - val_loss: 0.0676\n",
            "Epoch 38/50\n",
            "\u001b[1m109/109\u001b[0m \u001b[32m━━━━━━━━━━━━━━━━━━━━\u001b[0m\u001b[37m\u001b[0m \u001b[1m1s\u001b[0m 7ms/step - accuracy: 0.3348 - loss: 0.0940 - val_accuracy: 0.3322 - val_loss: 0.0649\n",
            "Epoch 39/50\n",
            "\u001b[1m109/109\u001b[0m \u001b[32m━━━━━━━━━━━━━━━━━━━━\u001b[0m\u001b[37m\u001b[0m \u001b[1m1s\u001b[0m 7ms/step - accuracy: 0.3342 - loss: 0.0900 - val_accuracy: 0.3322 - val_loss: 0.0658\n",
            "Epoch 40/50\n",
            "\u001b[1m109/109\u001b[0m \u001b[32m━━━━━━━━━━━━━━━━━━━━\u001b[0m\u001b[37m\u001b[0m \u001b[1m1s\u001b[0m 7ms/step - accuracy: 0.3366 - loss: 0.0896 - val_accuracy: 0.3322 - val_loss: 0.0598\n",
            "Epoch 41/50\n",
            "\u001b[1m109/109\u001b[0m \u001b[32m━━━━━━━━━━━━━━━━━━━━\u001b[0m\u001b[37m\u001b[0m \u001b[1m1s\u001b[0m 7ms/step - accuracy: 0.3386 - loss: 0.0901 - val_accuracy: 0.3322 - val_loss: 0.0626\n",
            "Epoch 42/50\n",
            "\u001b[1m109/109\u001b[0m \u001b[32m━━━━━━━━━━━━━━━━━━━━\u001b[0m\u001b[37m\u001b[0m \u001b[1m1s\u001b[0m 8ms/step - accuracy: 0.3392 - loss: 0.0911 - val_accuracy: 0.3322 - val_loss: 0.0613\n",
            "Epoch 43/50\n",
            "\u001b[1m109/109\u001b[0m \u001b[32m━━━━━━━━━━━━━━━━━━━━\u001b[0m\u001b[37m\u001b[0m \u001b[1m1s\u001b[0m 8ms/step - accuracy: 0.3381 - loss: 0.0853 - val_accuracy: 0.3322 - val_loss: 0.0630\n",
            "Epoch 44/50\n",
            "\u001b[1m109/109\u001b[0m \u001b[32m━━━━━━━━━━━━━━━━━━━━\u001b[0m\u001b[37m\u001b[0m \u001b[1m1s\u001b[0m 8ms/step - accuracy: 0.3360 - loss: 0.0900 - val_accuracy: 0.3322 - val_loss: 0.0622\n",
            "Epoch 45/50\n",
            "\u001b[1m109/109\u001b[0m \u001b[32m━━━━━━━━━━━━━━━━━━━━\u001b[0m\u001b[37m\u001b[0m \u001b[1m1s\u001b[0m 8ms/step - accuracy: 0.3351 - loss: 0.0914 - val_accuracy: 0.3322 - val_loss: 0.0647\n"
          ]
        }
      ]
    },
    {
      "cell_type": "code",
      "source": [
        "plt.figure(figsize=(12, 5))\n",
        "\n",
        "plt.subplot(1, 2, 1)\n",
        "plt.plot(history.history['accuracy'], label='Train Accuracy')\n",
        "plt.plot(history.history['val_accuracy'], label='Validation Accuracy')\n",
        "plt.xlabel('Epoch')\n",
        "plt.ylabel('Accuracy')\n",
        "plt.ylim([0, 1])\n",
        "plt.legend(loc='lower right')\n",
        "plt.title('Model Accuracy')\n",
        "\n",
        "# Loss plot\n",
        "plt.subplot(1, 2, 2)\n",
        "plt.plot(history.history['loss'], label='Train Loss')\n",
        "plt.plot(history.history['val_loss'], label='Validation Loss')\n",
        "plt.xlabel('Epoch')\n",
        "plt.ylabel('Loss')\n",
        "plt.ylim([0, max(history.history['loss'])])\n",
        "plt.legend(loc='upper right')\n",
        "plt.title('Model Loss')\n",
        "\n",
        "\n",
        "plt.savefig('/content/drive/MyDrive/training_plots_5000.png')\n",
        "\n",
        "print(\"Plots saved as 'training_plots_5000.png'\")\n",
        "\n"
      ],
      "metadata": {
        "id": "CU0LROpOaHC3",
        "outputId": "db417371-51ef-45a4-d0f0-f34735831e2d",
        "colab": {
          "base_uri": "https://localhost:8080/",
          "height": 504
        }
      },
      "execution_count": 37,
      "outputs": [
        {
          "output_type": "stream",
          "name": "stdout",
          "text": [
            "Plots saved as 'training_plots_5000.png'\n"
          ]
        },
        {
          "output_type": "display_data",
          "data": {
            "text/plain": [
              "<Figure size 1200x500 with 2 Axes>"
            ],
            "image/png": "[encoded data removed]"
          },
          "metadata": {}
        }
      ]
    },
    {
      "cell_type": "code",
      "source": [
        "from sklearn.metrics import confusion_matrix, ConfusionMatrixDisplay\n",
        "import matplotlib.pyplot as plt\n",
        "\n",
        "# Step 1: Get predictions and true labels\n",
        "y_pred = []\n",
        "y_true = []\n",
        "\n",
        "# Iterate over the validation dataset to get predictions and true labels\n",
        "for images, labels in val_ds:\n",
        "    # Predict classes for the current batch\n",
        "    predictions = lstm_model.predict(images)\n",
        "    predicted_classes = np.argmax(predictions, axis=1)\n",
        "    true_classes = np.argmax(labels, axis=1)\n",
        "\n",
        "    y_pred.extend(predicted_classes)\n",
        "    y_true.extend(true_classes)\n",
        "\n",
        "# Step 2: Compute confusion matrix\n",
        "cm = confusion_matrix(y_true, y_pred, labels=range(len(CLASSES)))\n",
        "\n",
        "# Step 3 (optional): Plot the confusion matrix\n",
        "disp = ConfusionMatrixDisplay(confusion_matrix=cm, display_labels=CLASSES)\n",
        "disp.plot(cmap=plt.cm.Blues)\n",
        "plt.title(\"Confusion Matrix for Validation Set\")\n",
        "plt.show()"
      ],
      "metadata": {
        "id": "lOk7BOzQety3",
        "outputId": "b3aa13c8-ae1c-414e-94d1-0a45cd2931aa",
        "colab": {
          "base_uri": "https://localhost:8080/",
          "height": 1000
        }
      },
      "execution_count": 36,
      "outputs": [
        {
          "output_type": "stream",
          "name": "stdout",
          "text": [
            "\u001b[1m1/1\u001b[0m \u001b[32m━━━━━━━━━━━━━━━━━━━━\u001b[0m\u001b[37m\u001b[0m \u001b[1m0s\u001b[0m 27ms/step\n",
            "\u001b[1m1/1\u001b[0m \u001b[32m━━━━━━━━━━━━━━━━━━━━\u001b[0m\u001b[37m\u001b[0m \u001b[1m0s\u001b[0m 26ms/step\n",
            "\u001b[1m1/1\u001b[0m \u001b[32m━━━━━━━━━━━━━━━━━━━━\u001b[0m\u001b[37m\u001b[0m \u001b[1m0s\u001b[0m 27ms/step\n",
            "\u001b[1m1/1\u001b[0m \u001b[32m━━━━━━━━━━━━━━━━━━━━\u001b[0m\u001b[37m\u001b[0m \u001b[1m0s\u001b[0m 29ms/step\n",
            "\u001b[1m1/1\u001b[0m \u001b[32m━━━━━━━━━━━━━━━━━━━━\u001b[0m\u001b[37m\u001b[0m \u001b[1m0s\u001b[0m 27ms/step\n",
            "\u001b[1m1/1\u001b[0m \u001b[32m━━━━━━━━━━━━━━━━━━━━\u001b[0m\u001b[37m\u001b[0m \u001b[1m0s\u001b[0m 26ms/step\n",
            "\u001b[1m1/1\u001b[0m \u001b[32m━━━━━━━━━━━━━━━━━━━━\u001b[0m\u001b[37m\u001b[0m \u001b[1m0s\u001b[0m 25ms/step\n",
            "\u001b[1m1/1\u001b[0m \u001b[32m━━━━━━━━━━━━━━━━━━━━\u001b[0m\u001b[37m\u001b[0m \u001b[1m0s\u001b[0m 25ms/step\n",
            "\u001b[1m1/1\u001b[0m \u001b[32m━━━━━━━━━━━━━━━━━━━━\u001b[0m\u001b[37m\u001b[0m \u001b[1m0s\u001b[0m 24ms/step\n",
            "\u001b[1m1/1\u001b[0m \u001b[32m━━━━━━━━━━━━━━━━━━━━\u001b[0m\u001b[37m\u001b[0m \u001b[1m0s\u001b[0m 25ms/step\n",
            "\u001b[1m1/1\u001b[0m \u001b[32m━━━━━━━━━━━━━━━━━━━━\u001b[0m\u001b[37m\u001b[0m \u001b[1m0s\u001b[0m 23ms/step\n",
            "\u001b[1m1/1\u001b[0m \u001b[32m━━━━━━━━━━━━━━━━━━━━\u001b[0m\u001b[37m\u001b[0m \u001b[1m0s\u001b[0m 23ms/step\n",
            "\u001b[1m1/1\u001b[0m \u001b[32m━━━━━━━━━━━━━━━━━━━━\u001b[0m\u001b[37m\u001b[0m \u001b[1m0s\u001b[0m 23ms/step\n",
            "\u001b[1m1/1\u001b[0m \u001b[32m━━━━━━━━━━━━━━━━━━━━\u001b[0m\u001b[37m\u001b[0m \u001b[1m0s\u001b[0m 23ms/step\n",
            "\u001b[1m1/1\u001b[0m \u001b[32m━━━━━━━━━━━━━━━━━━━━\u001b[0m\u001b[37m\u001b[0m \u001b[1m0s\u001b[0m 23ms/step\n",
            "\u001b[1m1/1\u001b[0m \u001b[32m━━━━━━━━━━━━━━━━━━━━\u001b[0m\u001b[37m\u001b[0m \u001b[1m0s\u001b[0m 24ms/step\n",
            "\u001b[1m1/1\u001b[0m \u001b[32m━━━━━━━━━━━━━━━━━━━━\u001b[0m\u001b[37m\u001b[0m \u001b[1m0s\u001b[0m 26ms/step\n",
            "\u001b[1m1/1\u001b[0m \u001b[32m━━━━━━━━━━━━━━━━━━━━\u001b[0m\u001b[37m\u001b[0m \u001b[1m0s\u001b[0m 23ms/step\n",
            "\u001b[1m1/1\u001b[0m \u001b[32m━━━━━━━━━━━━━━━━━━━━\u001b[0m\u001b[37m\u001b[0m \u001b[1m0s\u001b[0m 23ms/step\n",
            "\u001b[1m1/1\u001b[0m \u001b[32m━━━━━━━━━━━━━━━━━━━━\u001b[0m\u001b[37m\u001b[0m \u001b[1m0s\u001b[0m 24ms/step\n",
            "\u001b[1m1/1\u001b[0m \u001b[32m━━━━━━━━━━━━━━━━━━━━\u001b[0m\u001b[37m\u001b[0m \u001b[1m0s\u001b[0m 24ms/step\n",
            "\u001b[1m1/1\u001b[0m \u001b[32m━━━━━━━━━━━━━━━━━━━━\u001b[0m\u001b[37m\u001b[0m \u001b[1m0s\u001b[0m 23ms/step\n",
            "\u001b[1m1/1\u001b[0m \u001b[32m━━━━━━━━━━━━━━━━━━━━\u001b[0m\u001b[37m\u001b[0m \u001b[1m0s\u001b[0m 24ms/step\n",
            "\u001b[1m1/1\u001b[0m \u001b[32m━━━━━━━━━━━━━━━━━━━━\u001b[0m\u001b[37m\u001b[0m \u001b[1m0s\u001b[0m 23ms/step\n",
            "\u001b[1m1/1\u001b[0m \u001b[32m━━━━━━━━━━━━━━━━━━━━\u001b[0m\u001b[37m\u001b[0m \u001b[1m0s\u001b[0m 25ms/step\n",
            "\u001b[1m1/1\u001b[0m \u001b[32m━━━━━━━━━━━━━━━━━━━━\u001b[0m\u001b[37m\u001b[0m \u001b[1m0s\u001b[0m 24ms/step\n",
            "\u001b[1m1/1\u001b[0m \u001b[32m━━━━━━━━━━━━━━━━━━━━\u001b[0m\u001b[37m\u001b[0m \u001b[1m0s\u001b[0m 24ms/step\n",
            "\u001b[1m1/1\u001b[0m \u001b[32m━━━━━━━━━━━━━━━━━━━━\u001b[0m\u001b[37m\u001b[0m \u001b[1m0s\u001b[0m 25ms/step\n",
            "\u001b[1m1/1\u001b[0m \u001b[32m━━━━━━━━━━━━━━━━━━━━\u001b[0m\u001b[37m\u001b[0m \u001b[1m0s\u001b[0m 24ms/step\n",
            "\u001b[1m1/1\u001b[0m \u001b[32m━━━━━━━━━━━━━━━━━━━━\u001b[0m\u001b[37m\u001b[0m \u001b[1m0s\u001b[0m 24ms/step\n",
            "\u001b[1m1/1\u001b[0m \u001b[32m━━━━━━━━━━━━━━━━━━━━\u001b[0m\u001b[37m\u001b[0m \u001b[1m0s\u001b[0m 23ms/step\n",
            "\u001b[1m1/1\u001b[0m \u001b[32m━━━━━━━━━━━━━━━━━━━━\u001b[0m\u001b[37m\u001b[0m \u001b[1m0s\u001b[0m 24ms/step\n",
            "\u001b[1m1/1\u001b[0m \u001b[32m━━━━━━━━━━━━━━━━━━━━\u001b[0m\u001b[37m\u001b[0m \u001b[1m0s\u001b[0m 23ms/step\n",
            "\u001b[1m1/1\u001b[0m \u001b[32m━━━━━━━━━━━━━━━━━━━━\u001b[0m\u001b[37m\u001b[0m \u001b[1m0s\u001b[0m 25ms/step\n",
            "\u001b[1m1/1\u001b[0m \u001b[32m━━━━━━━━━━━━━━━━━━━━\u001b[0m\u001b[37m\u001b[0m \u001b[1m0s\u001b[0m 23ms/step\n",
            "\u001b[1m1/1\u001b[0m \u001b[32m━━━━━━━━━━━━━━━━━━━━\u001b[0m\u001b[37m\u001b[0m \u001b[1m0s\u001b[0m 23ms/step\n",
            "\u001b[1m1/1\u001b[0m \u001b[32m━━━━━━━━━━━━━━━━━━━━\u001b[0m\u001b[37m\u001b[0m \u001b[1m0s\u001b[0m 23ms/step\n",
            "\u001b[1m1/1\u001b[0m \u001b[32m━━━━━━━━━━━━━━━━━━━━\u001b[0m\u001b[37m\u001b[0m \u001b[1m0s\u001b[0m 23ms/step\n",
            "\u001b[1m1/1\u001b[0m \u001b[32m━━━━━━━━━━━━━━━━━━━━\u001b[0m\u001b[37m\u001b[0m \u001b[1m0s\u001b[0m 24ms/step\n",
            "\u001b[1m1/1\u001b[0m \u001b[32m━━━━━━━━━━━━━━━━━━━━\u001b[0m\u001b[37m\u001b[0m \u001b[1m0s\u001b[0m 23ms/step\n",
            "\u001b[1m1/1\u001b[0m \u001b[32m━━━━━━━━━━━━━━━━━━━━\u001b[0m\u001b[37m\u001b[0m \u001b[1m0s\u001b[0m 24ms/step\n",
            "\u001b[1m1/1\u001b[0m \u001b[32m━━━━━━━━━━━━━━━━━━━━\u001b[0m\u001b[37m\u001b[0m \u001b[1m0s\u001b[0m 24ms/step\n",
            "\u001b[1m1/1\u001b[0m \u001b[32m━━━━━━━━━━━━━━━━━━━━\u001b[0m\u001b[37m\u001b[0m \u001b[1m0s\u001b[0m 24ms/step\n",
            "\u001b[1m1/1\u001b[0m \u001b[32m━━━━━━━━━━━━━━━━━━━━\u001b[0m\u001b[37m\u001b[0m \u001b[1m0s\u001b[0m 23ms/step\n",
            "\u001b[1m1/1\u001b[0m \u001b[32m━━━━━━━━━━━━━━━━━━━━\u001b[0m\u001b[37m\u001b[0m \u001b[1m0s\u001b[0m 22ms/step\n",
            "\u001b[1m1/1\u001b[0m \u001b[32m━━━━━━━━━━━━━━━━━━━━\u001b[0m\u001b[37m\u001b[0m \u001b[1m0s\u001b[0m 25ms/step\n"
          ]
        },
        {
          "output_type": "display_data",
          "data": {
            "text/plain": [
              "<Figure size 640x480 with 2 Axes>"
            ],
            "image/png": "[encoded data removed]"
          },
          "metadata": {}
        }
      ]
    },
    {
      "cell_type": "code",
      "source": [
        "for images, labels in val_ds:\n",
        "  print(images)\n",
        "  print(labels)\n",
        "  break\n",
        ""
      ],
      "metadata": {
        "id": "wGLeHNMfh9fw",
        "outputId": "56f1cde3-034a-439d-a49a-4dbd4c966e49",
        "colab": {
          "base_uri": "https://localhost:8080/"
        }
      },
      "execution_count": 45,
      "outputs": [
        {
          "output_type": "stream",
          "name": "stdout",
          "text": [
            "tf.Tensor(\n",
            "[[[0.5737141  0.05958275 0.53064746 ... 0.06020821 0.6894892  0.        ]\n",
            "  [0.8363559  0.0727459  0.46575314 ... 0.0967205  0.8560342  0.01454005]\n",
            "  [0.8249722  0.11676199 0.5569422  ... 0.09254806 0.97114235 0.        ]\n",
            "  ...\n",
            "  [0.28843132 0.01066789 0.28292128 ... 0.02455526 0.96775025 0.01751983]\n",
            "  [0.2923173  0.08301053 0.37004364 ... 0.01261733 0.91357344 0.0447146 ]\n",
            "  [0.22809272 0.0152322  0.2670912  ... 0.00168494 0.8564361  0.06613174]]\n",
            "\n",
            " [[0.06313126 0.29888517 0.33287144 ... 0.05459344 0.06022876 0.4794964 ]\n",
            "  [0.03874885 0.31734982 0.3775361  ... 0.01246669 0.14413232 0.4113311 ]\n",
            "  [0.03471316 0.29508057 0.66234833 ... 0.02497032 0.23341617 0.6939431 ]\n",
            "  ...\n",
            "  [1.5418086  0.19547974 1.2037923  ... 0.03773854 0.         1.3613946 ]\n",
            "  [1.4852616  0.11048668 1.3077167  ... 0.10200321 0.30738735 1.4155349 ]\n",
            "  [0.9736914  0.21815915 1.2066016  ... 0.04870706 0.00756973 1.289406  ]]\n",
            "\n",
            " [[0.71893334 0.11408296 0.00197318 ... 0.46087325 0.         0.25486985]\n",
            "  [0.7621304  0.07453044 0.03670432 ... 0.3462327  0.         0.17213991]\n",
            "  [0.7606152  0.10115051 0.04271147 ... 0.3095019  0.         0.22633445]\n",
            "  ...\n",
            "  [0.61881113 0.5642629  0.29258767 ... 0.6912738  0.02247366 0.02707845]\n",
            "  [0.50477076 0.59238935 0.26585853 ... 0.6591464  0.         0.03101377]\n",
            "  [0.48395756 0.5297857  0.21188469 ... 0.64536285 0.00834621 0.00312522]]\n",
            "\n",
            " ...\n",
            "\n",
            " [[0.10190193 0.         0.1258515  ... 0.21445252 0.20598362 0.2734009 ]\n",
            "  [0.06921013 0.01076042 0.13698749 ... 0.3177736  0.16851656 0.09410152]\n",
            "  [0.069131   0.00265854 0.12373587 ... 0.16138892 0.20243105 0.30499548]\n",
            "  ...\n",
            "  [0.18340553 0.24981648 0.08010455 ... 0.09452105 0.41066292 0.10895025]\n",
            "  [0.19695683 0.10142948 0.02449955 ... 0.28087124 0.35945043 0.27936447]\n",
            "  [0.08858529 0.12433746 0.         ... 0.55927485 0.705848   0.2761666 ]]\n",
            "\n",
            " [[0.66726214 0.16953781 0.02948055 ... 0.681597   0.3881356  0.18996182]\n",
            "  [0.33719632 0.26294076 0.0624937  ... 0.4912236  0.44256774 0.24868971]\n",
            "  [0.45422414 0.30238    0.12888855 ... 0.46331596 0.55324614 0.15382381]\n",
            "  ...\n",
            "  [0.0494208  0.28962663 0.01641594 ... 0.5998609  0.63097715 0.2919717 ]\n",
            "  [0.02479408 0.3399757  0.04131204 ... 0.8459275  0.1838599  0.33948186]\n",
            "  [0.06291244 0.20066854 0.06097209 ... 0.7196993  0.82738584 0.36709952]]\n",
            "\n",
            " [[0.94114095 0.2818988  0.04020917 ... 0.7480954  0.8956907  0.76166797]\n",
            "  [0.9033197  0.40626526 0.03652646 ... 0.7503513  1.0611087  0.5748173 ]\n",
            "  [0.7310762  0.4437265  0.03086338 ... 0.9691069  0.9685734  0.5334771 ]\n",
            "  ...\n",
            "  [0.44133714 0.5646577  0.10968811 ... 0.49115753 0.40493488 0.8495536 ]\n",
            "  [0.6073206  0.39040774 0.05135142 ... 0.4698628  0.4395313  1.0539955 ]\n",
            "  [0.63991565 0.3514301  0.09715199 ... 0.41108268 0.3080119  0.8085377 ]]], shape=(32, 30, 2048), dtype=float32)\n",
            "tf.Tensor(\n",
            "[[0 1 0]\n",
            " [0 0 0]\n",
            " [0 1 0]\n",
            " [0 0 0]\n",
            " [0 0 0]\n",
            " [0 0 0]\n",
            " [0 0 0]\n",
            " [0 0 0]\n",
            " [0 0 0]\n",
            " [0 0 0]\n",
            " [0 0 0]\n",
            " [0 0 0]\n",
            " [0 0 0]\n",
            " [0 1 0]\n",
            " [0 0 0]\n",
            " [0 1 0]\n",
            " [0 1 0]\n",
            " [0 0 0]\n",
            " [0 0 0]\n",
            " [0 1 0]\n",
            " [0 0 0]\n",
            " [0 0 0]\n",
            " [0 0 0]\n",
            " [0 0 0]\n",
            " [0 0 0]\n",
            " [0 1 0]\n",
            " [0 0 0]\n",
            " [0 1 0]\n",
            " [0 0 0]\n",
            " [0 1 0]\n",
            " [0 0 0]\n",
            " [0 1 0]], shape=(32, 3), dtype=int32)\n"
          ]
        }
      ]
    },
    {
      "cell_type": "code",
      "source": [],
      "metadata": {
        "id": "VGoZ0q2yiCXD"
      },
      "execution_count": null,
      "outputs": []
    }
  ]
}