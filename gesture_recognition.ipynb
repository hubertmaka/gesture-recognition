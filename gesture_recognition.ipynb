{
  "nbformat": 4,
  "nbformat_minor": 0,
  "metadata": {
    "colab": {
      "provenance": [],
      "machine_shape": "hm",
      "gpuType": "L4",
      "authorship_tag": "ABX9TyM9KVoLo85b+nf/axp1fZNU",
      "include_colab_link": true
    },
    "kernelspec": {
      "name": "python3",
      "display_name": "Python 3"
    },
    "language_info": {
      "name": "python"
    },
    "accelerator": "GPU"
  },
  "cells": [
    {
      "cell_type": "markdown",
      "metadata": {
        "id": "view-in-github",
        "colab_type": "text"
      },
      "source": [
        "<a href=\"https://colab.research.google.com/github/hubertmaka/gesture-recognition/blob/main/gesture_recognition.ipynb\" target=\"_parent\"><img src=\"https://colab.research.google.com/assets/colab-badge.svg\" alt=\"Open In Colab\"/></a>"
      ]
    },
    {
      "cell_type": "markdown",
      "source": [
        "# Gesture Recognition Notebook"
      ],
      "metadata": {
        "id": "pX9-C4Vx11s5"
      }
    },
    {
      "cell_type": "markdown",
      "source": [
        "## 1. Mount Google Drive"
      ],
      "metadata": {
        "id": "qrVxf1vt3KNO"
      }
    },
    {
      "cell_type": "code",
      "source": [
        "from google.colab import drive\n",
        "drive.mount('/content/drive')"
      ],
      "metadata": {
        "id": "eBRsbkaFEDHl",
        "outputId": "b4d68455-295b-4286-937f-22afdeba9a22",
        "colab": {
          "base_uri": "https://localhost:8080/"
        }
      },
      "execution_count": 1,
      "outputs": [
        {
          "output_type": "stream",
          "name": "stdout",
          "text": [
            "Mounted at /content/drive\n"
          ]
        }
      ]
    },
    {
      "cell_type": "markdown",
      "source": [
        "### 2. Unpack dataset on Google Drive"
      ],
      "metadata": {
        "id": "9qTeuBRt2-mx"
      }
    },
    {
      "cell_type": "code",
      "source": [
        "import zipfile\n",
        "import os\n",
        "from tqdm import tqdm\n",
        "\n",
        "def unzip_file_with_progress(zip_file_path, output_dir):\n",
        "    if not os.path.exists(zip_file_path):\n",
        "        print(f\"File {zip_file_path} does not exist.\")\n",
        "        return\n",
        "\n",
        "    if not os.path.exists(output_dir):\n",
        "        os.makedirs(output_dir)\n",
        "\n",
        "    with zipfile.ZipFile(zip_file_path, 'r') as zip_ref:\n",
        "        file_list = zip_ref.infolist()\n",
        "        total_files = len(file_list)\n",
        "\n",
        "        with tqdm(total=total_files, unit='file') as pbar:\n",
        "            for file_info in file_list:\n",
        "                zip_ref.extract(file_info, output_dir)\n",
        "                pbar.update(1)\n",
        "\n",
        "        print(f\"File {zip_file_path} unarchived to {output_dir}\")\n",
        "\n",
        "def unzip_all_files_in_folder():\n",
        "  for i in range(1, 18):\n",
        "    zip_file_path = f'/content/drive/MyDrive/gesture-recognition/kat{i}.zip'\n",
        "    output_dir = f'/content/drive/MyDrive/gesture-recognition/data/kat{i}'\n",
        "    unzip_file_with_progress(zip_file_path, output_dir)\n"
      ],
      "metadata": {
        "id": "G9dYZl_AMo_g"
      },
      "execution_count": null,
      "outputs": []
    },
    {
      "cell_type": "markdown",
      "source": [
        "## 3. Import libraries"
      ],
      "metadata": {
        "id": "TG_HyrLT5OZx"
      }
    },
    {
      "cell_type": "code",
      "source": [
        "import os\n",
        "import datetime\n",
        "import logging\n",
        "from dataclasses import dataclass\n",
        "import sys\n",
        "\n",
        "from tqdm import tqdm\n",
        "import numpy as np\n",
        "import pandas as pd\n",
        "import tensorflow as tf\n",
        "import keras\n",
        "import matplotlib.pyplot as plt\n",
        "import matplotlib as matplb"
      ],
      "metadata": {
        "id": "GkaLToLX5Pcy"
      },
      "execution_count": 2,
      "outputs": []
    },
    {
      "cell_type": "code",
      "source": [
        "print(f\"TensorFlow Version: {tf.__version__}\")\n",
        "print(f\"Keras Version: {keras.__version__}\")\n",
        "print(f\"Pandas Version: {pd.__version__}\")\n",
        "print(f\"Numpy Version: {np.__version__}\")\n",
        "print(f\"Matplotlib Version: {matplb.__version__}\")\n",
        "print(f\"Python Version: {sys.version}\")"
      ],
      "metadata": {
        "id": "SAs4Wew1525l",
        "outputId": "4a7dff8f-991e-4cd1-d951-854b0f9fa275",
        "colab": {
          "base_uri": "https://localhost:8080/"
        }
      },
      "execution_count": 3,
      "outputs": [
        {
          "output_type": "stream",
          "name": "stdout",
          "text": [
            "TensorFlow Version: 2.17.0\n",
            "Keras Version: 3.4.1\n",
            "Pandas Version: 2.2.2\n",
            "Numpy Version: 1.26.4\n",
            "Matplotlib Version: 3.7.1\n",
            "Python Version: 3.10.12 (main, Sep 11 2024, 15:47:36) [GCC 11.4.0]\n"
          ]
        }
      ]
    },
    {
      "cell_type": "code",
      "source": [
        "JESTER_DATASET_DIR_PATH = os.path.join(\"/\", \"content\", \"drive\", \"MyDrive\", \"gesture-recognition\")\n",
        "TRAIN_INFO_PATH = os.path.join(JESTER_DATASET_DIR_PATH, \"info\", \"jester-v1-train.csv\")\n",
        "VAL_INFO_PATH = os.path.join(JESTER_DATASET_DIR_PATH, \"info\", \"jester-v1-validation.csv\")\n",
        "TEST_INFO_PATH = os.path.join(JESTER_DATASET_DIR_PATH, \"info\", \"jester-v1-test.csv\")\n",
        "LABELS_INFO_PATH = os.path.join(JESTER_DATASET_DIR_PATH, \"info\", 'jester-v1-labels.csv')\n",
        "VIDEO_DIR_PATH = os.path.join(JESTER_DATASET_DIR_PATH, \"data\")"
      ],
      "metadata": {
        "id": "352E8ZCucdUS"
      },
      "execution_count": 4,
      "outputs": []
    },
    {
      "cell_type": "markdown",
      "source": [
        "## 4. Dataset analysis"
      ],
      "metadata": {
        "id": "zLRkUPDg10g6"
      }
    },
    {
      "cell_type": "markdown",
      "source": [
        "### 4.1 Config:"
      ],
      "metadata": {
        "id": "IdqotB-x6aoh"
      }
    },
    {
      "cell_type": "code",
      "source": [
        "pd.options.mode.copy_on_write = True\n",
        "DIR_SPLIT_BATCH_SIZE = 9000"
      ],
      "metadata": {
        "id": "bynKMMVR4-oW"
      },
      "execution_count": null,
      "outputs": []
    },
    {
      "cell_type": "markdown",
      "source": [
        "### 4.2 Data preprocessing:"
      ],
      "metadata": {
        "id": "TayJiQMH6lR_"
      }
    },
    {
      "cell_type": "code",
      "source": [
        "column_names = [\"video_id\", \"label\"]\n",
        "train_df = pd.read_csv(TRAIN_INFO_PATH, names=column_names, header=None, delimiter=\";\")\n",
        "val_df = pd.read_csv(VAL_INFO_PATH, names=column_names, header=None, delimiter=\";\")\n",
        "test_df = pd.read_csv(TEST_INFO_PATH, names=column_names, header=None, delimiter=\";\")"
      ],
      "metadata": {
        "id": "JiPHnPTZ6KAu"
      },
      "execution_count": null,
      "outputs": []
    },
    {
      "cell_type": "code",
      "source": [
        "train_df"
      ],
      "metadata": {
        "id": "xy5rHBXU7Ngk"
      },
      "execution_count": null,
      "outputs": []
    },
    {
      "cell_type": "code",
      "source": [
        "# @title Distribution of Hand Gesture Labels In Train Subset\n",
        "\n",
        "plt.figure(figsize=(10, 6))\n",
        "train_df['label'].value_counts().plot(kind='bar')\n",
        "plt.xlabel('Hand Gesture Label')\n",
        "plt.ylabel('Frequency')\n",
        "_ = plt.title('Distribution of Hand Gesture Labels In Train Subset')"
      ],
      "metadata": {
        "id": "MTumr0z-88lc",
        "outputId": "d3c977e7-a8cf-47a5-ce8a-8e3040a3988a",
        "colab": {
          "base_uri": "https://localhost:8080/",
          "height": 768
        }
      },
      "execution_count": null,
      "outputs": [
        {
          "output_type": "display_data",
          "data": {
            "text/plain": [
              "<Figure size 1000x600 with 1 Axes>"
            ],
            "image/png": "[encoded data removed]"
          },
          "metadata": {}
        }
      ]
    },
    {
      "cell_type": "code",
      "source": [
        "val_df"
      ],
      "metadata": {
        "id": "TdDHWrGD7c9K"
      },
      "execution_count": null,
      "outputs": []
    },
    {
      "source": [
        "# @title Distribution of Hand Gesture Labels In Val Subset\n",
        "\n",
        "plt.figure(figsize=(10, 6))\n",
        "val_df['label'].value_counts().plot(kind='bar')\n",
        "plt.xlabel('Hand Gesture Label')\n",
        "plt.ylabel('Frequency')\n",
        "_ = plt.title('Distribution of Hand Gesture Labels In Val Subset')"
      ],
      "cell_type": "code",
      "execution_count": null,
      "outputs": [],
      "metadata": {
        "id": "Rwwbxfsz8wIh"
      }
    },
    {
      "cell_type": "code",
      "source": [
        "test_df"
      ],
      "metadata": {
        "id": "hyTSkes273Z-"
      },
      "execution_count": null,
      "outputs": []
    },
    {
      "cell_type": "code",
      "source": [
        "print(f\"Number of all videos: {len(train_df) + len(val_df) + len(test_df)}\")"
      ],
      "metadata": {
        "id": "12cr8fYp71_E"
      },
      "execution_count": null,
      "outputs": []
    },
    {
      "cell_type": "markdown",
      "source": [
        "#### Loading labels:"
      ],
      "metadata": {
        "id": "xVZ5GysR-QFA"
      }
    },
    {
      "cell_type": "code",
      "source": [
        "jester_labels = {}\n",
        "with open(LABELS_INFO_PATH) as f:\n",
        "    for idx2, line in enumerate(f):\n",
        "        jester_labels[line.strip()] = idx2"
      ],
      "metadata": {
        "id": "RBU6IfRT-C4U"
      },
      "execution_count": null,
      "outputs": []
    },
    {
      "cell_type": "code",
      "source": [
        "jester_labels"
      ],
      "metadata": {
        "id": "HnqTpj6q-qUh"
      },
      "execution_count": null,
      "outputs": []
    },
    {
      "cell_type": "markdown",
      "source": [
        "#### Adding label id to DataFrame:"
      ],
      "metadata": {
        "id": "EraZbP84-0yM"
      }
    },
    {
      "cell_type": "code",
      "source": [
        "train_df[\"label_id\"] = train_df[\"label\"].apply(lambda label: jester_labels.get(label))\n",
        "val_df[\"label_id\"] = train_df[\"label\"].apply(lambda label: jester_labels.get(label))"
      ],
      "metadata": {
        "id": "leGyb-wC-s3B"
      },
      "execution_count": null,
      "outputs": []
    },
    {
      "cell_type": "code",
      "source": [
        "train_df"
      ],
      "metadata": {
        "id": "lOyREyQ2-8Nn"
      },
      "execution_count": null,
      "outputs": []
    },
    {
      "cell_type": "code",
      "source": [
        "val_df"
      ],
      "metadata": {
        "id": "Uos3J6dU--_n"
      },
      "execution_count": null,
      "outputs": []
    },
    {
      "cell_type": "markdown",
      "source": [
        "#### Adding Video Path To DataFrame:"
      ],
      "metadata": {
        "id": "hzxRvnSt_B2r"
      }
    },
    {
      "cell_type": "code",
      "source": [
        "def get_directory_path(catalog_id, main_directory, batch_size):\n",
        "  batch_num = (catalog_id - 1) // batch_size + 1\n",
        "  batch_dir = f\"kat{batch_num}\"\n",
        "  directory_path = os.path.join(main_directory, batch_dir, str(catalog_id))\n",
        "  return directory_path"
      ],
      "metadata": {
        "id": "BR2pJhJv-_7g"
      },
      "execution_count": null,
      "outputs": []
    },
    {
      "cell_type": "code",
      "source": [
        "train_df[\"path\"] = train_df[\"video_id\"].apply(lambda video_id: get_directory_path(main_directory=VIDEO_DIR_PATH, catalog_id=video_id, batch_size=DIR_SPLIT_BATCH_SIZE))\n",
        "val_df[\"path\"] = val_df[\"video_id\"].apply(lambda video_id: get_directory_path(main_directory=VIDEO_DIR_PATH, catalog_id=video_id, batch_size=DIR_SPLIT_BATCH_SIZE))"
      ],
      "metadata": {
        "id": "tBaX_f4X_KUc"
      },
      "execution_count": null,
      "outputs": []
    },
    {
      "cell_type": "code",
      "source": [
        "train_df"
      ],
      "metadata": {
        "id": "UtLLZQHY_aSI"
      },
      "execution_count": null,
      "outputs": []
    },
    {
      "cell_type": "code",
      "source": [
        "val_df"
      ],
      "metadata": {
        "id": "j5wCVkg__fQC"
      },
      "execution_count": null,
      "outputs": []
    },
    {
      "cell_type": "markdown",
      "source": [
        "#### Mapping Labels To DataFrame:"
      ],
      "metadata": {
        "id": "qJwlNHvC_S9L"
      }
    },
    {
      "cell_type": "code",
      "source": [
        "mapped_labels = train_df[[\"label\", \"label_id\"]].drop_duplicates().sort_values(by=[\"label_id\"])"
      ],
      "metadata": {
        "id": "BF9OeAAZ_sf8"
      },
      "execution_count": null,
      "outputs": []
    },
    {
      "cell_type": "code",
      "source": [
        "mapped_labels"
      ],
      "metadata": {
        "id": "OggybIS6_vyC"
      },
      "execution_count": null,
      "outputs": []
    },
    {
      "cell_type": "markdown",
      "source": [
        "#### Getting Sequence Length:"
      ],
      "metadata": {
        "id": "qOsg0PEi_S4a"
      }
    },
    {
      "cell_type": "code",
      "source": [
        "def get_sequence_len(path: str) -> int:\n",
        "  return len([file for file in os.listdir(path) if file.endswith(\".jpg\")])"
      ],
      "metadata": {
        "id": "l0B5NFLGAAwi"
      },
      "execution_count": null,
      "outputs": []
    },
    {
      "cell_type": "code",
      "source": [
        "train_df[\"seq_len\"] = train_df[\"path\"].apply(lambda path: get_sequence_len(path))\n",
        "val_df[\"seq_len\"] = val_df[\"path\"].apply(lambda path: get_sequence_len(path))"
      ],
      "metadata": {
        "id": "AljipugqAC-O"
      },
      "execution_count": null,
      "outputs": []
    },
    {
      "cell_type": "code",
      "source": [
        "train_df"
      ],
      "metadata": {
        "id": "wT0LO-HQAFM8"
      },
      "execution_count": null,
      "outputs": []
    },
    {
      "cell_type": "code",
      "source": [
        "val_df"
      ],
      "metadata": {
        "id": "9c18NjcrAG1k"
      },
      "execution_count": null,
      "outputs": []
    },
    {
      "cell_type": "markdown",
      "source": [
        "#### Saving DataFrames to csv files:"
      ],
      "metadata": {
        "id": "qn31CjPaS_E3"
      }
    },
    {
      "cell_type": "code",
      "source": [
        "train_df.to_csv(os.path.join(JESTER_DATASET_DIR_PATH, \"info\", \"train_df.csv\"), index=False)"
      ],
      "metadata": {
        "id": "f-g_uLauAHbV"
      },
      "execution_count": null,
      "outputs": []
    },
    {
      "cell_type": "code",
      "source": [
        "val_df.to_csv(os.path.join(JESTER_DATASET_DIR_PATH, \"info\", \"val_df.csv\"), index=False)"
      ],
      "metadata": {
        "id": "3CRXZZeLHIk3"
      },
      "execution_count": null,
      "outputs": []
    },
    {
      "cell_type": "markdown",
      "source": [
        "## 5. Prepare Data Info To Pipeline"
      ],
      "metadata": {
        "id": "1673fPfEIbEP"
      }
    },
    {
      "cell_type": "markdown",
      "source": [
        "### 5.1 Config:"
      ],
      "metadata": {
        "id": "PLK5dPQ7I8o4"
      }
    },
    {
      "cell_type": "code",
      "source": [
        "train_df = pd.read_csv(os.path.join(JESTER_DATASET_DIR_PATH, \"info\", \"train_df.csv\"))\n",
        "val_df = pd.read_csv(os.path.join(JESTER_DATASET_DIR_PATH, \"info\", \"val_df.csv\"))"
      ],
      "metadata": {
        "id": "9fpxJXg8cKAF"
      },
      "execution_count": 5,
      "outputs": []
    },
    {
      "cell_type": "code",
      "source": [
        "labels_info = pd.read_csv(os.path.join(JESTER_DATASET_DIR_PATH, \"info\", \"jester-v1-labels.csv\"))\n",
        "labels_info"
      ],
      "metadata": {
        "id": "qeejZ8QbJG2e",
        "colab": {
          "base_uri": "https://localhost:8080/",
          "height": 855
        },
        "outputId": "976225da-2cfe-4be9-fae1-5eebd55a6af5"
      },
      "execution_count": 6,
      "outputs": [
        {
          "output_type": "execute_result",
          "data": {
            "text/plain": [
              "                     Swiping Left\n",
              "0                   Swiping Right\n",
              "1                    Swiping Down\n",
              "2                      Swiping Up\n",
              "3               Pushing Hand Away\n",
              "4                 Pulling Hand In\n",
              "5        Sliding Two Fingers Left\n",
              "6       Sliding Two Fingers Right\n",
              "7        Sliding Two Fingers Down\n",
              "8          Sliding Two Fingers Up\n",
              "9        Pushing Two Fingers Away\n",
              "10         Pulling Two Fingers In\n",
              "11           Rolling Hand Forward\n",
              "12          Rolling Hand Backward\n",
              "13         Turning Hand Clockwise\n",
              "14  Turning Hand Counterclockwise\n",
              "15      Zooming In With Full Hand\n",
              "16     Zooming Out With Full Hand\n",
              "17    Zooming In With Two Fingers\n",
              "18   Zooming Out With Two Fingers\n",
              "19                       Thumb Up\n",
              "20                     Thumb Down\n",
              "21                   Shaking Hand\n",
              "22                      Stop Sign\n",
              "23               Drumming Fingers\n",
              "24                     No gesture\n",
              "25             Doing other things"
            ],
            "text/html": [
              "\n",
              "  <div id=\"df-b60a3b60-8c2d-4a2d-85c7-4a497ef97404\" class=\"colab-df-container\">\n",
              "    <div>\n",
              "<style scoped>\n",
              "    .dataframe tbody tr th:only-of-type {\n",
              "        vertical-align: middle;\n",
              "    }\n",
              "\n",
              "    .dataframe tbody tr th {\n",
              "        vertical-align: top;\n",
              "    }\n",
              "\n",
              "    .dataframe thead th {\n",
              "        text-align: right;\n",
              "    }\n",
              "</style>\n",
              "<table border=\"1\" class=\"dataframe\">\n",
              "  <thead>\n",
              "    <tr style=\"text-align: right;\">\n",
              "      <th></th>\n",
              "      <th>Swiping Left</th>\n",
              "    </tr>\n",
              "  </thead>\n",
              "  <tbody>\n",
              "    <tr>\n",
              "      <th>0</th>\n",
              "      <td>Swiping Right</td>\n",
              "    </tr>\n",
              "    <tr>\n",
              "      <th>1</th>\n",
              "      <td>Swiping Down</td>\n",
              "    </tr>\n",
              "    <tr>\n",
              "      <th>2</th>\n",
              "      <td>Swiping Up</td>\n",
              "    </tr>\n",
              "    <tr>\n",
              "      <th>3</th>\n",
              "      <td>Pushing Hand Away</td>\n",
              "    </tr>\n",
              "    <tr>\n",
              "      <th>4</th>\n",
              "      <td>Pulling Hand In</td>\n",
              "    </tr>\n",
              "    <tr>\n",
              "      <th>5</th>\n",
              "      <td>Sliding Two Fingers Left</td>\n",
              "    </tr>\n",
              "    <tr>\n",
              "      <th>6</th>\n",
              "      <td>Sliding Two Fingers Right</td>\n",
              "    </tr>\n",
              "    <tr>\n",
              "      <th>7</th>\n",
              "      <td>Sliding Two Fingers Down</td>\n",
              "    </tr>\n",
              "    <tr>\n",
              "      <th>8</th>\n",
              "      <td>Sliding Two Fingers Up</td>\n",
              "    </tr>\n",
              "    <tr>\n",
              "      <th>9</th>\n",
              "      <td>Pushing Two Fingers Away</td>\n",
              "    </tr>\n",
              "    <tr>\n",
              "      <th>10</th>\n",
              "      <td>Pulling Two Fingers In</td>\n",
              "    </tr>\n",
              "    <tr>\n",
              "      <th>11</th>\n",
              "      <td>Rolling Hand Forward</td>\n",
              "    </tr>\n",
              "    <tr>\n",
              "      <th>12</th>\n",
              "      <td>Rolling Hand Backward</td>\n",
              "    </tr>\n",
              "    <tr>\n",
              "      <th>13</th>\n",
              "      <td>Turning Hand Clockwise</td>\n",
              "    </tr>\n",
              "    <tr>\n",
              "      <th>14</th>\n",
              "      <td>Turning Hand Counterclockwise</td>\n",
              "    </tr>\n",
              "    <tr>\n",
              "      <th>15</th>\n",
              "      <td>Zooming In With Full Hand</td>\n",
              "    </tr>\n",
              "    <tr>\n",
              "      <th>16</th>\n",
              "      <td>Zooming Out With Full Hand</td>\n",
              "    </tr>\n",
              "    <tr>\n",
              "      <th>17</th>\n",
              "      <td>Zooming In With Two Fingers</td>\n",
              "    </tr>\n",
              "    <tr>\n",
              "      <th>18</th>\n",
              "      <td>Zooming Out With Two Fingers</td>\n",
              "    </tr>\n",
              "    <tr>\n",
              "      <th>19</th>\n",
              "      <td>Thumb Up</td>\n",
              "    </tr>\n",
              "    <tr>\n",
              "      <th>20</th>\n",
              "      <td>Thumb Down</td>\n",
              "    </tr>\n",
              "    <tr>\n",
              "      <th>21</th>\n",
              "      <td>Shaking Hand</td>\n",
              "    </tr>\n",
              "    <tr>\n",
              "      <th>22</th>\n",
              "      <td>Stop Sign</td>\n",
              "    </tr>\n",
              "    <tr>\n",
              "      <th>23</th>\n",
              "      <td>Drumming Fingers</td>\n",
              "    </tr>\n",
              "    <tr>\n",
              "      <th>24</th>\n",
              "      <td>No gesture</td>\n",
              "    </tr>\n",
              "    <tr>\n",
              "      <th>25</th>\n",
              "      <td>Doing other things</td>\n",
              "    </tr>\n",
              "  </tbody>\n",
              "</table>\n",
              "</div>\n",
              "    <div class=\"colab-df-buttons\">\n",
              "\n",
              "  <div class=\"colab-df-container\">\n",
              "    <button class=\"colab-df-convert\" onclick=\"convertToInteractive('df-b60a3b60-8c2d-4a2d-85c7-4a497ef97404')\"\n",
              "            title=\"Convert this dataframe to an interactive table.\"\n",
              "            style=\"display:none;\">\n",
              "\n",
              "  <svg xmlns=\"http://www.w3.org/2000/svg\" height=\"24px\" viewBox=\"0 -960 960 960\">\n",
              "    <path d=\"M120-120v-720h720v720H120Zm60-500h600v-160H180v160Zm220 220h160v-160H400v160Zm0 220h160v-160H400v160ZM180-400h160v-160H180v160Zm440 0h160v-160H620v160ZM180-180h160v-160H180v160Zm440 0h160v-160H620v160Z\"/>\n",
              "  </svg>\n",
              "    </button>\n",
              "\n",
              "  <style>\n",
              "    .colab-df-container {\n",
              "      display:flex;\n",
              "      gap: 12px;\n",
              "    }\n",
              "\n",
              "    .colab-df-convert {\n",
              "      background-color: #E8F0FE;\n",
              "      border: none;\n",
              "      border-radius: 50%;\n",
              "      cursor: pointer;\n",
              "      display: none;\n",
              "      fill: #1967D2;\n",
              "      height: 32px;\n",
              "      padding: 0 0 0 0;\n",
              "      width: 32px;\n",
              "    }\n",
              "\n",
              "    .colab-df-convert:hover {\n",
              "      background-color: #E2EBFA;\n",
              "      box-shadow: 0px 1px 2px rgba(60, 64, 67, 0.3), 0px 1px 3px 1px rgba(60, 64, 67, 0.15);\n",
              "      fill: #174EA6;\n",
              "    }\n",
              "\n",
              "    .colab-df-buttons div {\n",
              "      margin-bottom: 4px;\n",
              "    }\n",
              "\n",
              "    [theme=dark] .colab-df-convert {\n",
              "      background-color: #3B4455;\n",
              "      fill: #D2E3FC;\n",
              "    }\n",
              "\n",
              "    [theme=dark] .colab-df-convert:hover {\n",
              "      background-color: #434B5C;\n",
              "      box-shadow: 0px 1px 3px 1px rgba(0, 0, 0, 0.15);\n",
              "      filter: drop-shadow(0px 1px 2px rgba(0, 0, 0, 0.3));\n",
              "      fill: #FFFFFF;\n",
              "    }\n",
              "  </style>\n",
              "\n",
              "    <script>\n",
              "      const buttonEl =\n",
              "        document.querySelector('#df-b60a3b60-8c2d-4a2d-85c7-4a497ef97404 button.colab-df-convert');\n",
              "      buttonEl.style.display =\n",
              "        google.colab.kernel.accessAllowed ? 'block' : 'none';\n",
              "\n",
              "      async function convertToInteractive(key) {\n",
              "        const element = document.querySelector('#df-b60a3b60-8c2d-4a2d-85c7-4a497ef97404');\n",
              "        const dataTable =\n",
              "          await google.colab.kernel.invokeFunction('convertToInteractive',\n",
              "                                                    [key], {});\n",
              "        if (!dataTable) return;\n",
              "\n",
              "        const docLinkHtml = 'Like what you see? Visit the ' +\n",
              "          '<a target=\"_blank\" href=https://colab.research.google.com/notebooks/data_table.ipynb>data table notebook</a>'\n",
              "          + ' to learn more about interactive tables.';\n",
              "        element.innerHTML = '';\n",
              "        dataTable['output_type'] = 'display_data';\n",
              "        await google.colab.output.renderOutput(dataTable, element);\n",
              "        const docLink = document.createElement('div');\n",
              "        docLink.innerHTML = docLinkHtml;\n",
              "        element.appendChild(docLink);\n",
              "      }\n",
              "    </script>\n",
              "  </div>\n",
              "\n",
              "\n",
              "<div id=\"df-b56b789e-2c8e-443e-a9e3-001bf74e097f\">\n",
              "  <button class=\"colab-df-quickchart\" onclick=\"quickchart('df-b56b789e-2c8e-443e-a9e3-001bf74e097f')\"\n",
              "            title=\"Suggest charts\"\n",
              "            style=\"display:none;\">\n",
              "\n",
              "<svg xmlns=\"http://www.w3.org/2000/svg\" height=\"24px\"viewBox=\"0 0 24 24\"\n",
              "     width=\"24px\">\n",
              "    <g>\n",
              "        <path d=\"M19 3H5c-1.1 0-2 .9-2 2v14c0 1.1.9 2 2 2h14c1.1 0 2-.9 2-2V5c0-1.1-.9-2-2-2zM9 17H7v-7h2v7zm4 0h-2V7h2v10zm4 0h-2v-4h2v4z\"/>\n",
              "    </g>\n",
              "</svg>\n",
              "  </button>\n",
              "\n",
              "<style>\n",
              "  .colab-df-quickchart {\n",
              "      --bg-color: #E8F0FE;\n",
              "      --fill-color: #1967D2;\n",
              "      --hover-bg-color: #E2EBFA;\n",
              "      --hover-fill-color: #174EA6;\n",
              "      --disabled-fill-color: #AAA;\n",
              "      --disabled-bg-color: #DDD;\n",
              "  }\n",
              "\n",
              "  [theme=dark] .colab-df-quickchart {\n",
              "      --bg-color: #3B4455;\n",
              "      --fill-color: #D2E3FC;\n",
              "      --hover-bg-color: #434B5C;\n",
              "      --hover-fill-color: #FFFFFF;\n",
              "      --disabled-bg-color: #3B4455;\n",
              "      --disabled-fill-color: #666;\n",
              "  }\n",
              "\n",
              "  .colab-df-quickchart {\n",
              "    background-color: var(--bg-color);\n",
              "    border: none;\n",
              "    border-radius: 50%;\n",
              "    cursor: pointer;\n",
              "    display: none;\n",
              "    fill: var(--fill-color);\n",
              "    height: 32px;\n",
              "    padding: 0;\n",
              "    width: 32px;\n",
              "  }\n",
              "\n",
              "  .colab-df-quickchart:hover {\n",
              "    background-color: var(--hover-bg-color);\n",
              "    box-shadow: 0 1px 2px rgba(60, 64, 67, 0.3), 0 1px 3px 1px rgba(60, 64, 67, 0.15);\n",
              "    fill: var(--button-hover-fill-color);\n",
              "  }\n",
              "\n",
              "  .colab-df-quickchart-complete:disabled,\n",
              "  .colab-df-quickchart-complete:disabled:hover {\n",
              "    background-color: var(--disabled-bg-color);\n",
              "    fill: var(--disabled-fill-color);\n",
              "    box-shadow: none;\n",
              "  }\n",
              "\n",
              "  .colab-df-spinner {\n",
              "    border: 2px solid var(--fill-color);\n",
              "    border-color: transparent;\n",
              "    border-bottom-color: var(--fill-color);\n",
              "    animation:\n",
              "      spin 1s steps(1) infinite;\n",
              "  }\n",
              "\n",
              "  @keyframes spin {\n",
              "    0% {\n",
              "      border-color: transparent;\n",
              "      border-bottom-color: var(--fill-color);\n",
              "      border-left-color: var(--fill-color);\n",
              "    }\n",
              "    20% {\n",
              "      border-color: transparent;\n",
              "      border-left-color: var(--fill-color);\n",
              "      border-top-color: var(--fill-color);\n",
              "    }\n",
              "    30% {\n",
              "      border-color: transparent;\n",
              "      border-left-color: var(--fill-color);\n",
              "      border-top-color: var(--fill-color);\n",
              "      border-right-color: var(--fill-color);\n",
              "    }\n",
              "    40% {\n",
              "      border-color: transparent;\n",
              "      border-right-color: var(--fill-color);\n",
              "      border-top-color: var(--fill-color);\n",
              "    }\n",
              "    60% {\n",
              "      border-color: transparent;\n",
              "      border-right-color: var(--fill-color);\n",
              "    }\n",
              "    80% {\n",
              "      border-color: transparent;\n",
              "      border-right-color: var(--fill-color);\n",
              "      border-bottom-color: var(--fill-color);\n",
              "    }\n",
              "    90% {\n",
              "      border-color: transparent;\n",
              "      border-bottom-color: var(--fill-color);\n",
              "    }\n",
              "  }\n",
              "</style>\n",
              "\n",
              "  <script>\n",
              "    async function quickchart(key) {\n",
              "      const quickchartButtonEl =\n",
              "        document.querySelector('#' + key + ' button');\n",
              "      quickchartButtonEl.disabled = true;  // To prevent multiple clicks.\n",
              "      quickchartButtonEl.classList.add('colab-df-spinner');\n",
              "      try {\n",
              "        const charts = await google.colab.kernel.invokeFunction(\n",
              "            'suggestCharts', [key], {});\n",
              "      } catch (error) {\n",
              "        console.error('Error during call to suggestCharts:', error);\n",
              "      }\n",
              "      quickchartButtonEl.classList.remove('colab-df-spinner');\n",
              "      quickchartButtonEl.classList.add('colab-df-quickchart-complete');\n",
              "    }\n",
              "    (() => {\n",
              "      let quickchartButtonEl =\n",
              "        document.querySelector('#df-b56b789e-2c8e-443e-a9e3-001bf74e097f button');\n",
              "      quickchartButtonEl.style.display =\n",
              "        google.colab.kernel.accessAllowed ? 'block' : 'none';\n",
              "    })();\n",
              "  </script>\n",
              "</div>\n",
              "\n",
              "  <div id=\"id_659206bc-fe78-4332-b345-adeaf86ca919\">\n",
              "    <style>\n",
              "      .colab-df-generate {\n",
              "        background-color: #E8F0FE;\n",
              "        border: none;\n",
              "        border-radius: 50%;\n",
              "        cursor: pointer;\n",
              "        display: none;\n",
              "        fill: #1967D2;\n",
              "        height: 32px;\n",
              "        padding: 0 0 0 0;\n",
              "        width: 32px;\n",
              "      }\n",
              "\n",
              "      .colab-df-generate:hover {\n",
              "        background-color: #E2EBFA;\n",
              "        box-shadow: 0px 1px 2px rgba(60, 64, 67, 0.3), 0px 1px 3px 1px rgba(60, 64, 67, 0.15);\n",
              "        fill: #174EA6;\n",
              "      }\n",
              "\n",
              "      [theme=dark] .colab-df-generate {\n",
              "        background-color: #3B4455;\n",
              "        fill: #D2E3FC;\n",
              "      }\n",
              "\n",
              "      [theme=dark] .colab-df-generate:hover {\n",
              "        background-color: #434B5C;\n",
              "        box-shadow: 0px 1px 3px 1px rgba(0, 0, 0, 0.15);\n",
              "        filter: drop-shadow(0px 1px 2px rgba(0, 0, 0, 0.3));\n",
              "        fill: #FFFFFF;\n",
              "      }\n",
              "    </style>\n",
              "    <button class=\"colab-df-generate\" onclick=\"generateWithVariable('labels_info')\"\n",
              "            title=\"Generate code using this dataframe.\"\n",
              "            style=\"display:none;\">\n",
              "\n",
              "  <svg xmlns=\"http://www.w3.org/2000/svg\" height=\"24px\"viewBox=\"0 0 24 24\"\n",
              "       width=\"24px\">\n",
              "    <path d=\"M7,19H8.4L18.45,9,17,7.55,7,17.6ZM5,21V16.75L18.45,3.32a2,2,0,0,1,2.83,0l1.4,1.43a1.91,1.91,0,0,1,.58,1.4,1.91,1.91,0,0,1-.58,1.4L9.25,21ZM18.45,9,17,7.55Zm-12,3A5.31,5.31,0,0,0,4.9,8.1,5.31,5.31,0,0,0,1,6.5,5.31,5.31,0,0,0,4.9,4.9,5.31,5.31,0,0,0,6.5,1,5.31,5.31,0,0,0,8.1,4.9,5.31,5.31,0,0,0,12,6.5,5.46,5.46,0,0,0,6.5,12Z\"/>\n",
              "  </svg>\n",
              "    </button>\n",
              "    <script>\n",
              "      (() => {\n",
              "      const buttonEl =\n",
              "        document.querySelector('#id_659206bc-fe78-4332-b345-adeaf86ca919 button.colab-df-generate');\n",
              "      buttonEl.style.display =\n",
              "        google.colab.kernel.accessAllowed ? 'block' : 'none';\n",
              "\n",
              "      buttonEl.onclick = () => {\n",
              "        google.colab.notebook.generateWithVariable('labels_info');\n",
              "      }\n",
              "      })();\n",
              "    </script>\n",
              "  </div>\n",
              "\n",
              "    </div>\n",
              "  </div>\n"
            ],
            "application/vnd.google.colaboratory.intrinsic+json": {
              "type": "dataframe",
              "variable_name": "labels_info",
              "summary": "{\n  \"name\": \"labels_info\",\n  \"rows\": 26,\n  \"fields\": [\n    {\n      \"column\": \"Swiping Left\",\n      \"properties\": {\n        \"dtype\": \"string\",\n        \"num_unique_values\": 26,\n        \"samples\": [\n          \"Sliding Two Fingers Up\",\n          \"Zooming Out With Full Hand\",\n          \"Swiping Right\"\n        ],\n        \"semantic_type\": \"\",\n        \"description\": \"\"\n      }\n    }\n  ]\n}"
            }
          },
          "metadata": {},
          "execution_count": 6
        }
      ]
    },
    {
      "cell_type": "code",
      "source": [
        "SET_SIZE = 10_000\n",
        "TRAIN_SET_SIZE = 0.7 * SET_SIZE\n",
        "VAL_SET_SIZE = SET_SIZE - TRAIN_SET_SIZE\n",
        "MIN_SEQ_LEN = 30\n",
        "CLASSES = [1, 25, 19]\n",
        "CLASSES_PERCENTAGE = [1/len(CLASSES) for _ in range(len(CLASSES))]\n",
        "CLASSES_WITH_PERCENTAGE = {cls: percentage for cls, percentage in zip(CLASSES, CLASSES_PERCENTAGE)}\n",
        "TRAIN_CLASSES_WITH_AMOUNT = {cls: int(percentage * TRAIN_SET_SIZE) for cls, percentage in zip(CLASSES, CLASSES_PERCENTAGE)}\n",
        "VAL_CLASSES_WITH_AMOUNT = {cls: int(percentage * VAL_SET_SIZE) for cls, percentage in zip(CLASSES, CLASSES_PERCENTAGE)}"
      ],
      "metadata": {
        "id": "YBXPjLB-cj6_"
      },
      "execution_count": 8,
      "outputs": []
    },
    {
      "cell_type": "code",
      "source": [
        "CLASSES_WITH_PERCENTAGE"
      ],
      "metadata": {
        "id": "AO9UCZUhHRR-",
        "colab": {
          "base_uri": "https://localhost:8080/"
        },
        "outputId": "90bba87d-6bb9-4414-a3ea-6ad4077009b5"
      },
      "execution_count": 9,
      "outputs": [
        {
          "output_type": "execute_result",
          "data": {
            "text/plain": [
              "{1: 0.3333333333333333, 25: 0.3333333333333333, 19: 0.3333333333333333}"
            ]
          },
          "metadata": {},
          "execution_count": 9
        }
      ]
    },
    {
      "cell_type": "code",
      "source": [
        "TRAIN_CLASSES_WITH_AMOUNT"
      ],
      "metadata": {
        "id": "w3pFsbKwJxqc",
        "colab": {
          "base_uri": "https://localhost:8080/"
        },
        "outputId": "21094f28-3e89-4a27-d55c-86d53f8999ca"
      },
      "execution_count": 10,
      "outputs": [
        {
          "output_type": "execute_result",
          "data": {
            "text/plain": [
              "{1: 2333, 25: 2333, 19: 2333}"
            ]
          },
          "metadata": {},
          "execution_count": 10
        }
      ]
    },
    {
      "cell_type": "code",
      "source": [
        "VAL_CLASSES_WITH_AMOUNT"
      ],
      "metadata": {
        "id": "IctKZ4oZKZ9P",
        "colab": {
          "base_uri": "https://localhost:8080/"
        },
        "outputId": "1a130192-de3a-458f-8d62-4181cfec229b"
      },
      "execution_count": 11,
      "outputs": [
        {
          "output_type": "execute_result",
          "data": {
            "text/plain": [
              "{1: 1000, 25: 1000, 19: 1000}"
            ]
          },
          "metadata": {},
          "execution_count": 11
        }
      ]
    },
    {
      "cell_type": "markdown",
      "source": [
        "### 5.2 Create subsets:"
      ],
      "metadata": {
        "id": "ib6XYmDwKfTT"
      }
    },
    {
      "cell_type": "code",
      "source": [
        "def preprocess_df(dataframe: pd.DataFrame, subset_info: dict[int, int], min_seq_len: int) -> pd.DataFrame:\n",
        "    def _get_longer_seq_len_than(df: pd.DataFrame, seq_len: int) -> pd.DataFrame:\n",
        "        return df[df[\"seq_len\"] >= seq_len]\n",
        "\n",
        "    def _get_df_subset(df: pd.DataFrame, classes_with_amount: dict[int, int]) -> pd.DataFrame:\n",
        "        missing_probes = 0\n",
        "        subset_df = pd.DataFrame()\n",
        "        for key, val in classes_with_amount.items():\n",
        "            try:\n",
        "                missing_probes = 0 if (val - len(df[df[\"label_id\"] == key])) < 0 else (val - len(df[df[\"label_id\"] == key]))\n",
        "                subset_df = pd.concat([subset_df, df[df[\"label_id\"] == key].sample(n=val)])\n",
        "            except ValueError:\n",
        "                logging.warning(f\"Needed to duplicate {missing_probes}. DO NOT LEARN NETWORK WITHOUT AUGMENTATION\")\n",
        "                subset_df = pd.concat([subset_df, df[df[\"label_id\"] == key].sample(n=val, replace=True)])\n",
        "        return subset_df.sample(frac=1, ignore_index=True)\n",
        "\n",
        "    new_df = _get_longer_seq_len_than(dataframe, min_seq_len)\n",
        "    new_df = _get_df_subset(new_df, subset_info)\n",
        "    return new_df"
      ],
      "metadata": {
        "id": "6nCSNGxCKa3C"
      },
      "execution_count": 12,
      "outputs": []
    },
    {
      "cell_type": "code",
      "source": [
        "train_subset_df = preprocess_df(train_df, TRAIN_CLASSES_WITH_AMOUNT, MIN_SEQ_LEN)\n",
        "val_subset_df = preprocess_df(val_df, VAL_CLASSES_WITH_AMOUNT, MIN_SEQ_LEN)"
      ],
      "metadata": {
        "id": "_qfRVIy9Ks8A",
        "colab": {
          "base_uri": "https://localhost:8080/"
        },
        "outputId": "af2a624e-8335-4b01-8d07-f3506ed3de42"
      },
      "execution_count": 13,
      "outputs": [
        {
          "output_type": "stream",
          "name": "stderr",
          "text": [
            "WARNING:root:Needed to duplicate 504. DO NOT LEARN NETWORK WITHOUT AUGMENTATION\n",
            "WARNING:root:Needed to duplicate 432. DO NOT LEARN NETWORK WITHOUT AUGMENTATION\n",
            "WARNING:root:Needed to duplicate 478. DO NOT LEARN NETWORK WITHOUT AUGMENTATION\n"
          ]
        }
      ]
    },
    {
      "cell_type": "markdown",
      "source": [
        "## 6. Create `tf.data.Dataset` Pipeline:"
      ],
      "metadata": {
        "id": "DRulzWgicpeG"
      }
    },
    {
      "cell_type": "code",
      "source": [
        "logging.basicConfig(\n",
        "    format=\"{asctime} - {levelname} - {message}\",\n",
        "    style=\"{\",\n",
        "    datefmt=\"%Y-%m-%d %H:%M\",\n",
        "    level=logging.INFO\n",
        ")\n",
        "\n",
        "\n",
        "def create_dataset_from_dir(df: pd.DataFrame, seq_len: int):\n",
        "    sequences = []\n",
        "    labels = []\n",
        "\n",
        "    for _, row in df.iterrows():\n",
        "        video_path = row['path']\n",
        "        label_id = row['label_id']\n",
        "        image_paths = generate_image_paths(video_path, seq_len, row)\n",
        "        sequences.append(image_paths)\n",
        "        labels.append(label_id)\n",
        "\n",
        "    dataset = tf.data.Dataset.from_tensor_slices((sequences, labels))\n",
        "    return dataset\n",
        "\n",
        "\n",
        "@dataclass\n",
        "class InputShape:\n",
        "    weight: int\n",
        "    height: int\n",
        "    channels: int\n",
        "\n",
        "    def as_tuple(self) -> tuple[int, int, int]:\n",
        "        return self.weight, self.height, self.channels\n",
        "\n",
        "\n",
        "def build_feature_extractor(inp_shape: InputShape):\n",
        "    extractor_model = keras.applications.InceptionV3(\n",
        "        weights=\"imagenet\",\n",
        "        include_top=False,\n",
        "        pooling=\"avg\",\n",
        "        input_shape=inp_shape.as_tuple()\n",
        "    )\n",
        "\n",
        "    preprocess_input = keras.applications.inception_v3.preprocess_input  # getting preprocess func\n",
        "    inputs = keras.Input(inp_shape.as_tuple())\n",
        "    preprocessed = preprocess_input(inputs)\n",
        "    outputs = extractor_model(preprocessed)\n",
        "    return keras.Model(inputs, outputs, name=\"feature_extractor\")\n",
        "\n",
        "\n",
        "feature_extractor = build_feature_extractor(InputShape(224, 224, 3))\n",
        "\n",
        "\n",
        "@tf.function\n",
        "def extract_features(images: tf.Tensor, label: int):\n",
        "    features = tf.map_fn(lambda img: feature_extractor(img[np.newaxis, ...]), images, fn_output_signature=tf.float32)\n",
        "    return features, label\n",
        "\n",
        "\n",
        "def generate_image_paths(video_dir_path: str, seq_len: int, row: pd.Series):\n",
        "    image_paths = []\n",
        "    current_frames: int = row[\"seq_len\"]\n",
        "\n",
        "    if current_frames >= seq_len:\n",
        "        mid_point = current_frames // 2\n",
        "        start_point = max(0, mid_point - seq_len // 2)\n",
        "        end_point = start_point + seq_len\n",
        "\n",
        "        for i in range(start_point + 1, end_point + 1):\n",
        "            img_name = f\"{i:05d}.jpg\"\n",
        "            img_path = os.path.join(video_dir_path, img_name)\n",
        "            image_paths.append(img_path)\n",
        "\n",
        "    else:\n",
        "        logging.warning(f\"ADD PADDING ON LEFT AND RIGHT SIDE ON {row['video_id']}\")\n",
        "        padding_needed = seq_len - current_frames\n",
        "        left_padding = padding_needed // 2\n",
        "        right_padding = padding_needed - left_padding\n",
        "\n",
        "        most_left_img = f\"00001.jpg\"\n",
        "        most_right_img = f\"{current_frames:05d}.jpg\"\n",
        "\n",
        "        for i in range(left_padding):\n",
        "            img_path = os.path.join(video_dir_path, most_left_img)\n",
        "            image_paths.append(img_path)\n",
        "\n",
        "        for i in range(1, current_frames + 1):\n",
        "            img_name = f\"{i:05d}.jpg\"\n",
        "            img_path = os.path.join(video_dir_path, img_name)\n",
        "            image_paths.append(img_path)\n",
        "\n",
        "        for i in range(right_padding):\n",
        "            img_path = os.path.join(video_dir_path, most_right_img)\n",
        "            image_paths.append(img_path)\n",
        "\n",
        "    if len(image_paths) != seq_len:\n",
        "        raise ValueError(f\"Missing images in dir: {video_dir_path}\")\n",
        "\n",
        "    return image_paths\n",
        "\n",
        "\n",
        "@tf.function\n",
        "def load_sequence_from_dir(image_paths: tf.Tensor, label: int, inp_shape: tuple[int, int, int]):\n",
        "    def process_image(img_path):\n",
        "        image = tf.io.read_file(img_path)\n",
        "        image = tf.image.decode_jpeg(image, channels=inp_shape[2])\n",
        "        image = tf.image.resize(image, inp_shape[:2])\n",
        "        return image\n",
        "\n",
        "    images = tf.map_fn(process_image, image_paths, fn_output_signature=tf.float32)\n",
        "\n",
        "    return images, label\n",
        "\n",
        "\n",
        "@tf.function\n",
        "def one_hot_encode(path: tf.Tensor, label: int, classes_num: int):\n",
        "    return path, tf.one_hot(label, classes_num, dtype=tf.int32)\n",
        "\n",
        "\n",
        "@tf.function\n",
        "def remove_one_dimensions(images: tf.Tensor, label: int):\n",
        "    return tf.squeeze(images), label\n",
        "\n",
        "\n",
        "def create_pipeline(df: pd.DataFrame, *, num_classes: int, image_input_shape: InputShape, seq_len: int, batch_size: int) -> tf.data.Dataset:\n",
        "  ds = create_dataset_from_dir(df, seq_len=seq_len) # (list with paths strs)\n",
        "  ds = ds.map(lambda images, label: one_hot_encode(images, label, num_classes), num_parallel_calls=tf.data.AUTOTUNE)\n",
        "  ds = ds.map(lambda path, label: load_sequence_from_dir(path, label, image_input_shape.as_tuple()), num_parallel_calls=tf.data.AUTOTUNE) # (seq_len, width, height, channels)\n",
        "  ds = ds.map(lambda images, label: extract_features(images, label), num_parallel_calls=tf.data.AUTOTUNE)  # (seq_len, 1, 2048)\n",
        "  ds = ds.map(lambda images, label: remove_one_dimensions(images, label), num_parallel_calls=tf.data.AUTOTUNE)\n",
        "  ds = ds.batch(batch_size=batch_size, drop_remainder=True)\n",
        "  ds = ds.cache().prefetch(tf.data.AUTOTUNE)\n",
        "  return ds"
      ],
      "metadata": {
        "id": "mMznXfGrK1Qk",
        "colab": {
          "base_uri": "https://localhost:8080/"
        },
        "outputId": "0e01a857-816a-4973-93be-57c32a7fc457"
      },
      "execution_count": 14,
      "outputs": [
        {
          "output_type": "stream",
          "name": "stdout",
          "text": [
            "Downloading data from https://storage.googleapis.com/tensorflow/keras-applications/inception_v3/inception_v3_weights_tf_dim_ordering_tf_kernels_notop.h5\n",
            "\u001b[1m87910968/87910968\u001b[0m \u001b[32m━━━━━━━━━━━━━━━━━━━━\u001b[0m\u001b[37m\u001b[0m \u001b[1m5s\u001b[0m 0us/step\n"
          ]
        }
      ]
    },
    {
      "cell_type": "markdown",
      "source": [
        "### 6.1 Config:"
      ],
      "metadata": {
        "id": "ENrcWpNEczN3"
      }
    },
    {
      "cell_type": "code",
      "source": [
        "class PipelineConfig:\n",
        "  IMAGE_INPUT_SHAPE = InputShape(224, 224, 3)\n",
        "  NUM_CLASSES = len(CLASSES)\n",
        "  BATCH_SIZE = 32\n",
        "  SEQ_LEN = 30"
      ],
      "metadata": {
        "id": "_3GdnQEgclIe"
      },
      "execution_count": 15,
      "outputs": []
    },
    {
      "cell_type": "markdown",
      "source": [
        "#### 6.2 Pipeline:"
      ],
      "metadata": {
        "id": "jcHibzW8d107"
      }
    },
    {
      "cell_type": "code",
      "source": [
        "train_ds = create_pipeline(\n",
        "    train_subset_df,\n",
        "    num_classes=PipelineConfig.NUM_CLASSES,\n",
        "    image_input_shape=PipelineConfig.IMAGE_INPUT_SHAPE,\n",
        "    seq_len=PipelineConfig.SEQ_LEN,\n",
        "    batch_size=PipelineConfig.BATCH_SIZE\n",
        ")\n",
        "\n",
        "val_ds = create_pipeline(\n",
        "    val_subset_df,\n",
        "    num_classes=PipelineConfig.NUM_CLASSES,\n",
        "    image_input_shape=PipelineConfig.IMAGE_INPUT_SHAPE,\n",
        "    seq_len=PipelineConfig.SEQ_LEN,\n",
        "    batch_size=PipelineConfig.BATCH_SIZE\n",
        ")"
      ],
      "metadata": {
        "id": "jjo6U3R9d4t2"
      },
      "execution_count": 16,
      "outputs": []
    },
    {
      "cell_type": "code",
      "source": [
        "MODEL_INPUT_SHAPE = train_ds.as_numpy_iterator().next()[0].shape[1:]\n",
        "MODEL_INPUT_SHAPE"
      ],
      "metadata": {
        "id": "eMtyUmU_eDUO",
        "colab": {
          "base_uri": "https://localhost:8080/"
        },
        "outputId": "d31b6460-a84d-4888-b48c-a15875557c9e"
      },
      "execution_count": 17,
      "outputs": [
        {
          "output_type": "execute_result",
          "data": {
            "text/plain": [
              "(30, 2048)"
            ]
          },
          "metadata": {},
          "execution_count": 17
        }
      ]
    },
    {
      "cell_type": "markdown",
      "source": [
        "## 7. Create Model"
      ],
      "metadata": {
        "id": "Y452xf0SeOs0"
      }
    },
    {
      "cell_type": "markdown",
      "source": [
        "### 7.1 Config:"
      ],
      "metadata": {
        "id": "Rn5CiqGIe6fF"
      }
    },
    {
      "cell_type": "code",
      "source": [],
      "metadata": {
        "id": "DndWKfZ1e-yJ"
      },
      "execution_count": 17,
      "outputs": []
    },
    {
      "cell_type": "code",
      "source": [
        "def build_lstm_model(input_shape: tuple[int, int], num_classes: int):\n",
        "    model = keras.models.Sequential()\n",
        "    model.add(keras.layers.Input(input_shape))\n",
        "    model.add(keras.layers.LSTM(units=16, return_sequences=False))\n",
        "    model.add(keras.layers.Dense(units=8, activation=\"relu\"))\n",
        "    model.add(keras.layers.Dense(units=num_classes, activation=\"softmax\"))\n",
        "    return model"
      ],
      "metadata": {
        "id": "RFanj8Pkeh_N"
      },
      "execution_count": 18,
      "outputs": []
    },
    {
      "cell_type": "code",
      "source": [
        "lstm_model = build_lstm_model(input_shape=MODEL_INPUT_SHAPE, num_classes=len(CLASSES))\n",
        "\n",
        "lstm_model.compile(\n",
        "    optimizer=\"adam\",\n",
        "    loss=\"categorical_crossentropy\",\n",
        "    metrics=[\"accuracy\"]\n",
        ")\n",
        "\n",
        "lstm_model.summary()"
      ],
      "metadata": {
        "id": "D8Dqbptbe1i5",
        "colab": {
          "base_uri": "https://localhost:8080/",
          "height": 225
        },
        "outputId": "44e3654e-e799-4472-9810-75178eb12e24"
      },
      "execution_count": 21,
      "outputs": [
        {
          "output_type": "display_data",
          "data": {
            "text/plain": [
              "\u001b[1mModel: \"sequential_1\"\u001b[0m\n"
            ],
            "text/html": [
              "<pre style=\"white-space:pre;overflow-x:auto;line-height:normal;font-family:Menlo,'DejaVu Sans Mono',consolas,'Courier New',monospace\"><span style=\"font-weight: bold\">Model: \"sequential_1\"</span>\n",
              "</pre>\n"
            ]
          },
          "metadata": {}
        },
        {
          "output_type": "display_data",
          "data": {
            "text/plain": [
              "┏━━━━━━━━━━━━━━━━━━━━━━━━━━━━━━━━━━━━━━┳━━━━━━━━━━━━━━━━━━━━━━━━━━━━━┳━━━━━━━━━━━━━━━━━┓\n",
              "┃\u001b[1m \u001b[0m\u001b[1mLayer (type)                        \u001b[0m\u001b[1m \u001b[0m┃\u001b[1m \u001b[0m\u001b[1mOutput Shape               \u001b[0m\u001b[1m \u001b[0m┃\u001b[1m \u001b[0m\u001b[1m        Param #\u001b[0m\u001b[1m \u001b[0m┃\n",
              "┡━━━━━━━━━━━━━━━━━━━━━━━━━━━━━━━━━━━━━━╇━━━━━━━━━━━━━━━━━━━━━━━━━━━━━╇━━━━━━━━━━━━━━━━━┩\n",
              "│ lstm_1 (\u001b[38;5;33mLSTM\u001b[0m)                        │ (\u001b[38;5;45mNone\u001b[0m, \u001b[38;5;34m16\u001b[0m)                  │         \u001b[38;5;34m132,160\u001b[0m │\n",
              "├──────────────────────────────────────┼─────────────────────────────┼─────────────────┤\n",
              "│ dense_2 (\u001b[38;5;33mDense\u001b[0m)                      │ (\u001b[38;5;45mNone\u001b[0m, \u001b[38;5;34m8\u001b[0m)                   │             \u001b[38;5;34m136\u001b[0m │\n",
              "├──────────────────────────────────────┼─────────────────────────────┼─────────────────┤\n",
              "│ dense_3 (\u001b[38;5;33mDense\u001b[0m)                      │ (\u001b[38;5;45mNone\u001b[0m, \u001b[38;5;34m3\u001b[0m)                   │              \u001b[38;5;34m27\u001b[0m │\n",
              "└──────────────────────────────────────┴─────────────────────────────┴─────────────────┘\n"
            ],
            "text/html": [
              "<pre style=\"white-space:pre;overflow-x:auto;line-height:normal;font-family:Menlo,'DejaVu Sans Mono',consolas,'Courier New',monospace\">┏━━━━━━━━━━━━━━━━━━━━━━━━━━━━━━━━━━━━━━┳━━━━━━━━━━━━━━━━━━━━━━━━━━━━━┳━━━━━━━━━━━━━━━━━┓\n",
              "┃<span style=\"font-weight: bold\"> Layer (type)                         </span>┃<span style=\"font-weight: bold\"> Output Shape                </span>┃<span style=\"font-weight: bold\">         Param # </span>┃\n",
              "┡━━━━━━━━━━━━━━━━━━━━━━━━━━━━━━━━━━━━━━╇━━━━━━━━━━━━━━━━━━━━━━━━━━━━━╇━━━━━━━━━━━━━━━━━┩\n",
              "│ lstm_1 (<span style=\"color: #0087ff; text-decoration-color: #0087ff\">LSTM</span>)                        │ (<span style=\"color: #00d7ff; text-decoration-color: #00d7ff\">None</span>, <span style=\"color: #00af00; text-decoration-color: #00af00\">16</span>)                  │         <span style=\"color: #00af00; text-decoration-color: #00af00\">132,160</span> │\n",
              "├──────────────────────────────────────┼─────────────────────────────┼─────────────────┤\n",
              "│ dense_2 (<span style=\"color: #0087ff; text-decoration-color: #0087ff\">Dense</span>)                      │ (<span style=\"color: #00d7ff; text-decoration-color: #00d7ff\">None</span>, <span style=\"color: #00af00; text-decoration-color: #00af00\">8</span>)                   │             <span style=\"color: #00af00; text-decoration-color: #00af00\">136</span> │\n",
              "├──────────────────────────────────────┼─────────────────────────────┼─────────────────┤\n",
              "│ dense_3 (<span style=\"color: #0087ff; text-decoration-color: #0087ff\">Dense</span>)                      │ (<span style=\"color: #00d7ff; text-decoration-color: #00d7ff\">None</span>, <span style=\"color: #00af00; text-decoration-color: #00af00\">3</span>)                   │              <span style=\"color: #00af00; text-decoration-color: #00af00\">27</span> │\n",
              "└──────────────────────────────────────┴─────────────────────────────┴─────────────────┘\n",
              "</pre>\n"
            ]
          },
          "metadata": {}
        },
        {
          "output_type": "display_data",
          "data": {
            "text/plain": [
              "\u001b[1m Total params: \u001b[0m\u001b[38;5;34m132,323\u001b[0m (516.89 KB)\n"
            ],
            "text/html": [
              "<pre style=\"white-space:pre;overflow-x:auto;line-height:normal;font-family:Menlo,'DejaVu Sans Mono',consolas,'Courier New',monospace\"><span style=\"font-weight: bold\"> Total params: </span><span style=\"color: #00af00; text-decoration-color: #00af00\">132,323</span> (516.89 KB)\n",
              "</pre>\n"
            ]
          },
          "metadata": {}
        },
        {
          "output_type": "display_data",
          "data": {
            "text/plain": [
              "\u001b[1m Trainable params: \u001b[0m\u001b[38;5;34m132,323\u001b[0m (516.89 KB)\n"
            ],
            "text/html": [
              "<pre style=\"white-space:pre;overflow-x:auto;line-height:normal;font-family:Menlo,'DejaVu Sans Mono',consolas,'Courier New',monospace\"><span style=\"font-weight: bold\"> Trainable params: </span><span style=\"color: #00af00; text-decoration-color: #00af00\">132,323</span> (516.89 KB)\n",
              "</pre>\n"
            ]
          },
          "metadata": {}
        },
        {
          "output_type": "display_data",
          "data": {
            "text/plain": [
              "\u001b[1m Non-trainable params: \u001b[0m\u001b[38;5;34m0\u001b[0m (0.00 B)\n"
            ],
            "text/html": [
              "<pre style=\"white-space:pre;overflow-x:auto;line-height:normal;font-family:Menlo,'DejaVu Sans Mono',consolas,'Courier New',monospace\"><span style=\"font-weight: bold\"> Non-trainable params: </span><span style=\"color: #00af00; text-decoration-color: #00af00\">0</span> (0.00 B)\n",
              "</pre>\n"
            ]
          },
          "metadata": {}
        }
      ]
    },
    {
      "cell_type": "markdown",
      "source": [
        "## 8. Train Model"
      ],
      "metadata": {
        "id": "iEngODv9gNQS"
      }
    },
    {
      "cell_type": "markdown",
      "source": [
        "### 8.1 Config:"
      ],
      "metadata": {
        "id": "Zj0EGzSpgQUS"
      }
    },
    {
      "cell_type": "code",
      "source": [
        "early_stopping_callback = tf.keras.callbacks.EarlyStopping(\n",
        "    patience = 10,\n",
        "    monitor = 'val_loss',\n",
        "    mode=\"min\"\n",
        ")\n",
        "\n",
        "checkpoint_callback = keras.callbacks.ModelCheckpoint(\n",
        "    'model_1.keras',\n",
        "    save_best_only=True,\n",
        "    monitor='val_accuracy',\n",
        "    mode='max'\n",
        ")\n",
        "\n",
        "history = lstm_model.fit(train_ds, epochs=50, validation_data=val_ds, batch_size=PipelineConfig.BATCH_SIZE, callbacks=[early_stopping_callback, checkpoint_callback])"
      ],
      "metadata": {
        "id": "QNzZ3_5ugL1C",
        "colab": {
          "base_uri": "https://localhost:8080/",
          "height": 333
        },
        "outputId": "20a961fa-e15e-49c7-bc0e-6a9a626fedf7"
      },
      "execution_count": 22,
      "outputs": [
        {
          "output_type": "stream",
          "name": "stdout",
          "text": [
            "Epoch 1/50\n"
          ]
        },
        {
          "output_type": "error",
          "ename": "KeyboardInterrupt",
          "evalue": "",
          "traceback": [
            "\u001b[0;31m---------------------------------------------------------------------------\u001b[0m",
            "\u001b[0;31mKeyboardInterrupt\u001b[0m                         Traceback (most recent call last)",
            "\u001b[0;32m<ipython-input-22-fde2780850f5>\u001b[0m in \u001b[0;36m<cell line: 14>\u001b[0;34m()\u001b[0m\n\u001b[1;32m     12\u001b[0m )\n\u001b[1;32m     13\u001b[0m \u001b[0;34m\u001b[0m\u001b[0m\n\u001b[0;32m---> 14\u001b[0;31m \u001b[0mhistory\u001b[0m \u001b[0;34m=\u001b[0m \u001b[0mlstm_model\u001b[0m\u001b[0;34m.\u001b[0m\u001b[0mfit\u001b[0m\u001b[0;34m(\u001b[0m\u001b[0mtrain_ds\u001b[0m\u001b[0;34m,\u001b[0m \u001b[0mepochs\u001b[0m\u001b[0;34m=\u001b[0m\u001b[0;36m50\u001b[0m\u001b[0;34m,\u001b[0m \u001b[0mvalidation_data\u001b[0m\u001b[0;34m=\u001b[0m\u001b[0mval_ds\u001b[0m\u001b[0;34m,\u001b[0m \u001b[0mbatch_size\u001b[0m\u001b[0;34m=\u001b[0m\u001b[0mPipelineConfig\u001b[0m\u001b[0;34m.\u001b[0m\u001b[0mBATCH_SIZE\u001b[0m\u001b[0;34m,\u001b[0m \u001b[0mcallbacks\u001b[0m\u001b[0;34m=\u001b[0m\u001b[0;34m[\u001b[0m\u001b[0mearly_stopping_callback\u001b[0m\u001b[0;34m,\u001b[0m \u001b[0mcheckpoint_callback\u001b[0m\u001b[0;34m]\u001b[0m\u001b[0;34m)\u001b[0m\u001b[0;34m\u001b[0m\u001b[0;34m\u001b[0m\u001b[0m\n\u001b[0m",
            "\u001b[0;32m/usr/local/lib/python3.10/dist-packages/keras/src/utils/traceback_utils.py\u001b[0m in \u001b[0;36merror_handler\u001b[0;34m(*args, **kwargs)\u001b[0m\n\u001b[1;32m    115\u001b[0m         \u001b[0mfiltered_tb\u001b[0m \u001b[0;34m=\u001b[0m \u001b[0;32mNone\u001b[0m\u001b[0;34m\u001b[0m\u001b[0;34m\u001b[0m\u001b[0m\n\u001b[1;32m    116\u001b[0m         \u001b[0;32mtry\u001b[0m\u001b[0;34m:\u001b[0m\u001b[0;34m\u001b[0m\u001b[0;34m\u001b[0m\u001b[0m\n\u001b[0;32m--> 117\u001b[0;31m             \u001b[0;32mreturn\u001b[0m \u001b[0mfn\u001b[0m\u001b[0;34m(\u001b[0m\u001b[0;34m*\u001b[0m\u001b[0margs\u001b[0m\u001b[0;34m,\u001b[0m \u001b[0;34m**\u001b[0m\u001b[0mkwargs\u001b[0m\u001b[0;34m)\u001b[0m\u001b[0;34m\u001b[0m\u001b[0;34m\u001b[0m\u001b[0m\n\u001b[0m\u001b[1;32m    118\u001b[0m         \u001b[0;32mexcept\u001b[0m \u001b[0mException\u001b[0m \u001b[0;32mas\u001b[0m \u001b[0me\u001b[0m\u001b[0;34m:\u001b[0m\u001b[0;34m\u001b[0m\u001b[0;34m\u001b[0m\u001b[0m\n\u001b[1;32m    119\u001b[0m             \u001b[0mfiltered_tb\u001b[0m \u001b[0;34m=\u001b[0m \u001b[0m_process_traceback_frames\u001b[0m\u001b[0;34m(\u001b[0m\u001b[0me\u001b[0m\u001b[0;34m.\u001b[0m\u001b[0m__traceback__\u001b[0m\u001b[0;34m)\u001b[0m\u001b[0;34m\u001b[0m\u001b[0;34m\u001b[0m\u001b[0m\n",
            "\u001b[0;32m/usr/local/lib/python3.10/dist-packages/keras/src/backend/tensorflow/trainer.py\u001b[0m in \u001b[0;36mfit\u001b[0;34m(self, x, y, batch_size, epochs, verbose, callbacks, validation_split, validation_data, shuffle, class_weight, sample_weight, initial_epoch, steps_per_epoch, validation_steps, validation_batch_size, validation_freq)\u001b[0m\n\u001b[1;32m    316\u001b[0m                 \u001b[0;32mfor\u001b[0m \u001b[0mstep\u001b[0m\u001b[0;34m,\u001b[0m \u001b[0miterator\u001b[0m \u001b[0;32min\u001b[0m \u001b[0mepoch_iterator\u001b[0m\u001b[0;34m.\u001b[0m\u001b[0menumerate_epoch\u001b[0m\u001b[0;34m(\u001b[0m\u001b[0;34m)\u001b[0m\u001b[0;34m:\u001b[0m\u001b[0;34m\u001b[0m\u001b[0;34m\u001b[0m\u001b[0m\n\u001b[1;32m    317\u001b[0m                     \u001b[0mcallbacks\u001b[0m\u001b[0;34m.\u001b[0m\u001b[0mon_train_batch_begin\u001b[0m\u001b[0;34m(\u001b[0m\u001b[0mstep\u001b[0m\u001b[0;34m)\u001b[0m\u001b[0;34m\u001b[0m\u001b[0;34m\u001b[0m\u001b[0m\n\u001b[0;32m--> 318\u001b[0;31m                     \u001b[0mlogs\u001b[0m \u001b[0;34m=\u001b[0m \u001b[0mself\u001b[0m\u001b[0;34m.\u001b[0m\u001b[0mtrain_function\u001b[0m\u001b[0;34m(\u001b[0m\u001b[0miterator\u001b[0m\u001b[0;34m)\u001b[0m\u001b[0;34m\u001b[0m\u001b[0;34m\u001b[0m\u001b[0m\n\u001b[0m\u001b[1;32m    319\u001b[0m                     \u001b[0mlogs\u001b[0m \u001b[0;34m=\u001b[0m \u001b[0mself\u001b[0m\u001b[0;34m.\u001b[0m\u001b[0m_pythonify_logs\u001b[0m\u001b[0;34m(\u001b[0m\u001b[0mlogs\u001b[0m\u001b[0;34m)\u001b[0m\u001b[0;34m\u001b[0m\u001b[0;34m\u001b[0m\u001b[0m\n\u001b[1;32m    320\u001b[0m                     \u001b[0mcallbacks\u001b[0m\u001b[0;34m.\u001b[0m\u001b[0mon_train_batch_end\u001b[0m\u001b[0;34m(\u001b[0m\u001b[0mstep\u001b[0m\u001b[0;34m,\u001b[0m \u001b[0mlogs\u001b[0m\u001b[0;34m)\u001b[0m\u001b[0;34m\u001b[0m\u001b[0;34m\u001b[0m\u001b[0m\n",
            "\u001b[0;32m/usr/local/lib/python3.10/dist-packages/tensorflow/python/util/traceback_utils.py\u001b[0m in \u001b[0;36merror_handler\u001b[0;34m(*args, **kwargs)\u001b[0m\n\u001b[1;32m    148\u001b[0m     \u001b[0mfiltered_tb\u001b[0m \u001b[0;34m=\u001b[0m \u001b[0;32mNone\u001b[0m\u001b[0;34m\u001b[0m\u001b[0;34m\u001b[0m\u001b[0m\n\u001b[1;32m    149\u001b[0m     \u001b[0;32mtry\u001b[0m\u001b[0;34m:\u001b[0m\u001b[0;34m\u001b[0m\u001b[0;34m\u001b[0m\u001b[0m\n\u001b[0;32m--> 150\u001b[0;31m       \u001b[0;32mreturn\u001b[0m \u001b[0mfn\u001b[0m\u001b[0;34m(\u001b[0m\u001b[0;34m*\u001b[0m\u001b[0margs\u001b[0m\u001b[0;34m,\u001b[0m \u001b[0;34m**\u001b[0m\u001b[0mkwargs\u001b[0m\u001b[0;34m)\u001b[0m\u001b[0;34m\u001b[0m\u001b[0;34m\u001b[0m\u001b[0m\n\u001b[0m\u001b[1;32m    151\u001b[0m     \u001b[0;32mexcept\u001b[0m \u001b[0mException\u001b[0m \u001b[0;32mas\u001b[0m \u001b[0me\u001b[0m\u001b[0;34m:\u001b[0m\u001b[0;34m\u001b[0m\u001b[0;34m\u001b[0m\u001b[0m\n\u001b[1;32m    152\u001b[0m       \u001b[0mfiltered_tb\u001b[0m \u001b[0;34m=\u001b[0m \u001b[0m_process_traceback_frames\u001b[0m\u001b[0;34m(\u001b[0m\u001b[0me\u001b[0m\u001b[0;34m.\u001b[0m\u001b[0m__traceback__\u001b[0m\u001b[0;34m)\u001b[0m\u001b[0;34m\u001b[0m\u001b[0;34m\u001b[0m\u001b[0m\n",
            "\u001b[0;32m/usr/local/lib/python3.10/dist-packages/tensorflow/python/eager/polymorphic_function/polymorphic_function.py\u001b[0m in \u001b[0;36m__call__\u001b[0;34m(self, *args, **kwds)\u001b[0m\n\u001b[1;32m    831\u001b[0m \u001b[0;34m\u001b[0m\u001b[0m\n\u001b[1;32m    832\u001b[0m       \u001b[0;32mwith\u001b[0m \u001b[0mOptionalXlaContext\u001b[0m\u001b[0;34m(\u001b[0m\u001b[0mself\u001b[0m\u001b[0;34m.\u001b[0m\u001b[0m_jit_compile\u001b[0m\u001b[0;34m)\u001b[0m\u001b[0;34m:\u001b[0m\u001b[0;34m\u001b[0m\u001b[0;34m\u001b[0m\u001b[0m\n\u001b[0;32m--> 833\u001b[0;31m         \u001b[0mresult\u001b[0m \u001b[0;34m=\u001b[0m \u001b[0mself\u001b[0m\u001b[0;34m.\u001b[0m\u001b[0m_call\u001b[0m\u001b[0;34m(\u001b[0m\u001b[0;34m*\u001b[0m\u001b[0margs\u001b[0m\u001b[0;34m,\u001b[0m \u001b[0;34m**\u001b[0m\u001b[0mkwds\u001b[0m\u001b[0;34m)\u001b[0m\u001b[0;34m\u001b[0m\u001b[0;34m\u001b[0m\u001b[0m\n\u001b[0m\u001b[1;32m    834\u001b[0m \u001b[0;34m\u001b[0m\u001b[0m\n\u001b[1;32m    835\u001b[0m       \u001b[0mnew_tracing_count\u001b[0m \u001b[0;34m=\u001b[0m \u001b[0mself\u001b[0m\u001b[0;34m.\u001b[0m\u001b[0mexperimental_get_tracing_count\u001b[0m\u001b[0;34m(\u001b[0m\u001b[0;34m)\u001b[0m\u001b[0;34m\u001b[0m\u001b[0;34m\u001b[0m\u001b[0m\n",
            "\u001b[0;32m/usr/local/lib/python3.10/dist-packages/tensorflow/python/eager/polymorphic_function/polymorphic_function.py\u001b[0m in \u001b[0;36m_call\u001b[0;34m(self, *args, **kwds)\u001b[0m\n\u001b[1;32m    917\u001b[0m           )\n\u001b[1;32m    918\u001b[0m       )\n\u001b[0;32m--> 919\u001b[0;31m       return self._concrete_variable_creation_fn._call_flat(  # pylint: disable=protected-access\n\u001b[0m\u001b[1;32m    920\u001b[0m           \u001b[0mfiltered_flat_args\u001b[0m\u001b[0;34m,\u001b[0m\u001b[0;34m\u001b[0m\u001b[0;34m\u001b[0m\u001b[0m\n\u001b[1;32m    921\u001b[0m           \u001b[0mself\u001b[0m\u001b[0;34m.\u001b[0m\u001b[0m_concrete_variable_creation_fn\u001b[0m\u001b[0;34m.\u001b[0m\u001b[0mcaptured_inputs\u001b[0m\u001b[0;34m,\u001b[0m\u001b[0;34m\u001b[0m\u001b[0;34m\u001b[0m\u001b[0m\n",
            "\u001b[0;32m/usr/local/lib/python3.10/dist-packages/tensorflow/python/eager/polymorphic_function/concrete_function.py\u001b[0m in \u001b[0;36m_call_flat\u001b[0;34m(self, tensor_inputs, captured_inputs)\u001b[0m\n\u001b[1;32m   1320\u001b[0m         and executing_eagerly):\n\u001b[1;32m   1321\u001b[0m       \u001b[0;31m# No tape is watching; skip to running the function.\u001b[0m\u001b[0;34m\u001b[0m\u001b[0;34m\u001b[0m\u001b[0m\n\u001b[0;32m-> 1322\u001b[0;31m       \u001b[0;32mreturn\u001b[0m \u001b[0mself\u001b[0m\u001b[0;34m.\u001b[0m\u001b[0m_inference_function\u001b[0m\u001b[0;34m.\u001b[0m\u001b[0mcall_preflattened\u001b[0m\u001b[0;34m(\u001b[0m\u001b[0margs\u001b[0m\u001b[0;34m)\u001b[0m\u001b[0;34m\u001b[0m\u001b[0;34m\u001b[0m\u001b[0m\n\u001b[0m\u001b[1;32m   1323\u001b[0m     forward_backward = self._select_forward_and_backward_functions(\n\u001b[1;32m   1324\u001b[0m         \u001b[0margs\u001b[0m\u001b[0;34m,\u001b[0m\u001b[0;34m\u001b[0m\u001b[0;34m\u001b[0m\u001b[0m\n",
            "\u001b[0;32m/usr/local/lib/python3.10/dist-packages/tensorflow/python/eager/polymorphic_function/atomic_function.py\u001b[0m in \u001b[0;36mcall_preflattened\u001b[0;34m(self, args)\u001b[0m\n\u001b[1;32m    214\u001b[0m   \u001b[0;32mdef\u001b[0m \u001b[0mcall_preflattened\u001b[0m\u001b[0;34m(\u001b[0m\u001b[0mself\u001b[0m\u001b[0;34m,\u001b[0m \u001b[0margs\u001b[0m\u001b[0;34m:\u001b[0m \u001b[0mSequence\u001b[0m\u001b[0;34m[\u001b[0m\u001b[0mcore\u001b[0m\u001b[0;34m.\u001b[0m\u001b[0mTensor\u001b[0m\u001b[0;34m]\u001b[0m\u001b[0;34m)\u001b[0m \u001b[0;34m->\u001b[0m \u001b[0mAny\u001b[0m\u001b[0;34m:\u001b[0m\u001b[0;34m\u001b[0m\u001b[0;34m\u001b[0m\u001b[0m\n\u001b[1;32m    215\u001b[0m     \u001b[0;34m\"\"\"Calls with flattened tensor inputs and returns the structured output.\"\"\"\u001b[0m\u001b[0;34m\u001b[0m\u001b[0;34m\u001b[0m\u001b[0m\n\u001b[0;32m--> 216\u001b[0;31m     \u001b[0mflat_outputs\u001b[0m \u001b[0;34m=\u001b[0m \u001b[0mself\u001b[0m\u001b[0;34m.\u001b[0m\u001b[0mcall_flat\u001b[0m\u001b[0;34m(\u001b[0m\u001b[0;34m*\u001b[0m\u001b[0margs\u001b[0m\u001b[0;34m)\u001b[0m\u001b[0;34m\u001b[0m\u001b[0;34m\u001b[0m\u001b[0m\n\u001b[0m\u001b[1;32m    217\u001b[0m     \u001b[0;32mreturn\u001b[0m \u001b[0mself\u001b[0m\u001b[0;34m.\u001b[0m\u001b[0mfunction_type\u001b[0m\u001b[0;34m.\u001b[0m\u001b[0mpack_output\u001b[0m\u001b[0;34m(\u001b[0m\u001b[0mflat_outputs\u001b[0m\u001b[0;34m)\u001b[0m\u001b[0;34m\u001b[0m\u001b[0;34m\u001b[0m\u001b[0m\n\u001b[1;32m    218\u001b[0m \u001b[0;34m\u001b[0m\u001b[0m\n",
            "\u001b[0;32m/usr/local/lib/python3.10/dist-packages/tensorflow/python/eager/polymorphic_function/atomic_function.py\u001b[0m in \u001b[0;36mcall_flat\u001b[0;34m(self, *args)\u001b[0m\n\u001b[1;32m    249\u001b[0m         \u001b[0;32mwith\u001b[0m \u001b[0mrecord\u001b[0m\u001b[0;34m.\u001b[0m\u001b[0mstop_recording\u001b[0m\u001b[0;34m(\u001b[0m\u001b[0;34m)\u001b[0m\u001b[0;34m:\u001b[0m\u001b[0;34m\u001b[0m\u001b[0;34m\u001b[0m\u001b[0m\n\u001b[1;32m    250\u001b[0m           \u001b[0;32mif\u001b[0m \u001b[0mself\u001b[0m\u001b[0;34m.\u001b[0m\u001b[0m_bound_context\u001b[0m\u001b[0;34m.\u001b[0m\u001b[0mexecuting_eagerly\u001b[0m\u001b[0;34m(\u001b[0m\u001b[0;34m)\u001b[0m\u001b[0;34m:\u001b[0m\u001b[0;34m\u001b[0m\u001b[0;34m\u001b[0m\u001b[0m\n\u001b[0;32m--> 251\u001b[0;31m             outputs = self._bound_context.call_function(\n\u001b[0m\u001b[1;32m    252\u001b[0m                 \u001b[0mself\u001b[0m\u001b[0;34m.\u001b[0m\u001b[0mname\u001b[0m\u001b[0;34m,\u001b[0m\u001b[0;34m\u001b[0m\u001b[0;34m\u001b[0m\u001b[0m\n\u001b[1;32m    253\u001b[0m                 \u001b[0mlist\u001b[0m\u001b[0;34m(\u001b[0m\u001b[0margs\u001b[0m\u001b[0;34m)\u001b[0m\u001b[0;34m,\u001b[0m\u001b[0;34m\u001b[0m\u001b[0;34m\u001b[0m\u001b[0m\n",
            "\u001b[0;32m/usr/local/lib/python3.10/dist-packages/tensorflow/python/eager/context.py\u001b[0m in \u001b[0;36mcall_function\u001b[0;34m(self, name, tensor_inputs, num_outputs)\u001b[0m\n\u001b[1;32m   1550\u001b[0m     \u001b[0mcancellation_context\u001b[0m \u001b[0;34m=\u001b[0m \u001b[0mcancellation\u001b[0m\u001b[0;34m.\u001b[0m\u001b[0mcontext\u001b[0m\u001b[0;34m(\u001b[0m\u001b[0;34m)\u001b[0m\u001b[0;34m\u001b[0m\u001b[0;34m\u001b[0m\u001b[0m\n\u001b[1;32m   1551\u001b[0m     \u001b[0;32mif\u001b[0m \u001b[0mcancellation_context\u001b[0m \u001b[0;32mis\u001b[0m \u001b[0;32mNone\u001b[0m\u001b[0;34m:\u001b[0m\u001b[0;34m\u001b[0m\u001b[0;34m\u001b[0m\u001b[0m\n\u001b[0;32m-> 1552\u001b[0;31m       outputs = execute.execute(\n\u001b[0m\u001b[1;32m   1553\u001b[0m           \u001b[0mname\u001b[0m\u001b[0;34m.\u001b[0m\u001b[0mdecode\u001b[0m\u001b[0;34m(\u001b[0m\u001b[0;34m\"utf-8\"\u001b[0m\u001b[0;34m)\u001b[0m\u001b[0;34m,\u001b[0m\u001b[0;34m\u001b[0m\u001b[0;34m\u001b[0m\u001b[0m\n\u001b[1;32m   1554\u001b[0m           \u001b[0mnum_outputs\u001b[0m\u001b[0;34m=\u001b[0m\u001b[0mnum_outputs\u001b[0m\u001b[0;34m,\u001b[0m\u001b[0;34m\u001b[0m\u001b[0;34m\u001b[0m\u001b[0m\n",
            "\u001b[0;32m/usr/local/lib/python3.10/dist-packages/tensorflow/python/eager/execute.py\u001b[0m in \u001b[0;36mquick_execute\u001b[0;34m(op_name, num_outputs, inputs, attrs, ctx, name)\u001b[0m\n\u001b[1;32m     51\u001b[0m   \u001b[0;32mtry\u001b[0m\u001b[0;34m:\u001b[0m\u001b[0;34m\u001b[0m\u001b[0;34m\u001b[0m\u001b[0m\n\u001b[1;32m     52\u001b[0m     \u001b[0mctx\u001b[0m\u001b[0;34m.\u001b[0m\u001b[0mensure_initialized\u001b[0m\u001b[0;34m(\u001b[0m\u001b[0;34m)\u001b[0m\u001b[0;34m\u001b[0m\u001b[0;34m\u001b[0m\u001b[0m\n\u001b[0;32m---> 53\u001b[0;31m     tensors = pywrap_tfe.TFE_Py_Execute(ctx._handle, device_name, op_name,\n\u001b[0m\u001b[1;32m     54\u001b[0m                                         inputs, attrs, num_outputs)\n\u001b[1;32m     55\u001b[0m   \u001b[0;32mexcept\u001b[0m \u001b[0mcore\u001b[0m\u001b[0;34m.\u001b[0m\u001b[0m_NotOkStatusException\u001b[0m \u001b[0;32mas\u001b[0m \u001b[0me\u001b[0m\u001b[0;34m:\u001b[0m\u001b[0;34m\u001b[0m\u001b[0;34m\u001b[0m\u001b[0m\n",
            "\u001b[0;31mKeyboardInterrupt\u001b[0m: "
          ]
        }
      ]
    },
    {
      "cell_type": "code",
      "source": [
        "SET_SIZE = 15_000\n",
        "TRAIN_SET_SIZE = 0.7 * SET_SIZE\n",
        "VAL_SET_SIZE = SET_SIZE - TRAIN_SET_SIZE\n",
        "MIN_SEQ_LEN = 30\n",
        "CLASSES = [1, 25, 19]\n",
        "CLASSES_PERCENTAGE = [1/len(CLASSES) for _ in range(len(CLASSES))]\n",
        "CLASSES_WITH_PERCENTAGE = {cls: percentage for cls, percentage in zip(CLASSES, CLASSES_PERCENTAGE)}\n",
        "TRAIN_CLASSES_WITH_AMOUNT = {cls: int(percentage * TRAIN_SET_SIZE) for cls, percentage in zip(CLASSES, CLASSES_PERCENTAGE)}\n",
        "VAL_CLASSES_WITH_AMOUNT = {cls: int(percentage * VAL_SET_SIZE) for cls, percentage in zip(CLASSES, CLASSES_PERCENTAGE)}\n",
        "\n",
        "\n",
        "train_subset_df = preprocess_df(train_df, TRAIN_CLASSES_WITH_AMOUNT, MIN_SEQ_LEN)\n",
        "val_subset_df = preprocess_df(val_df, VAL_CLASSES_WITH_AMOUNT, MIN_SEQ_LEN)\n",
        "\n",
        "\n",
        "train_ds = create_pipeline(\n",
        "    train_subset_df,\n",
        "    num_classes=PipelineConfig.NUM_CLASSES,\n",
        "    image_input_shape=PipelineConfig.IMAGE_INPUT_SHAPE,\n",
        "    seq_len=PipelineConfig.SEQ_LEN,\n",
        "    batch_size=PipelineConfig.BATCH_SIZE\n",
        ")\n",
        "\n",
        "val_ds = create_pipeline(\n",
        "    val_subset_df,\n",
        "    num_classes=PipelineConfig.NUM_CLASSES,\n",
        "    image_input_shape=PipelineConfig.IMAGE_INPUT_SHAPE,\n",
        "    seq_len=PipelineConfig.SEQ_LEN,\n",
        "    batch_size=PipelineConfig.BATCH_SIZE\n",
        ")\n",
        "\n",
        "\n",
        "lstm_model = build_lstm_model(input_shape=MODEL_INPUT_SHAPE, num_classes=len(CLASSES))\n",
        "\n",
        "lstm_model.compile(\n",
        "    optimizer=\"adam\",\n",
        "    loss=\"categorical_crossentropy\",\n",
        "    metrics=[\"accuracy\"]\n",
        ")\n",
        "\n",
        "early_stopping_callback = tf.keras.callbacks.EarlyStopping(\n",
        "    patience = 10,\n",
        "    monitor = 'val_loss',\n",
        "    mode=\"min\"\n",
        ")\n",
        "\n",
        "checkpoint_callback = keras.callbacks.ModelCheckpoint(\n",
        "    'model_2.keras',\n",
        "    save_best_only=True,\n",
        "    monitor='val_accuracy',\n",
        "    mode='max'\n",
        ")\n",
        "\n",
        "history = lstm_model.fit(train_ds, epochs=50, validation_data=val_ds, batch_size=PipelineConfig.BATCH_SIZE, callbacks=[early_stopping_callback, checkpoint_callback])\n"
      ],
      "metadata": {
        "id": "VHjPn0zZTFSb"
      },
      "execution_count": null,
      "outputs": []
    },
    {
      "cell_type": "code",
      "source": [],
      "metadata": {
        "id": "tSBkUUvXUJlg"
      },
      "execution_count": null,
      "outputs": []
    }
  ]
}